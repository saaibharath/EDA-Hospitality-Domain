{
  "cells": [
    {
      "cell_type": "markdown",
      "metadata": {
        "id": "view-in-github",
        "colab_type": "text"
      },
      "source": [
        "<a href=\"https://colab.research.google.com/github/saaibharath/EDA-Hospitality-Domain/blob/main/EDA_Hospitality_Domain.ipynb\" target=\"_parent\"><img src=\"https://colab.research.google.com/assets/colab-badge.svg\" alt=\"Open In Colab\"/></a>"
      ]
    },
    {
      "cell_type": "markdown",
      "id": "392391c4-bcc5-45a5-a5cc-e598cca09816",
      "metadata": {
        "id": "392391c4-bcc5-45a5-a5cc-e598cca09816"
      },
      "source": [
        "**1. Data Import and Exploration**"
      ]
    },
    {
      "cell_type": "code",
      "execution_count": null,
      "id": "a83e3da1-6c21-4f6d-91c9-edda3625bfeb",
      "metadata": {
        "id": "a83e3da1-6c21-4f6d-91c9-edda3625bfeb"
      },
      "outputs": [],
      "source": [
        "#Data import and Exploration\n",
        "import pandas as pd"
      ]
    },
    {
      "cell_type": "markdown",
      "id": "b3c03977-325c-4ff8-b1bb-0cf645cf98ea",
      "metadata": {
        "id": "b3c03977-325c-4ff8-b1bb-0cf645cf98ea"
      },
      "source": [
        "**Exploring bookings data**"
      ]
    },
    {
      "cell_type": "code",
      "execution_count": null,
      "id": "71cfccb4-f016-4e9c-9ebd-324c9093d7fc",
      "metadata": {
        "id": "71cfccb4-f016-4e9c-9ebd-324c9093d7fc",
        "outputId": "3a001ad2-d341-4c9b-b897-a179134918f6"
      },
      "outputs": [
        {
          "data": {
            "text/html": [
              "<div>\n",
              "<style scoped>\n",
              "    .dataframe tbody tr th:only-of-type {\n",
              "        vertical-align: middle;\n",
              "    }\n",
              "\n",
              "    .dataframe tbody tr th {\n",
              "        vertical-align: top;\n",
              "    }\n",
              "\n",
              "    .dataframe thead th {\n",
              "        text-align: right;\n",
              "    }\n",
              "</style>\n",
              "<table border=\"1\" class=\"dataframe\">\n",
              "  <thead>\n",
              "    <tr style=\"text-align: right;\">\n",
              "      <th></th>\n",
              "      <th>booking_id</th>\n",
              "      <th>property_id</th>\n",
              "      <th>booking_date</th>\n",
              "      <th>check_in_date</th>\n",
              "      <th>checkout_date</th>\n",
              "      <th>no_guests</th>\n",
              "      <th>room_category</th>\n",
              "      <th>booking_platform</th>\n",
              "      <th>ratings_given</th>\n",
              "      <th>booking_status</th>\n",
              "      <th>revenue_generated</th>\n",
              "      <th>revenue_realized</th>\n",
              "    </tr>\n",
              "  </thead>\n",
              "  <tbody>\n",
              "    <tr>\n",
              "      <th>0</th>\n",
              "      <td>May012216558RT11</td>\n",
              "      <td>16558</td>\n",
              "      <td>27-04-22</td>\n",
              "      <td>1/5/2022</td>\n",
              "      <td>2/5/2022</td>\n",
              "      <td>-3.0</td>\n",
              "      <td>RT1</td>\n",
              "      <td>direct online</td>\n",
              "      <td>1.0</td>\n",
              "      <td>Checked Out</td>\n",
              "      <td>10010</td>\n",
              "      <td>10010</td>\n",
              "    </tr>\n",
              "    <tr>\n",
              "      <th>1</th>\n",
              "      <td>May012216558RT12</td>\n",
              "      <td>16558</td>\n",
              "      <td>30-04-22</td>\n",
              "      <td>1/5/2022</td>\n",
              "      <td>2/5/2022</td>\n",
              "      <td>2.0</td>\n",
              "      <td>RT1</td>\n",
              "      <td>others</td>\n",
              "      <td>NaN</td>\n",
              "      <td>Cancelled</td>\n",
              "      <td>9100</td>\n",
              "      <td>3640</td>\n",
              "    </tr>\n",
              "    <tr>\n",
              "      <th>2</th>\n",
              "      <td>May012216558RT13</td>\n",
              "      <td>16558</td>\n",
              "      <td>28-04-22</td>\n",
              "      <td>1/5/2022</td>\n",
              "      <td>4/5/2022</td>\n",
              "      <td>2.0</td>\n",
              "      <td>RT1</td>\n",
              "      <td>logtrip</td>\n",
              "      <td>5.0</td>\n",
              "      <td>Checked Out</td>\n",
              "      <td>9100000</td>\n",
              "      <td>9100</td>\n",
              "    </tr>\n",
              "    <tr>\n",
              "      <th>3</th>\n",
              "      <td>May012216558RT14</td>\n",
              "      <td>16558</td>\n",
              "      <td>28-04-22</td>\n",
              "      <td>1/5/2022</td>\n",
              "      <td>2/5/2022</td>\n",
              "      <td>-2.0</td>\n",
              "      <td>RT1</td>\n",
              "      <td>others</td>\n",
              "      <td>NaN</td>\n",
              "      <td>Cancelled</td>\n",
              "      <td>9100</td>\n",
              "      <td>3640</td>\n",
              "    </tr>\n",
              "    <tr>\n",
              "      <th>4</th>\n",
              "      <td>May012216558RT15</td>\n",
              "      <td>16558</td>\n",
              "      <td>27-04-22</td>\n",
              "      <td>1/5/2022</td>\n",
              "      <td>2/5/2022</td>\n",
              "      <td>4.0</td>\n",
              "      <td>RT1</td>\n",
              "      <td>direct online</td>\n",
              "      <td>5.0</td>\n",
              "      <td>Checked Out</td>\n",
              "      <td>10920</td>\n",
              "      <td>10920</td>\n",
              "    </tr>\n",
              "  </tbody>\n",
              "</table>\n",
              "</div>"
            ],
            "text/plain": [
              "         booking_id  property_id booking_date check_in_date checkout_date  \\\n",
              "0  May012216558RT11        16558     27-04-22      1/5/2022      2/5/2022   \n",
              "1  May012216558RT12        16558     30-04-22      1/5/2022      2/5/2022   \n",
              "2  May012216558RT13        16558     28-04-22      1/5/2022      4/5/2022   \n",
              "3  May012216558RT14        16558     28-04-22      1/5/2022      2/5/2022   \n",
              "4  May012216558RT15        16558     27-04-22      1/5/2022      2/5/2022   \n",
              "\n",
              "   no_guests room_category booking_platform  ratings_given booking_status  \\\n",
              "0       -3.0           RT1    direct online            1.0    Checked Out   \n",
              "1        2.0           RT1           others            NaN      Cancelled   \n",
              "2        2.0           RT1          logtrip            5.0    Checked Out   \n",
              "3       -2.0           RT1           others            NaN      Cancelled   \n",
              "4        4.0           RT1    direct online            5.0    Checked Out   \n",
              "\n",
              "   revenue_generated  revenue_realized  \n",
              "0              10010             10010  \n",
              "1               9100              3640  \n",
              "2            9100000              9100  \n",
              "3               9100              3640  \n",
              "4              10920             10920  "
            ]
          },
          "execution_count": 3,
          "metadata": {},
          "output_type": "execute_result"
        }
      ],
      "source": [
        "df_bookings = pd.read_csv(\"datasets/fact_bookings.csv\")\n",
        "df_bookings.head()"
      ]
    },
    {
      "cell_type": "code",
      "execution_count": null,
      "id": "72c92d54-6504-4eac-9f35-43fe67d2a53a",
      "metadata": {
        "id": "72c92d54-6504-4eac-9f35-43fe67d2a53a",
        "outputId": "327ca8bd-b3e2-4f74-809d-8b9d8a44359c"
      },
      "outputs": [
        {
          "data": {
            "text/plain": [
              "(134590, 12)"
            ]
          },
          "execution_count": 4,
          "metadata": {},
          "output_type": "execute_result"
        }
      ],
      "source": [
        "df_bookings.shape"
      ]
    },
    {
      "cell_type": "code",
      "execution_count": null,
      "id": "f4506713-10d3-4453-a95a-f8052d8ca3ce",
      "metadata": {
        "id": "f4506713-10d3-4453-a95a-f8052d8ca3ce",
        "outputId": "e82122f3-ad50-4941-e195-3fd92963b4e3"
      },
      "outputs": [
        {
          "data": {
            "text/plain": [
              "array(['RT1', 'RT2', 'RT3', 'RT4'], dtype=object)"
            ]
          },
          "execution_count": 5,
          "metadata": {},
          "output_type": "execute_result"
        }
      ],
      "source": [
        "df_bookings.room_category.unique()"
      ]
    },
    {
      "cell_type": "code",
      "execution_count": null,
      "id": "5732137a-041f-4cd4-8e89-aa69156d4be4",
      "metadata": {
        "id": "5732137a-041f-4cd4-8e89-aa69156d4be4",
        "outputId": "f0f38c76-d0a0-4298-c524-b76580bf4324"
      },
      "outputs": [
        {
          "data": {
            "text/plain": [
              "array(['direct online', 'others', 'logtrip', 'tripster', 'makeyourtrip',\n",
              "       'journey', 'direct offline'], dtype=object)"
            ]
          },
          "execution_count": 6,
          "metadata": {},
          "output_type": "execute_result"
        }
      ],
      "source": [
        "df_bookings.booking_platform.unique()"
      ]
    },
    {
      "cell_type": "code",
      "execution_count": null,
      "id": "550c993b-e40f-45d0-8b1f-7f33a2693600",
      "metadata": {
        "id": "550c993b-e40f-45d0-8b1f-7f33a2693600",
        "outputId": "78f383f6-a388-45c2-99ac-7e2a5491540d"
      },
      "outputs": [
        {
          "data": {
            "text/plain": [
              "booking_platform\n",
              "others            55066\n",
              "makeyourtrip      26898\n",
              "logtrip           14756\n",
              "direct online     13379\n",
              "tripster           9630\n",
              "journey            8106\n",
              "direct offline     6755\n",
              "Name: count, dtype: int64"
            ]
          },
          "execution_count": 7,
          "metadata": {},
          "output_type": "execute_result"
        }
      ],
      "source": [
        "df_bookings.booking_platform.value_counts()"
      ]
    },
    {
      "cell_type": "code",
      "execution_count": null,
      "id": "78c8fdd9-4e1e-413e-a249-1d478c34ca24",
      "metadata": {
        "id": "78c8fdd9-4e1e-413e-a249-1d478c34ca24",
        "outputId": "c7ae8450-f6f7-4a5f-ac74-7313f2800c47"
      },
      "outputs": [
        {
          "data": {
            "text/plain": [
              "<Axes: ylabel='booking_platform'>"
            ]
          },
          "execution_count": 8,
          "metadata": {},
          "output_type": "execute_result"
        },
        {
          "data": {
            "image/png": "[encoded data removed]",
            "text/plain": [
              "<Figure size 640x480 with 1 Axes>"
            ]
          },
          "metadata": {},
          "output_type": "display_data"
        }
      ],
      "source": [
        "df_bookings.booking_platform.value_counts().plot(kind=\"barh\")"
      ]
    },
    {
      "cell_type": "code",
      "execution_count": null,
      "id": "515fbef8-3651-4cc5-90cb-801aec8f4e76",
      "metadata": {
        "id": "515fbef8-3651-4cc5-90cb-801aec8f4e76",
        "outputId": "9124479c-98e3-4ea6-8fad-866c840fb497"
      },
      "outputs": [
        {
          "data": {
            "text/html": [
              "<div>\n",
              "<style scoped>\n",
              "    .dataframe tbody tr th:only-of-type {\n",
              "        vertical-align: middle;\n",
              "    }\n",
              "\n",
              "    .dataframe tbody tr th {\n",
              "        vertical-align: top;\n",
              "    }\n",
              "\n",
              "    .dataframe thead th {\n",
              "        text-align: right;\n",
              "    }\n",
              "</style>\n",
              "<table border=\"1\" class=\"dataframe\">\n",
              "  <thead>\n",
              "    <tr style=\"text-align: right;\">\n",
              "      <th></th>\n",
              "      <th>property_id</th>\n",
              "      <th>no_guests</th>\n",
              "      <th>ratings_given</th>\n",
              "      <th>revenue_generated</th>\n",
              "      <th>revenue_realized</th>\n",
              "    </tr>\n",
              "  </thead>\n",
              "  <tbody>\n",
              "    <tr>\n",
              "      <th>count</th>\n",
              "      <td>134590.000000</td>\n",
              "      <td>134587.000000</td>\n",
              "      <td>56683.000000</td>\n",
              "      <td>1.345900e+05</td>\n",
              "      <td>134590.000000</td>\n",
              "    </tr>\n",
              "    <tr>\n",
              "      <th>mean</th>\n",
              "      <td>18061.113493</td>\n",
              "      <td>2.036170</td>\n",
              "      <td>3.619004</td>\n",
              "      <td>1.537805e+04</td>\n",
              "      <td>12696.123256</td>\n",
              "    </tr>\n",
              "    <tr>\n",
              "      <th>std</th>\n",
              "      <td>1093.055847</td>\n",
              "      <td>1.034885</td>\n",
              "      <td>1.235009</td>\n",
              "      <td>9.303604e+04</td>\n",
              "      <td>6928.108124</td>\n",
              "    </tr>\n",
              "    <tr>\n",
              "      <th>min</th>\n",
              "      <td>16558.000000</td>\n",
              "      <td>-17.000000</td>\n",
              "      <td>1.000000</td>\n",
              "      <td>6.500000e+03</td>\n",
              "      <td>2600.000000</td>\n",
              "    </tr>\n",
              "    <tr>\n",
              "      <th>25%</th>\n",
              "      <td>17558.000000</td>\n",
              "      <td>1.000000</td>\n",
              "      <td>3.000000</td>\n",
              "      <td>9.900000e+03</td>\n",
              "      <td>7600.000000</td>\n",
              "    </tr>\n",
              "    <tr>\n",
              "      <th>50%</th>\n",
              "      <td>17564.000000</td>\n",
              "      <td>2.000000</td>\n",
              "      <td>4.000000</td>\n",
              "      <td>1.350000e+04</td>\n",
              "      <td>11700.000000</td>\n",
              "    </tr>\n",
              "    <tr>\n",
              "      <th>75%</th>\n",
              "      <td>18563.000000</td>\n",
              "      <td>2.000000</td>\n",
              "      <td>5.000000</td>\n",
              "      <td>1.800000e+04</td>\n",
              "      <td>15300.000000</td>\n",
              "    </tr>\n",
              "    <tr>\n",
              "      <th>max</th>\n",
              "      <td>19563.000000</td>\n",
              "      <td>6.000000</td>\n",
              "      <td>5.000000</td>\n",
              "      <td>2.856000e+07</td>\n",
              "      <td>45220.000000</td>\n",
              "    </tr>\n",
              "  </tbody>\n",
              "</table>\n",
              "</div>"
            ],
            "text/plain": [
              "         property_id      no_guests  ratings_given  revenue_generated  \\\n",
              "count  134590.000000  134587.000000   56683.000000       1.345900e+05   \n",
              "mean    18061.113493       2.036170       3.619004       1.537805e+04   \n",
              "std      1093.055847       1.034885       1.235009       9.303604e+04   \n",
              "min     16558.000000     -17.000000       1.000000       6.500000e+03   \n",
              "25%     17558.000000       1.000000       3.000000       9.900000e+03   \n",
              "50%     17564.000000       2.000000       4.000000       1.350000e+04   \n",
              "75%     18563.000000       2.000000       5.000000       1.800000e+04   \n",
              "max     19563.000000       6.000000       5.000000       2.856000e+07   \n",
              "\n",
              "       revenue_realized  \n",
              "count     134590.000000  \n",
              "mean       12696.123256  \n",
              "std         6928.108124  \n",
              "min         2600.000000  \n",
              "25%         7600.000000  \n",
              "50%        11700.000000  \n",
              "75%        15300.000000  \n",
              "max        45220.000000  "
            ]
          },
          "execution_count": 9,
          "metadata": {},
          "output_type": "execute_result"
        }
      ],
      "source": [
        "df_bookings.describe()"
      ]
    },
    {
      "cell_type": "markdown",
      "id": "1de5d2bf-f7b8-4f49-977e-3143bf5b4735",
      "metadata": {
        "id": "1de5d2bf-f7b8-4f49-977e-3143bf5b4735"
      },
      "source": [
        "**Reading other files**"
      ]
    },
    {
      "cell_type": "code",
      "execution_count": null,
      "id": "a36a2daa-4210-4164-a36d-6bf092c18c6d",
      "metadata": {
        "id": "a36a2daa-4210-4164-a36d-6bf092c18c6d"
      },
      "outputs": [],
      "source": [
        "df_date = pd.read_csv('datasets/dim_date.csv')\n",
        "df_hotels = pd.read_csv('datasets/dim_hotels.csv')\n",
        "df_rooms = pd.read_csv('datasets/dim_rooms.csv')\n",
        "df_agg_bookings = pd.read_csv('datasets/fact_aggregated_bookings.csv')"
      ]
    },
    {
      "cell_type": "code",
      "execution_count": null,
      "id": "29f85c6d-aca2-4443-8878-c0bb626a41a1",
      "metadata": {
        "id": "29f85c6d-aca2-4443-8878-c0bb626a41a1",
        "outputId": "710acbbf-a428-4fc0-ed57-2156a7f87bcb"
      },
      "outputs": [
        {
          "data": {
            "text/plain": [
              "(25, 4)"
            ]
          },
          "execution_count": 11,
          "metadata": {},
          "output_type": "execute_result"
        }
      ],
      "source": [
        "df_hotels.shape"
      ]
    },
    {
      "cell_type": "code",
      "execution_count": null,
      "id": "008afa29-bc5d-46ca-a0d7-df3248bef141",
      "metadata": {
        "id": "008afa29-bc5d-46ca-a0d7-df3248bef141",
        "outputId": "bc49adb3-4de8-4307-bbcb-9887858904be"
      },
      "outputs": [
        {
          "data": {
            "text/html": [
              "<div>\n",
              "<style scoped>\n",
              "    .dataframe tbody tr th:only-of-type {\n",
              "        vertical-align: middle;\n",
              "    }\n",
              "\n",
              "    .dataframe tbody tr th {\n",
              "        vertical-align: top;\n",
              "    }\n",
              "\n",
              "    .dataframe thead th {\n",
              "        text-align: right;\n",
              "    }\n",
              "</style>\n",
              "<table border=\"1\" class=\"dataframe\">\n",
              "  <thead>\n",
              "    <tr style=\"text-align: right;\">\n",
              "      <th></th>\n",
              "      <th>property_id</th>\n",
              "      <th>property_name</th>\n",
              "      <th>category</th>\n",
              "      <th>city</th>\n",
              "    </tr>\n",
              "  </thead>\n",
              "  <tbody>\n",
              "    <tr>\n",
              "      <th>0</th>\n",
              "      <td>16558</td>\n",
              "      <td>Atliq Grands</td>\n",
              "      <td>Luxury</td>\n",
              "      <td>Delhi</td>\n",
              "    </tr>\n",
              "    <tr>\n",
              "      <th>1</th>\n",
              "      <td>16559</td>\n",
              "      <td>Atliq Exotica</td>\n",
              "      <td>Luxury</td>\n",
              "      <td>Mumbai</td>\n",
              "    </tr>\n",
              "    <tr>\n",
              "      <th>2</th>\n",
              "      <td>16560</td>\n",
              "      <td>Atliq City</td>\n",
              "      <td>Business</td>\n",
              "      <td>Delhi</td>\n",
              "    </tr>\n",
              "    <tr>\n",
              "      <th>3</th>\n",
              "      <td>16561</td>\n",
              "      <td>Atliq Blu</td>\n",
              "      <td>Luxury</td>\n",
              "      <td>Delhi</td>\n",
              "    </tr>\n",
              "    <tr>\n",
              "      <th>4</th>\n",
              "      <td>16562</td>\n",
              "      <td>Atliq Bay</td>\n",
              "      <td>Luxury</td>\n",
              "      <td>Delhi</td>\n",
              "    </tr>\n",
              "    <tr>\n",
              "      <th>5</th>\n",
              "      <td>16563</td>\n",
              "      <td>Atliq Palace</td>\n",
              "      <td>Business</td>\n",
              "      <td>Delhi</td>\n",
              "    </tr>\n",
              "    <tr>\n",
              "      <th>6</th>\n",
              "      <td>17558</td>\n",
              "      <td>Atliq Grands</td>\n",
              "      <td>Luxury</td>\n",
              "      <td>Mumbai</td>\n",
              "    </tr>\n",
              "    <tr>\n",
              "      <th>7</th>\n",
              "      <td>17559</td>\n",
              "      <td>Atliq Exotica</td>\n",
              "      <td>Luxury</td>\n",
              "      <td>Mumbai</td>\n",
              "    </tr>\n",
              "    <tr>\n",
              "      <th>8</th>\n",
              "      <td>17560</td>\n",
              "      <td>Atliq City</td>\n",
              "      <td>Business</td>\n",
              "      <td>Mumbai</td>\n",
              "    </tr>\n",
              "    <tr>\n",
              "      <th>9</th>\n",
              "      <td>17561</td>\n",
              "      <td>Atliq Blu</td>\n",
              "      <td>Luxury</td>\n",
              "      <td>Mumbai</td>\n",
              "    </tr>\n",
              "  </tbody>\n",
              "</table>\n",
              "</div>"
            ],
            "text/plain": [
              "   property_id  property_name  category    city\n",
              "0        16558   Atliq Grands    Luxury   Delhi\n",
              "1        16559  Atliq Exotica    Luxury  Mumbai\n",
              "2        16560     Atliq City  Business   Delhi\n",
              "3        16561      Atliq Blu    Luxury   Delhi\n",
              "4        16562      Atliq Bay    Luxury   Delhi\n",
              "5        16563   Atliq Palace  Business   Delhi\n",
              "6        17558   Atliq Grands    Luxury  Mumbai\n",
              "7        17559  Atliq Exotica    Luxury  Mumbai\n",
              "8        17560     Atliq City  Business  Mumbai\n",
              "9        17561      Atliq Blu    Luxury  Mumbai"
            ]
          },
          "execution_count": 12,
          "metadata": {},
          "output_type": "execute_result"
        }
      ],
      "source": [
        "df_hotels.head(10)"
      ]
    },
    {
      "cell_type": "code",
      "execution_count": null,
      "id": "5c483c2c-0d0b-4d00-823b-8b488bb582ff",
      "metadata": {
        "id": "5c483c2c-0d0b-4d00-823b-8b488bb582ff",
        "outputId": "7dc06684-1439-461a-851d-332f86ec0f34"
      },
      "outputs": [
        {
          "data": {
            "text/plain": [
              "category\n",
              "Luxury      16\n",
              "Business     9\n",
              "Name: count, dtype: int64"
            ]
          },
          "execution_count": 13,
          "metadata": {},
          "output_type": "execute_result"
        }
      ],
      "source": [
        "df_hotels[\"category\"].value_counts()"
      ]
    },
    {
      "cell_type": "code",
      "execution_count": null,
      "id": "bc30b64e-873b-4539-8d0d-d0add1bb6684",
      "metadata": {
        "id": "bc30b64e-873b-4539-8d0d-d0add1bb6684",
        "outputId": "0762ea10-5982-4a70-ee86-d7d2b12c6349"
      },
      "outputs": [
        {
          "data": {
            "text/plain": [
              "<Axes: xlabel='city'>"
            ]
          },
          "execution_count": 14,
          "metadata": {},
          "output_type": "execute_result"
        },
        {
          "data": {
            "image/png": "[encoded data removed]",
            "text/plain": [
              "<Figure size 640x480 with 1 Axes>"
            ]
          },
          "metadata": {},
          "output_type": "display_data"
        }
      ],
      "source": [
        "df_hotels.city.value_counts().plot(kind=\"bar\")"
      ]
    },
    {
      "cell_type": "markdown",
      "id": "b497ff78-5c18-43b6-af3f-5baaedbab4f9",
      "metadata": {
        "id": "b497ff78-5c18-43b6-af3f-5baaedbab4f9"
      },
      "source": [
        "**Excercise: Exploring aggregate bookings**"
      ]
    },
    {
      "cell_type": "code",
      "execution_count": null,
      "id": "a68ec547-0499-4181-b8a6-184c3b93a0a6",
      "metadata": {
        "id": "a68ec547-0499-4181-b8a6-184c3b93a0a6",
        "outputId": "222f85c4-1247-491b-c3d7-99675d07a915"
      },
      "outputs": [
        {
          "data": {
            "text/html": [
              "<div>\n",
              "<style scoped>\n",
              "    .dataframe tbody tr th:only-of-type {\n",
              "        vertical-align: middle;\n",
              "    }\n",
              "\n",
              "    .dataframe tbody tr th {\n",
              "        vertical-align: top;\n",
              "    }\n",
              "\n",
              "    .dataframe thead th {\n",
              "        text-align: right;\n",
              "    }\n",
              "</style>\n",
              "<table border=\"1\" class=\"dataframe\">\n",
              "  <thead>\n",
              "    <tr style=\"text-align: right;\">\n",
              "      <th></th>\n",
              "      <th>property_id</th>\n",
              "      <th>check_in_date</th>\n",
              "      <th>room_category</th>\n",
              "      <th>successful_bookings</th>\n",
              "      <th>capacity</th>\n",
              "    </tr>\n",
              "  </thead>\n",
              "  <tbody>\n",
              "    <tr>\n",
              "      <th>0</th>\n",
              "      <td>16559</td>\n",
              "      <td>1-May-22</td>\n",
              "      <td>RT1</td>\n",
              "      <td>25</td>\n",
              "      <td>30.0</td>\n",
              "    </tr>\n",
              "    <tr>\n",
              "      <th>1</th>\n",
              "      <td>19562</td>\n",
              "      <td>1-May-22</td>\n",
              "      <td>RT1</td>\n",
              "      <td>28</td>\n",
              "      <td>30.0</td>\n",
              "    </tr>\n",
              "    <tr>\n",
              "      <th>2</th>\n",
              "      <td>19563</td>\n",
              "      <td>1-May-22</td>\n",
              "      <td>RT1</td>\n",
              "      <td>23</td>\n",
              "      <td>30.0</td>\n",
              "    </tr>\n",
              "    <tr>\n",
              "      <th>3</th>\n",
              "      <td>17558</td>\n",
              "      <td>1-May-22</td>\n",
              "      <td>RT1</td>\n",
              "      <td>30</td>\n",
              "      <td>19.0</td>\n",
              "    </tr>\n",
              "    <tr>\n",
              "      <th>4</th>\n",
              "      <td>16558</td>\n",
              "      <td>1-May-22</td>\n",
              "      <td>RT1</td>\n",
              "      <td>18</td>\n",
              "      <td>19.0</td>\n",
              "    </tr>\n",
              "    <tr>\n",
              "      <th>5</th>\n",
              "      <td>17560</td>\n",
              "      <td>1-May-22</td>\n",
              "      <td>RT1</td>\n",
              "      <td>28</td>\n",
              "      <td>40.0</td>\n",
              "    </tr>\n",
              "    <tr>\n",
              "      <th>6</th>\n",
              "      <td>19558</td>\n",
              "      <td>1-May-22</td>\n",
              "      <td>RT1</td>\n",
              "      <td>25</td>\n",
              "      <td>40.0</td>\n",
              "    </tr>\n",
              "    <tr>\n",
              "      <th>7</th>\n",
              "      <td>19560</td>\n",
              "      <td>1-May-22</td>\n",
              "      <td>RT1</td>\n",
              "      <td>23</td>\n",
              "      <td>26.0</td>\n",
              "    </tr>\n",
              "    <tr>\n",
              "      <th>8</th>\n",
              "      <td>17561</td>\n",
              "      <td>1-May-22</td>\n",
              "      <td>RT1</td>\n",
              "      <td>22</td>\n",
              "      <td>NaN</td>\n",
              "    </tr>\n",
              "    <tr>\n",
              "      <th>9</th>\n",
              "      <td>16560</td>\n",
              "      <td>1-May-22</td>\n",
              "      <td>RT1</td>\n",
              "      <td>24</td>\n",
              "      <td>34.0</td>\n",
              "    </tr>\n",
              "  </tbody>\n",
              "</table>\n",
              "</div>"
            ],
            "text/plain": [
              "   property_id check_in_date room_category  successful_bookings  capacity\n",
              "0        16559      1-May-22           RT1                   25      30.0\n",
              "1        19562      1-May-22           RT1                   28      30.0\n",
              "2        19563      1-May-22           RT1                   23      30.0\n",
              "3        17558      1-May-22           RT1                   30      19.0\n",
              "4        16558      1-May-22           RT1                   18      19.0\n",
              "5        17560      1-May-22           RT1                   28      40.0\n",
              "6        19558      1-May-22           RT1                   25      40.0\n",
              "7        19560      1-May-22           RT1                   23      26.0\n",
              "8        17561      1-May-22           RT1                   22       NaN\n",
              "9        16560      1-May-22           RT1                   24      34.0"
            ]
          },
          "execution_count": 15,
          "metadata": {},
          "output_type": "execute_result"
        }
      ],
      "source": [
        "df_agg_bookings.head(10)"
      ]
    },
    {
      "cell_type": "markdown",
      "id": "127ba408-f449-44f9-9050-fa64d033bdc1",
      "metadata": {
        "id": "127ba408-f449-44f9-9050-fa64d033bdc1"
      },
      "source": [
        "**Finding unique property ids in aggregate bookings dataset**"
      ]
    },
    {
      "cell_type": "code",
      "execution_count": null,
      "id": "89f2fef5-8a76-4001-92b4-b31679ab3bb6",
      "metadata": {
        "id": "89f2fef5-8a76-4001-92b4-b31679ab3bb6",
        "outputId": "8c2cc1ca-0753-49c0-f156-9057b8559448"
      },
      "outputs": [
        {
          "data": {
            "text/plain": [
              "array([16559, 19562, 19563, 17558, 16558, 17560, 19558, 19560, 17561,\n",
              "       16560, 16561, 16562, 16563, 17559, 17562, 17563, 18558, 18559,\n",
              "       18561, 18562, 18563, 19559, 19561, 17564, 18560], dtype=int64)"
            ]
          },
          "execution_count": 16,
          "metadata": {},
          "output_type": "execute_result"
        }
      ],
      "source": [
        "df_agg_bookings.property_id.unique()"
      ]
    },
    {
      "cell_type": "markdown",
      "id": "f8fff694-09f5-47a6-be04-60eefb3b7fb4",
      "metadata": {
        "id": "f8fff694-09f5-47a6-be04-60eefb3b7fb4"
      },
      "source": [
        "**Finding total bookings per property_id**"
      ]
    },
    {
      "cell_type": "code",
      "execution_count": null,
      "id": "bd5d6c64-4aa0-4f61-ba48-d445e9d56b4e",
      "metadata": {
        "scrolled": true,
        "id": "bd5d6c64-4aa0-4f61-ba48-d445e9d56b4e",
        "outputId": "6e17e672-fe31-44a7-849d-1d2b99a7ed1f"
      },
      "outputs": [
        {
          "data": {
            "text/plain": [
              "property_id\n",
              "16558    3153\n",
              "16559    7338\n",
              "16560    4693\n",
              "16561    4418\n",
              "16562    4820\n",
              "16563    7211\n",
              "17558    5053\n",
              "17559    6142\n",
              "17560    6013\n",
              "17561    5183\n",
              "17562    3424\n",
              "17563    6337\n",
              "17564    3982\n",
              "18558    4475\n",
              "18559    5256\n",
              "18560    6638\n",
              "18561    6458\n",
              "18562    7333\n",
              "18563    4737\n",
              "19558    4400\n",
              "19559    4729\n",
              "19560    6079\n",
              "19561    5736\n",
              "19562    5812\n",
              "19563    5413\n",
              "Name: successful_bookings, dtype: int64"
            ]
          },
          "execution_count": 17,
          "metadata": {},
          "output_type": "execute_result"
        }
      ],
      "source": [
        "df_agg_bookings.groupby(\"property_id\")[\"successful_bookings\"].sum()"
      ]
    },
    {
      "cell_type": "markdown",
      "id": "82d604c2-d53f-4739-b952-acec06c834ee",
      "metadata": {
        "id": "82d604c2-d53f-4739-b952-acec06c834ee"
      },
      "source": [
        "**Finding out the days on which bookings are greater than capacity**"
      ]
    },
    {
      "cell_type": "code",
      "execution_count": null,
      "id": "1294e381-4458-40d9-9879-c53b8a959c2f",
      "metadata": {
        "id": "1294e381-4458-40d9-9879-c53b8a959c2f",
        "outputId": "6599acba-d2b9-4d22-a109-85e36c7d49b9"
      },
      "outputs": [
        {
          "data": {
            "text/html": [
              "<div>\n",
              "<style scoped>\n",
              "    .dataframe tbody tr th:only-of-type {\n",
              "        vertical-align: middle;\n",
              "    }\n",
              "\n",
              "    .dataframe tbody tr th {\n",
              "        vertical-align: top;\n",
              "    }\n",
              "\n",
              "    .dataframe thead th {\n",
              "        text-align: right;\n",
              "    }\n",
              "</style>\n",
              "<table border=\"1\" class=\"dataframe\">\n",
              "  <thead>\n",
              "    <tr style=\"text-align: right;\">\n",
              "      <th></th>\n",
              "      <th>property_id</th>\n",
              "      <th>check_in_date</th>\n",
              "      <th>room_category</th>\n",
              "      <th>successful_bookings</th>\n",
              "      <th>capacity</th>\n",
              "    </tr>\n",
              "  </thead>\n",
              "  <tbody>\n",
              "    <tr>\n",
              "      <th>3</th>\n",
              "      <td>17558</td>\n",
              "      <td>1-May-22</td>\n",
              "      <td>RT1</td>\n",
              "      <td>30</td>\n",
              "      <td>19.0</td>\n",
              "    </tr>\n",
              "    <tr>\n",
              "      <th>12</th>\n",
              "      <td>16563</td>\n",
              "      <td>1-May-22</td>\n",
              "      <td>RT1</td>\n",
              "      <td>100</td>\n",
              "      <td>41.0</td>\n",
              "    </tr>\n",
              "    <tr>\n",
              "      <th>4136</th>\n",
              "      <td>19558</td>\n",
              "      <td>11-Jun-22</td>\n",
              "      <td>RT2</td>\n",
              "      <td>50</td>\n",
              "      <td>39.0</td>\n",
              "    </tr>\n",
              "    <tr>\n",
              "      <th>6209</th>\n",
              "      <td>19560</td>\n",
              "      <td>2-Jul-22</td>\n",
              "      <td>RT1</td>\n",
              "      <td>123</td>\n",
              "      <td>26.0</td>\n",
              "    </tr>\n",
              "    <tr>\n",
              "      <th>8522</th>\n",
              "      <td>19559</td>\n",
              "      <td>25-Jul-22</td>\n",
              "      <td>RT1</td>\n",
              "      <td>35</td>\n",
              "      <td>24.0</td>\n",
              "    </tr>\n",
              "    <tr>\n",
              "      <th>9194</th>\n",
              "      <td>18563</td>\n",
              "      <td>31-Jul-22</td>\n",
              "      <td>RT4</td>\n",
              "      <td>20</td>\n",
              "      <td>18.0</td>\n",
              "    </tr>\n",
              "  </tbody>\n",
              "</table>\n",
              "</div>"
            ],
            "text/plain": [
              "      property_id check_in_date room_category  successful_bookings  capacity\n",
              "3           17558      1-May-22           RT1                   30      19.0\n",
              "12          16563      1-May-22           RT1                  100      41.0\n",
              "4136        19558     11-Jun-22           RT2                   50      39.0\n",
              "6209        19560      2-Jul-22           RT1                  123      26.0\n",
              "8522        19559     25-Jul-22           RT1                   35      24.0\n",
              "9194        18563     31-Jul-22           RT4                   20      18.0"
            ]
          },
          "execution_count": 18,
          "metadata": {},
          "output_type": "execute_result"
        }
      ],
      "source": [
        "df_agg_bookings[df_agg_bookings.successful_bookings > df_agg_bookings.capacity]"
      ]
    },
    {
      "cell_type": "markdown",
      "id": "67e7350d-2155-40b9-a212-ea370b91d109",
      "metadata": {
        "id": "67e7350d-2155-40b9-a212-ea370b91d109"
      },
      "source": [
        "**Finding properties that have highest capacity**"
      ]
    },
    {
      "cell_type": "code",
      "execution_count": null,
      "id": "dba8bedf-b13b-47c6-9d13-d909e2483b25",
      "metadata": {
        "id": "dba8bedf-b13b-47c6-9d13-d909e2483b25",
        "outputId": "97f22238-4d3b-4f7e-95ae-7a99c82759ad"
      },
      "outputs": [
        {
          "data": {
            "text/html": [
              "<div>\n",
              "<style scoped>\n",
              "    .dataframe tbody tr th:only-of-type {\n",
              "        vertical-align: middle;\n",
              "    }\n",
              "\n",
              "    .dataframe tbody tr th {\n",
              "        vertical-align: top;\n",
              "    }\n",
              "\n",
              "    .dataframe thead th {\n",
              "        text-align: right;\n",
              "    }\n",
              "</style>\n",
              "<table border=\"1\" class=\"dataframe\">\n",
              "  <thead>\n",
              "    <tr style=\"text-align: right;\">\n",
              "      <th></th>\n",
              "      <th>property_id</th>\n",
              "      <th>check_in_date</th>\n",
              "      <th>room_category</th>\n",
              "      <th>successful_bookings</th>\n",
              "      <th>capacity</th>\n",
              "    </tr>\n",
              "  </thead>\n",
              "  <tbody>\n",
              "    <tr>\n",
              "      <th>27</th>\n",
              "      <td>17558</td>\n",
              "      <td>1-May-22</td>\n",
              "      <td>RT2</td>\n",
              "      <td>38</td>\n",
              "      <td>50.0</td>\n",
              "    </tr>\n",
              "    <tr>\n",
              "      <th>128</th>\n",
              "      <td>17558</td>\n",
              "      <td>2-May-22</td>\n",
              "      <td>RT2</td>\n",
              "      <td>27</td>\n",
              "      <td>50.0</td>\n",
              "    </tr>\n",
              "    <tr>\n",
              "      <th>229</th>\n",
              "      <td>17558</td>\n",
              "      <td>3-May-22</td>\n",
              "      <td>RT2</td>\n",
              "      <td>26</td>\n",
              "      <td>50.0</td>\n",
              "    </tr>\n",
              "    <tr>\n",
              "      <th>328</th>\n",
              "      <td>17558</td>\n",
              "      <td>4-May-22</td>\n",
              "      <td>RT2</td>\n",
              "      <td>27</td>\n",
              "      <td>50.0</td>\n",
              "    </tr>\n",
              "    <tr>\n",
              "      <th>428</th>\n",
              "      <td>17558</td>\n",
              "      <td>5-May-22</td>\n",
              "      <td>RT2</td>\n",
              "      <td>29</td>\n",
              "      <td>50.0</td>\n",
              "    </tr>\n",
              "    <tr>\n",
              "      <th>...</th>\n",
              "      <td>...</td>\n",
              "      <td>...</td>\n",
              "      <td>...</td>\n",
              "      <td>...</td>\n",
              "      <td>...</td>\n",
              "    </tr>\n",
              "    <tr>\n",
              "      <th>8728</th>\n",
              "      <td>17558</td>\n",
              "      <td>27-Jul-22</td>\n",
              "      <td>RT2</td>\n",
              "      <td>22</td>\n",
              "      <td>50.0</td>\n",
              "    </tr>\n",
              "    <tr>\n",
              "      <th>8828</th>\n",
              "      <td>17558</td>\n",
              "      <td>28-Jul-22</td>\n",
              "      <td>RT2</td>\n",
              "      <td>21</td>\n",
              "      <td>50.0</td>\n",
              "    </tr>\n",
              "    <tr>\n",
              "      <th>8928</th>\n",
              "      <td>17558</td>\n",
              "      <td>29-Jul-22</td>\n",
              "      <td>RT2</td>\n",
              "      <td>23</td>\n",
              "      <td>50.0</td>\n",
              "    </tr>\n",
              "    <tr>\n",
              "      <th>9028</th>\n",
              "      <td>17558</td>\n",
              "      <td>30-Jul-22</td>\n",
              "      <td>RT2</td>\n",
              "      <td>32</td>\n",
              "      <td>50.0</td>\n",
              "    </tr>\n",
              "    <tr>\n",
              "      <th>9128</th>\n",
              "      <td>17558</td>\n",
              "      <td>31-Jul-22</td>\n",
              "      <td>RT2</td>\n",
              "      <td>30</td>\n",
              "      <td>50.0</td>\n",
              "    </tr>\n",
              "  </tbody>\n",
              "</table>\n",
              "<p>92 rows × 5 columns</p>\n",
              "</div>"
            ],
            "text/plain": [
              "      property_id check_in_date room_category  successful_bookings  capacity\n",
              "27          17558      1-May-22           RT2                   38      50.0\n",
              "128         17558      2-May-22           RT2                   27      50.0\n",
              "229         17558      3-May-22           RT2                   26      50.0\n",
              "328         17558      4-May-22           RT2                   27      50.0\n",
              "428         17558      5-May-22           RT2                   29      50.0\n",
              "...           ...           ...           ...                  ...       ...\n",
              "8728        17558     27-Jul-22           RT2                   22      50.0\n",
              "8828        17558     28-Jul-22           RT2                   21      50.0\n",
              "8928        17558     29-Jul-22           RT2                   23      50.0\n",
              "9028        17558     30-Jul-22           RT2                   32      50.0\n",
              "9128        17558     31-Jul-22           RT2                   30      50.0\n",
              "\n",
              "[92 rows x 5 columns]"
            ]
          },
          "execution_count": 19,
          "metadata": {},
          "output_type": "execute_result"
        }
      ],
      "source": [
        "df_agg_bookings[df_agg_bookings.capacity == df_agg_bookings.capacity.max()]"
      ]
    },
    {
      "cell_type": "markdown",
      "id": "c44c1e46-b89a-441f-aa20-83b5b8432a8c",
      "metadata": {
        "id": "c44c1e46-b89a-441f-aa20-83b5b8432a8c"
      },
      "source": [
        "**2. Data Cleaning**"
      ]
    },
    {
      "cell_type": "code",
      "execution_count": null,
      "id": "5709eb51-00ed-4179-9757-f24959b59c2a",
      "metadata": {
        "id": "5709eb51-00ed-4179-9757-f24959b59c2a",
        "outputId": "2405da4b-132a-4671-e459-fb8d05cc6641"
      },
      "outputs": [
        {
          "data": {
            "text/html": [
              "<div>\n",
              "<style scoped>\n",
              "    .dataframe tbody tr th:only-of-type {\n",
              "        vertical-align: middle;\n",
              "    }\n",
              "\n",
              "    .dataframe tbody tr th {\n",
              "        vertical-align: top;\n",
              "    }\n",
              "\n",
              "    .dataframe thead th {\n",
              "        text-align: right;\n",
              "    }\n",
              "</style>\n",
              "<table border=\"1\" class=\"dataframe\">\n",
              "  <thead>\n",
              "    <tr style=\"text-align: right;\">\n",
              "      <th></th>\n",
              "      <th>property_id</th>\n",
              "      <th>no_guests</th>\n",
              "      <th>ratings_given</th>\n",
              "      <th>revenue_generated</th>\n",
              "      <th>revenue_realized</th>\n",
              "    </tr>\n",
              "  </thead>\n",
              "  <tbody>\n",
              "    <tr>\n",
              "      <th>count</th>\n",
              "      <td>134590.000000</td>\n",
              "      <td>134587.000000</td>\n",
              "      <td>56683.000000</td>\n",
              "      <td>1.345900e+05</td>\n",
              "      <td>134590.000000</td>\n",
              "    </tr>\n",
              "    <tr>\n",
              "      <th>mean</th>\n",
              "      <td>18061.113493</td>\n",
              "      <td>2.036170</td>\n",
              "      <td>3.619004</td>\n",
              "      <td>1.537805e+04</td>\n",
              "      <td>12696.123256</td>\n",
              "    </tr>\n",
              "    <tr>\n",
              "      <th>std</th>\n",
              "      <td>1093.055847</td>\n",
              "      <td>1.034885</td>\n",
              "      <td>1.235009</td>\n",
              "      <td>9.303604e+04</td>\n",
              "      <td>6928.108124</td>\n",
              "    </tr>\n",
              "    <tr>\n",
              "      <th>min</th>\n",
              "      <td>16558.000000</td>\n",
              "      <td>-17.000000</td>\n",
              "      <td>1.000000</td>\n",
              "      <td>6.500000e+03</td>\n",
              "      <td>2600.000000</td>\n",
              "    </tr>\n",
              "    <tr>\n",
              "      <th>25%</th>\n",
              "      <td>17558.000000</td>\n",
              "      <td>1.000000</td>\n",
              "      <td>3.000000</td>\n",
              "      <td>9.900000e+03</td>\n",
              "      <td>7600.000000</td>\n",
              "    </tr>\n",
              "    <tr>\n",
              "      <th>50%</th>\n",
              "      <td>17564.000000</td>\n",
              "      <td>2.000000</td>\n",
              "      <td>4.000000</td>\n",
              "      <td>1.350000e+04</td>\n",
              "      <td>11700.000000</td>\n",
              "    </tr>\n",
              "    <tr>\n",
              "      <th>75%</th>\n",
              "      <td>18563.000000</td>\n",
              "      <td>2.000000</td>\n",
              "      <td>5.000000</td>\n",
              "      <td>1.800000e+04</td>\n",
              "      <td>15300.000000</td>\n",
              "    </tr>\n",
              "    <tr>\n",
              "      <th>max</th>\n",
              "      <td>19563.000000</td>\n",
              "      <td>6.000000</td>\n",
              "      <td>5.000000</td>\n",
              "      <td>2.856000e+07</td>\n",
              "      <td>45220.000000</td>\n",
              "    </tr>\n",
              "  </tbody>\n",
              "</table>\n",
              "</div>"
            ],
            "text/plain": [
              "         property_id      no_guests  ratings_given  revenue_generated  \\\n",
              "count  134590.000000  134587.000000   56683.000000       1.345900e+05   \n",
              "mean    18061.113493       2.036170       3.619004       1.537805e+04   \n",
              "std      1093.055847       1.034885       1.235009       9.303604e+04   \n",
              "min     16558.000000     -17.000000       1.000000       6.500000e+03   \n",
              "25%     17558.000000       1.000000       3.000000       9.900000e+03   \n",
              "50%     17564.000000       2.000000       4.000000       1.350000e+04   \n",
              "75%     18563.000000       2.000000       5.000000       1.800000e+04   \n",
              "max     19563.000000       6.000000       5.000000       2.856000e+07   \n",
              "\n",
              "       revenue_realized  \n",
              "count     134590.000000  \n",
              "mean       12696.123256  \n",
              "std         6928.108124  \n",
              "min         2600.000000  \n",
              "25%         7600.000000  \n",
              "50%        11700.000000  \n",
              "75%        15300.000000  \n",
              "max        45220.000000  "
            ]
          },
          "execution_count": 20,
          "metadata": {},
          "output_type": "execute_result"
        }
      ],
      "source": [
        "#Data Cleaning\n",
        "df_bookings.describe()"
      ]
    },
    {
      "cell_type": "markdown",
      "id": "14ca78e5-d308-45ec-ab59-32d8204ab337",
      "metadata": {
        "id": "14ca78e5-d308-45ec-ab59-32d8204ab337"
      },
      "source": [
        "**Cleaning invalid no. of guests**"
      ]
    },
    {
      "cell_type": "code",
      "execution_count": null,
      "id": "14e55ca8-49f6-420d-b220-f15072de5213",
      "metadata": {
        "id": "14e55ca8-49f6-420d-b220-f15072de5213",
        "outputId": "e6d4b3dc-a1f2-4bf7-8682-356f0658beca"
      },
      "outputs": [
        {
          "data": {
            "text/html": [
              "<div>\n",
              "<style scoped>\n",
              "    .dataframe tbody tr th:only-of-type {\n",
              "        vertical-align: middle;\n",
              "    }\n",
              "\n",
              "    .dataframe tbody tr th {\n",
              "        vertical-align: top;\n",
              "    }\n",
              "\n",
              "    .dataframe thead th {\n",
              "        text-align: right;\n",
              "    }\n",
              "</style>\n",
              "<table border=\"1\" class=\"dataframe\">\n",
              "  <thead>\n",
              "    <tr style=\"text-align: right;\">\n",
              "      <th></th>\n",
              "      <th>booking_id</th>\n",
              "      <th>property_id</th>\n",
              "      <th>booking_date</th>\n",
              "      <th>check_in_date</th>\n",
              "      <th>checkout_date</th>\n",
              "      <th>no_guests</th>\n",
              "      <th>room_category</th>\n",
              "      <th>booking_platform</th>\n",
              "      <th>ratings_given</th>\n",
              "      <th>booking_status</th>\n",
              "      <th>revenue_generated</th>\n",
              "      <th>revenue_realized</th>\n",
              "    </tr>\n",
              "  </thead>\n",
              "  <tbody>\n",
              "    <tr>\n",
              "      <th>1</th>\n",
              "      <td>May012216558RT12</td>\n",
              "      <td>16558</td>\n",
              "      <td>30-04-22</td>\n",
              "      <td>1/5/2022</td>\n",
              "      <td>2/5/2022</td>\n",
              "      <td>2.0</td>\n",
              "      <td>RT1</td>\n",
              "      <td>others</td>\n",
              "      <td>NaN</td>\n",
              "      <td>Cancelled</td>\n",
              "      <td>9100</td>\n",
              "      <td>3640</td>\n",
              "    </tr>\n",
              "    <tr>\n",
              "      <th>2</th>\n",
              "      <td>May012216558RT13</td>\n",
              "      <td>16558</td>\n",
              "      <td>28-04-22</td>\n",
              "      <td>1/5/2022</td>\n",
              "      <td>4/5/2022</td>\n",
              "      <td>2.0</td>\n",
              "      <td>RT1</td>\n",
              "      <td>logtrip</td>\n",
              "      <td>5.0</td>\n",
              "      <td>Checked Out</td>\n",
              "      <td>9100000</td>\n",
              "      <td>9100</td>\n",
              "    </tr>\n",
              "    <tr>\n",
              "      <th>4</th>\n",
              "      <td>May012216558RT15</td>\n",
              "      <td>16558</td>\n",
              "      <td>27-04-22</td>\n",
              "      <td>1/5/2022</td>\n",
              "      <td>2/5/2022</td>\n",
              "      <td>4.0</td>\n",
              "      <td>RT1</td>\n",
              "      <td>direct online</td>\n",
              "      <td>5.0</td>\n",
              "      <td>Checked Out</td>\n",
              "      <td>10920</td>\n",
              "      <td>10920</td>\n",
              "    </tr>\n",
              "    <tr>\n",
              "      <th>5</th>\n",
              "      <td>May012216558RT16</td>\n",
              "      <td>16558</td>\n",
              "      <td>1/5/2022</td>\n",
              "      <td>1/5/2022</td>\n",
              "      <td>3/5/2022</td>\n",
              "      <td>2.0</td>\n",
              "      <td>RT1</td>\n",
              "      <td>others</td>\n",
              "      <td>4.0</td>\n",
              "      <td>Checked Out</td>\n",
              "      <td>9100</td>\n",
              "      <td>9100</td>\n",
              "    </tr>\n",
              "    <tr>\n",
              "      <th>6</th>\n",
              "      <td>May012216558RT17</td>\n",
              "      <td>16558</td>\n",
              "      <td>28-04-22</td>\n",
              "      <td>1/5/2022</td>\n",
              "      <td>6/5/2022</td>\n",
              "      <td>2.0</td>\n",
              "      <td>RT1</td>\n",
              "      <td>others</td>\n",
              "      <td>NaN</td>\n",
              "      <td>Cancelled</td>\n",
              "      <td>9100</td>\n",
              "      <td>3640</td>\n",
              "    </tr>\n",
              "    <tr>\n",
              "      <th>7</th>\n",
              "      <td>May012216558RT18</td>\n",
              "      <td>16558</td>\n",
              "      <td>26-04-22</td>\n",
              "      <td>1/5/2022</td>\n",
              "      <td>3/5/2022</td>\n",
              "      <td>2.0</td>\n",
              "      <td>RT1</td>\n",
              "      <td>logtrip</td>\n",
              "      <td>NaN</td>\n",
              "      <td>No Show</td>\n",
              "      <td>9100</td>\n",
              "      <td>9100</td>\n",
              "    </tr>\n",
              "    <tr>\n",
              "      <th>8</th>\n",
              "      <td>May012216558RT19</td>\n",
              "      <td>16558</td>\n",
              "      <td>30-04-22</td>\n",
              "      <td>1/5/2022</td>\n",
              "      <td>2/5/2022</td>\n",
              "      <td>2.0</td>\n",
              "      <td>RT1</td>\n",
              "      <td>tripster</td>\n",
              "      <td>NaN</td>\n",
              "      <td>Checked Out</td>\n",
              "      <td>9100</td>\n",
              "      <td>9100</td>\n",
              "    </tr>\n",
              "    <tr>\n",
              "      <th>9</th>\n",
              "      <td>May012216558RT110</td>\n",
              "      <td>16558</td>\n",
              "      <td>28-04-22</td>\n",
              "      <td>1/5/2022</td>\n",
              "      <td>2/5/2022</td>\n",
              "      <td>1.0</td>\n",
              "      <td>RT1</td>\n",
              "      <td>others</td>\n",
              "      <td>4.0</td>\n",
              "      <td>Checked Out</td>\n",
              "      <td>9100</td>\n",
              "      <td>9100</td>\n",
              "    </tr>\n",
              "    <tr>\n",
              "      <th>10</th>\n",
              "      <td>May012216558RT111</td>\n",
              "      <td>16558</td>\n",
              "      <td>29-04-22</td>\n",
              "      <td>1/5/2022</td>\n",
              "      <td>7/5/2022</td>\n",
              "      <td>1.0</td>\n",
              "      <td>RT1</td>\n",
              "      <td>makeyourtrip</td>\n",
              "      <td>5.0</td>\n",
              "      <td>Checked Out</td>\n",
              "      <td>9100</td>\n",
              "      <td>9100</td>\n",
              "    </tr>\n",
              "    <tr>\n",
              "      <th>11</th>\n",
              "      <td>May012216558RT112</td>\n",
              "      <td>16558</td>\n",
              "      <td>26-04-22</td>\n",
              "      <td>1/5/2022</td>\n",
              "      <td>2/5/2022</td>\n",
              "      <td>2.0</td>\n",
              "      <td>RT1</td>\n",
              "      <td>logtrip</td>\n",
              "      <td>5.0</td>\n",
              "      <td>Checked Out</td>\n",
              "      <td>9100</td>\n",
              "      <td>9100</td>\n",
              "    </tr>\n",
              "  </tbody>\n",
              "</table>\n",
              "</div>"
            ],
            "text/plain": [
              "           booking_id  property_id booking_date check_in_date checkout_date  \\\n",
              "1    May012216558RT12        16558     30-04-22      1/5/2022      2/5/2022   \n",
              "2    May012216558RT13        16558     28-04-22      1/5/2022      4/5/2022   \n",
              "4    May012216558RT15        16558     27-04-22      1/5/2022      2/5/2022   \n",
              "5    May012216558RT16        16558     1/5/2022      1/5/2022      3/5/2022   \n",
              "6    May012216558RT17        16558     28-04-22      1/5/2022      6/5/2022   \n",
              "7    May012216558RT18        16558     26-04-22      1/5/2022      3/5/2022   \n",
              "8    May012216558RT19        16558     30-04-22      1/5/2022      2/5/2022   \n",
              "9   May012216558RT110        16558     28-04-22      1/5/2022      2/5/2022   \n",
              "10  May012216558RT111        16558     29-04-22      1/5/2022      7/5/2022   \n",
              "11  May012216558RT112        16558     26-04-22      1/5/2022      2/5/2022   \n",
              "\n",
              "    no_guests room_category booking_platform  ratings_given booking_status  \\\n",
              "1         2.0           RT1           others            NaN      Cancelled   \n",
              "2         2.0           RT1          logtrip            5.0    Checked Out   \n",
              "4         4.0           RT1    direct online            5.0    Checked Out   \n",
              "5         2.0           RT1           others            4.0    Checked Out   \n",
              "6         2.0           RT1           others            NaN      Cancelled   \n",
              "7         2.0           RT1          logtrip            NaN        No Show   \n",
              "8         2.0           RT1         tripster            NaN    Checked Out   \n",
              "9         1.0           RT1           others            4.0    Checked Out   \n",
              "10        1.0           RT1     makeyourtrip            5.0    Checked Out   \n",
              "11        2.0           RT1          logtrip            5.0    Checked Out   \n",
              "\n",
              "    revenue_generated  revenue_realized  \n",
              "1                9100              3640  \n",
              "2             9100000              9100  \n",
              "4               10920             10920  \n",
              "5                9100              9100  \n",
              "6                9100              3640  \n",
              "7                9100              9100  \n",
              "8                9100              9100  \n",
              "9                9100              9100  \n",
              "10               9100              9100  \n",
              "11               9100              9100  "
            ]
          },
          "execution_count": 21,
          "metadata": {},
          "output_type": "execute_result"
        }
      ],
      "source": [
        "df_bookings = df_bookings[df_bookings.no_guests > 0]\n",
        "df_bookings.head(10)"
      ]
    },
    {
      "cell_type": "code",
      "execution_count": null,
      "id": "84a56425-8681-453a-847d-bd503ec4f296",
      "metadata": {
        "id": "84a56425-8681-453a-847d-bd503ec4f296",
        "outputId": "b2787b58-3609-4caa-bd62-5c609f741822"
      },
      "outputs": [
        {
          "data": {
            "text/plain": [
              "(134578, 12)"
            ]
          },
          "execution_count": 22,
          "metadata": {},
          "output_type": "execute_result"
        }
      ],
      "source": [
        "df_bookings.shape"
      ]
    },
    {
      "cell_type": "markdown",
      "id": "3fbb090a-7e90-4da8-9382-78c092e116e3",
      "metadata": {
        "id": "3fbb090a-7e90-4da8-9382-78c092e116e3"
      },
      "source": [
        "**Outlier removal in revenue generated**"
      ]
    },
    {
      "cell_type": "code",
      "execution_count": null,
      "id": "37559431-11fd-42b4-a5f3-77fd78f6fb86",
      "metadata": {
        "id": "37559431-11fd-42b4-a5f3-77fd78f6fb86",
        "outputId": "ed45330a-60ff-48c8-cc6e-6dffa461654b"
      },
      "outputs": [
        {
          "data": {
            "text/plain": [
              "(6500, 28560000)"
            ]
          },
          "execution_count": 23,
          "metadata": {},
          "output_type": "execute_result"
        }
      ],
      "source": [
        "df_bookings.revenue_generated.min(), df_bookings.revenue_generated.max()"
      ]
    },
    {
      "cell_type": "code",
      "execution_count": null,
      "id": "9026c5d6-7eed-467f-b54a-3d3a2c69b583",
      "metadata": {
        "id": "9026c5d6-7eed-467f-b54a-3d3a2c69b583",
        "outputId": "0385fa3b-06b3-41b1-bbd1-2a66ede3626e"
      },
      "outputs": [
        {
          "data": {
            "text/plain": [
              "(15378.036937686695, 13500.0)"
            ]
          },
          "execution_count": 24,
          "metadata": {},
          "output_type": "execute_result"
        }
      ],
      "source": [
        "df_bookings.revenue_generated.mean(), df_bookings.revenue_generated.median()"
      ]
    },
    {
      "cell_type": "code",
      "execution_count": null,
      "id": "4e38ad1d-6dee-4978-8846-bc4d7ff1c21e",
      "metadata": {
        "id": "4e38ad1d-6dee-4978-8846-bc4d7ff1c21e",
        "outputId": "e9c8f68c-830e-406b-af7c-bf2e6acc36e6"
      },
      "outputs": [
        {
          "data": {
            "text/plain": [
              "(294498.50173207896, -263742.4278567056)"
            ]
          },
          "execution_count": 25,
          "metadata": {},
          "output_type": "execute_result"
        }
      ],
      "source": [
        "avg, std = df_bookings.revenue_generated.mean(), df_bookings.revenue_generated.std()\n",
        "high_lim, low_lim = avg + std*3, avg - std*3 #Finding outliers\n",
        "high_lim, low_lim"
      ]
    },
    {
      "cell_type": "code",
      "execution_count": null,
      "id": "056abcf5-fc4a-4257-9f25-2fc75c660f38",
      "metadata": {
        "id": "056abcf5-fc4a-4257-9f25-2fc75c660f38",
        "outputId": "0d22fd8e-1e50-4200-a027-c0c7f1565273"
      },
      "outputs": [
        {
          "data": {
            "text/html": [
              "<div>\n",
              "<style scoped>\n",
              "    .dataframe tbody tr th:only-of-type {\n",
              "        vertical-align: middle;\n",
              "    }\n",
              "\n",
              "    .dataframe tbody tr th {\n",
              "        vertical-align: top;\n",
              "    }\n",
              "\n",
              "    .dataframe thead th {\n",
              "        text-align: right;\n",
              "    }\n",
              "</style>\n",
              "<table border=\"1\" class=\"dataframe\">\n",
              "  <thead>\n",
              "    <tr style=\"text-align: right;\">\n",
              "      <th></th>\n",
              "      <th>booking_id</th>\n",
              "      <th>property_id</th>\n",
              "      <th>booking_date</th>\n",
              "      <th>check_in_date</th>\n",
              "      <th>checkout_date</th>\n",
              "      <th>no_guests</th>\n",
              "      <th>room_category</th>\n",
              "      <th>booking_platform</th>\n",
              "      <th>ratings_given</th>\n",
              "      <th>booking_status</th>\n",
              "      <th>revenue_generated</th>\n",
              "      <th>revenue_realized</th>\n",
              "    </tr>\n",
              "  </thead>\n",
              "  <tbody>\n",
              "  </tbody>\n",
              "</table>\n",
              "</div>"
            ],
            "text/plain": [
              "Empty DataFrame\n",
              "Columns: [booking_id, property_id, booking_date, check_in_date, checkout_date, no_guests, room_category, booking_platform, ratings_given, booking_status, revenue_generated, revenue_realized]\n",
              "Index: []"
            ]
          },
          "execution_count": 26,
          "metadata": {},
          "output_type": "execute_result"
        }
      ],
      "source": [
        "df_bookings[df_bookings.revenue_generated <= 0]"
      ]
    },
    {
      "cell_type": "code",
      "execution_count": null,
      "id": "966a5471-4ea2-44ac-ab46-49b9809b59ca",
      "metadata": {
        "id": "966a5471-4ea2-44ac-ab46-49b9809b59ca",
        "outputId": "7a359d65-7bfc-48d7-9fee-541e9421a1c7"
      },
      "outputs": [
        {
          "data": {
            "text/html": [
              "<div>\n",
              "<style scoped>\n",
              "    .dataframe tbody tr th:only-of-type {\n",
              "        vertical-align: middle;\n",
              "    }\n",
              "\n",
              "    .dataframe tbody tr th {\n",
              "        vertical-align: top;\n",
              "    }\n",
              "\n",
              "    .dataframe thead th {\n",
              "        text-align: right;\n",
              "    }\n",
              "</style>\n",
              "<table border=\"1\" class=\"dataframe\">\n",
              "  <thead>\n",
              "    <tr style=\"text-align: right;\">\n",
              "      <th></th>\n",
              "      <th>booking_id</th>\n",
              "      <th>property_id</th>\n",
              "      <th>booking_date</th>\n",
              "      <th>check_in_date</th>\n",
              "      <th>checkout_date</th>\n",
              "      <th>no_guests</th>\n",
              "      <th>room_category</th>\n",
              "      <th>booking_platform</th>\n",
              "      <th>ratings_given</th>\n",
              "      <th>booking_status</th>\n",
              "      <th>revenue_generated</th>\n",
              "      <th>revenue_realized</th>\n",
              "    </tr>\n",
              "  </thead>\n",
              "  <tbody>\n",
              "    <tr>\n",
              "      <th>2</th>\n",
              "      <td>May012216558RT13</td>\n",
              "      <td>16558</td>\n",
              "      <td>28-04-22</td>\n",
              "      <td>1/5/2022</td>\n",
              "      <td>4/5/2022</td>\n",
              "      <td>2.0</td>\n",
              "      <td>RT1</td>\n",
              "      <td>logtrip</td>\n",
              "      <td>5.0</td>\n",
              "      <td>Checked Out</td>\n",
              "      <td>9100000</td>\n",
              "      <td>9100</td>\n",
              "    </tr>\n",
              "    <tr>\n",
              "      <th>111</th>\n",
              "      <td>May012216559RT32</td>\n",
              "      <td>16559</td>\n",
              "      <td>29-04-22</td>\n",
              "      <td>1/5/2022</td>\n",
              "      <td>2/5/2022</td>\n",
              "      <td>6.0</td>\n",
              "      <td>RT3</td>\n",
              "      <td>direct online</td>\n",
              "      <td>NaN</td>\n",
              "      <td>Checked Out</td>\n",
              "      <td>28560000</td>\n",
              "      <td>28560</td>\n",
              "    </tr>\n",
              "    <tr>\n",
              "      <th>315</th>\n",
              "      <td>May012216562RT22</td>\n",
              "      <td>16562</td>\n",
              "      <td>28-04-22</td>\n",
              "      <td>1/5/2022</td>\n",
              "      <td>4/5/2022</td>\n",
              "      <td>2.0</td>\n",
              "      <td>RT2</td>\n",
              "      <td>direct offline</td>\n",
              "      <td>3.0</td>\n",
              "      <td>Checked Out</td>\n",
              "      <td>12600000</td>\n",
              "      <td>12600</td>\n",
              "    </tr>\n",
              "    <tr>\n",
              "      <th>562</th>\n",
              "      <td>May012217559RT118</td>\n",
              "      <td>17559</td>\n",
              "      <td>26-04-22</td>\n",
              "      <td>1/5/2022</td>\n",
              "      <td>2/5/2022</td>\n",
              "      <td>2.0</td>\n",
              "      <td>RT1</td>\n",
              "      <td>others</td>\n",
              "      <td>NaN</td>\n",
              "      <td>Cancelled</td>\n",
              "      <td>2000000</td>\n",
              "      <td>4420</td>\n",
              "    </tr>\n",
              "    <tr>\n",
              "      <th>129176</th>\n",
              "      <td>Jul282216562RT26</td>\n",
              "      <td>16562</td>\n",
              "      <td>21-07-22</td>\n",
              "      <td>28-07-22</td>\n",
              "      <td>29-07-22</td>\n",
              "      <td>2.0</td>\n",
              "      <td>RT2</td>\n",
              "      <td>direct online</td>\n",
              "      <td>3.0</td>\n",
              "      <td>Checked Out</td>\n",
              "      <td>10000000</td>\n",
              "      <td>12600</td>\n",
              "    </tr>\n",
              "  </tbody>\n",
              "</table>\n",
              "</div>"
            ],
            "text/plain": [
              "               booking_id  property_id booking_date check_in_date  \\\n",
              "2        May012216558RT13        16558     28-04-22      1/5/2022   \n",
              "111      May012216559RT32        16559     29-04-22      1/5/2022   \n",
              "315      May012216562RT22        16562     28-04-22      1/5/2022   \n",
              "562     May012217559RT118        17559     26-04-22      1/5/2022   \n",
              "129176   Jul282216562RT26        16562     21-07-22      28-07-22   \n",
              "\n",
              "       checkout_date  no_guests room_category booking_platform  ratings_given  \\\n",
              "2           4/5/2022        2.0           RT1          logtrip            5.0   \n",
              "111         2/5/2022        6.0           RT3    direct online            NaN   \n",
              "315         4/5/2022        2.0           RT2   direct offline            3.0   \n",
              "562         2/5/2022        2.0           RT1           others            NaN   \n",
              "129176      29-07-22        2.0           RT2    direct online            3.0   \n",
              "\n",
              "       booking_status  revenue_generated  revenue_realized  \n",
              "2         Checked Out            9100000              9100  \n",
              "111       Checked Out           28560000             28560  \n",
              "315       Checked Out           12600000             12600  \n",
              "562         Cancelled            2000000              4420  \n",
              "129176    Checked Out           10000000             12600  "
            ]
          },
          "execution_count": 27,
          "metadata": {},
          "output_type": "execute_result"
        }
      ],
      "source": [
        "df_bookings[df_bookings.revenue_generated > high_lim]"
      ]
    },
    {
      "cell_type": "code",
      "execution_count": null,
      "id": "b32b0768-92d3-4117-a8f4-b2085ed4d4c8",
      "metadata": {
        "id": "b32b0768-92d3-4117-a8f4-b2085ed4d4c8",
        "outputId": "78bb333b-b3b4-4d4e-f8d4-abf442ee67ce"
      },
      "outputs": [
        {
          "data": {
            "text/plain": [
              "(134573, 12)"
            ]
          },
          "execution_count": 28,
          "metadata": {},
          "output_type": "execute_result"
        }
      ],
      "source": [
        "df_bookings = df_bookings[df_bookings.revenue_generated <= high_lim]\n",
        "df_bookings.shape"
      ]
    },
    {
      "cell_type": "code",
      "execution_count": null,
      "id": "c95b1034-ea35-4ea3-a9c6-c35006a9ce33",
      "metadata": {
        "id": "c95b1034-ea35-4ea3-a9c6-c35006a9ce33",
        "outputId": "c6da06b0-ada5-4295-fe87-66be91d60709"
      },
      "outputs": [
        {
          "data": {
            "text/plain": [
              "count    134573.000000\n",
              "mean      12695.983585\n",
              "std        6927.791692\n",
              "min        2600.000000\n",
              "25%        7600.000000\n",
              "50%       11700.000000\n",
              "75%       15300.000000\n",
              "max       45220.000000\n",
              "Name: revenue_realized, dtype: float64"
            ]
          },
          "execution_count": 29,
          "metadata": {},
          "output_type": "execute_result"
        }
      ],
      "source": [
        "df_bookings.revenue_realized.describe()"
      ]
    },
    {
      "cell_type": "code",
      "execution_count": null,
      "id": "befb0b43-1d23-410c-b0e1-349b89b64db8",
      "metadata": {
        "id": "befb0b43-1d23-410c-b0e1-349b89b64db8",
        "outputId": "4d020048-90e1-4492-db82-13eab0954158"
      },
      "outputs": [
        {
          "data": {
            "text/plain": [
              "(33479.358661845814, -8087.391491611072)"
            ]
          },
          "execution_count": 30,
          "metadata": {},
          "output_type": "execute_result"
        }
      ],
      "source": [
        "avg, std = df_bookings.revenue_realized.mean(), df_bookings.revenue_realized.std()\n",
        "high_lim, low_lim = avg + 3*std, avg - 3*std\n",
        "high_lim, low_lim"
      ]
    },
    {
      "cell_type": "code",
      "execution_count": null,
      "id": "a62e9be9-c532-4b49-b935-d90b82a8a1d4",
      "metadata": {
        "id": "a62e9be9-c532-4b49-b935-d90b82a8a1d4",
        "outputId": "fa22a474-29ba-455c-e411-f0bcfccfe79f"
      },
      "outputs": [
        {
          "data": {
            "text/html": [
              "<div>\n",
              "<style scoped>\n",
              "    .dataframe tbody tr th:only-of-type {\n",
              "        vertical-align: middle;\n",
              "    }\n",
              "\n",
              "    .dataframe tbody tr th {\n",
              "        vertical-align: top;\n",
              "    }\n",
              "\n",
              "    .dataframe thead th {\n",
              "        text-align: right;\n",
              "    }\n",
              "</style>\n",
              "<table border=\"1\" class=\"dataframe\">\n",
              "  <thead>\n",
              "    <tr style=\"text-align: right;\">\n",
              "      <th></th>\n",
              "      <th>booking_id</th>\n",
              "      <th>property_id</th>\n",
              "      <th>booking_date</th>\n",
              "      <th>check_in_date</th>\n",
              "      <th>checkout_date</th>\n",
              "      <th>no_guests</th>\n",
              "      <th>room_category</th>\n",
              "      <th>booking_platform</th>\n",
              "      <th>ratings_given</th>\n",
              "      <th>booking_status</th>\n",
              "      <th>revenue_generated</th>\n",
              "      <th>revenue_realized</th>\n",
              "    </tr>\n",
              "  </thead>\n",
              "  <tbody>\n",
              "    <tr>\n",
              "      <th>137</th>\n",
              "      <td>May012216559RT41</td>\n",
              "      <td>16559</td>\n",
              "      <td>27-04-22</td>\n",
              "      <td>1/5/2022</td>\n",
              "      <td>7/5/2022</td>\n",
              "      <td>4.0</td>\n",
              "      <td>RT4</td>\n",
              "      <td>others</td>\n",
              "      <td>NaN</td>\n",
              "      <td>Checked Out</td>\n",
              "      <td>38760</td>\n",
              "      <td>38760</td>\n",
              "    </tr>\n",
              "    <tr>\n",
              "      <th>139</th>\n",
              "      <td>May012216559RT43</td>\n",
              "      <td>16559</td>\n",
              "      <td>1/5/2022</td>\n",
              "      <td>1/5/2022</td>\n",
              "      <td>2/5/2022</td>\n",
              "      <td>6.0</td>\n",
              "      <td>RT4</td>\n",
              "      <td>tripster</td>\n",
              "      <td>3.0</td>\n",
              "      <td>Checked Out</td>\n",
              "      <td>45220</td>\n",
              "      <td>45220</td>\n",
              "    </tr>\n",
              "    <tr>\n",
              "      <th>143</th>\n",
              "      <td>May012216559RT47</td>\n",
              "      <td>16559</td>\n",
              "      <td>28-04-22</td>\n",
              "      <td>1/5/2022</td>\n",
              "      <td>3/5/2022</td>\n",
              "      <td>3.0</td>\n",
              "      <td>RT4</td>\n",
              "      <td>others</td>\n",
              "      <td>5.0</td>\n",
              "      <td>Checked Out</td>\n",
              "      <td>35530</td>\n",
              "      <td>35530</td>\n",
              "    </tr>\n",
              "    <tr>\n",
              "      <th>149</th>\n",
              "      <td>May012216559RT413</td>\n",
              "      <td>16559</td>\n",
              "      <td>24-04-22</td>\n",
              "      <td>1/5/2022</td>\n",
              "      <td>7/5/2022</td>\n",
              "      <td>5.0</td>\n",
              "      <td>RT4</td>\n",
              "      <td>logtrip</td>\n",
              "      <td>NaN</td>\n",
              "      <td>Checked Out</td>\n",
              "      <td>41990</td>\n",
              "      <td>41990</td>\n",
              "    </tr>\n",
              "    <tr>\n",
              "      <th>222</th>\n",
              "      <td>May012216560RT45</td>\n",
              "      <td>16560</td>\n",
              "      <td>30-04-22</td>\n",
              "      <td>1/5/2022</td>\n",
              "      <td>3/5/2022</td>\n",
              "      <td>5.0</td>\n",
              "      <td>RT4</td>\n",
              "      <td>others</td>\n",
              "      <td>3.0</td>\n",
              "      <td>Checked Out</td>\n",
              "      <td>34580</td>\n",
              "      <td>34580</td>\n",
              "    </tr>\n",
              "    <tr>\n",
              "      <th>...</th>\n",
              "      <td>...</td>\n",
              "      <td>...</td>\n",
              "      <td>...</td>\n",
              "      <td>...</td>\n",
              "      <td>...</td>\n",
              "      <td>...</td>\n",
              "      <td>...</td>\n",
              "      <td>...</td>\n",
              "      <td>...</td>\n",
              "      <td>...</td>\n",
              "      <td>...</td>\n",
              "      <td>...</td>\n",
              "    </tr>\n",
              "    <tr>\n",
              "      <th>134328</th>\n",
              "      <td>Jul312219560RT49</td>\n",
              "      <td>19560</td>\n",
              "      <td>31-07-22</td>\n",
              "      <td>31-07-22</td>\n",
              "      <td>2/8/2022</td>\n",
              "      <td>6.0</td>\n",
              "      <td>RT4</td>\n",
              "      <td>direct online</td>\n",
              "      <td>5.0</td>\n",
              "      <td>Checked Out</td>\n",
              "      <td>39900</td>\n",
              "      <td>39900</td>\n",
              "    </tr>\n",
              "    <tr>\n",
              "      <th>134331</th>\n",
              "      <td>Jul312219560RT412</td>\n",
              "      <td>19560</td>\n",
              "      <td>31-07-22</td>\n",
              "      <td>31-07-22</td>\n",
              "      <td>1/8/2022</td>\n",
              "      <td>6.0</td>\n",
              "      <td>RT4</td>\n",
              "      <td>others</td>\n",
              "      <td>2.0</td>\n",
              "      <td>Checked Out</td>\n",
              "      <td>39900</td>\n",
              "      <td>39900</td>\n",
              "    </tr>\n",
              "    <tr>\n",
              "      <th>134467</th>\n",
              "      <td>Jul312219562RT45</td>\n",
              "      <td>19562</td>\n",
              "      <td>28-07-22</td>\n",
              "      <td>31-07-22</td>\n",
              "      <td>1/8/2022</td>\n",
              "      <td>6.0</td>\n",
              "      <td>RT4</td>\n",
              "      <td>makeyourtrip</td>\n",
              "      <td>4.0</td>\n",
              "      <td>Checked Out</td>\n",
              "      <td>39900</td>\n",
              "      <td>39900</td>\n",
              "    </tr>\n",
              "    <tr>\n",
              "      <th>134474</th>\n",
              "      <td>Jul312219562RT412</td>\n",
              "      <td>19562</td>\n",
              "      <td>25-07-22</td>\n",
              "      <td>31-07-22</td>\n",
              "      <td>6/8/2022</td>\n",
              "      <td>5.0</td>\n",
              "      <td>RT4</td>\n",
              "      <td>direct offline</td>\n",
              "      <td>5.0</td>\n",
              "      <td>Checked Out</td>\n",
              "      <td>37050</td>\n",
              "      <td>37050</td>\n",
              "    </tr>\n",
              "    <tr>\n",
              "      <th>134581</th>\n",
              "      <td>Jul312217564RT42</td>\n",
              "      <td>17564</td>\n",
              "      <td>31-07-22</td>\n",
              "      <td>31-07-22</td>\n",
              "      <td>1/8/2022</td>\n",
              "      <td>4.0</td>\n",
              "      <td>RT4</td>\n",
              "      <td>makeyourtrip</td>\n",
              "      <td>4.0</td>\n",
              "      <td>Checked Out</td>\n",
              "      <td>38760</td>\n",
              "      <td>38760</td>\n",
              "    </tr>\n",
              "  </tbody>\n",
              "</table>\n",
              "<p>1299 rows × 12 columns</p>\n",
              "</div>"
            ],
            "text/plain": [
              "               booking_id  property_id booking_date check_in_date  \\\n",
              "137      May012216559RT41        16559     27-04-22      1/5/2022   \n",
              "139      May012216559RT43        16559     1/5/2022      1/5/2022   \n",
              "143      May012216559RT47        16559     28-04-22      1/5/2022   \n",
              "149     May012216559RT413        16559     24-04-22      1/5/2022   \n",
              "222      May012216560RT45        16560     30-04-22      1/5/2022   \n",
              "...                   ...          ...          ...           ...   \n",
              "134328   Jul312219560RT49        19560     31-07-22      31-07-22   \n",
              "134331  Jul312219560RT412        19560     31-07-22      31-07-22   \n",
              "134467   Jul312219562RT45        19562     28-07-22      31-07-22   \n",
              "134474  Jul312219562RT412        19562     25-07-22      31-07-22   \n",
              "134581   Jul312217564RT42        17564     31-07-22      31-07-22   \n",
              "\n",
              "       checkout_date  no_guests room_category booking_platform  ratings_given  \\\n",
              "137         7/5/2022        4.0           RT4           others            NaN   \n",
              "139         2/5/2022        6.0           RT4         tripster            3.0   \n",
              "143         3/5/2022        3.0           RT4           others            5.0   \n",
              "149         7/5/2022        5.0           RT4          logtrip            NaN   \n",
              "222         3/5/2022        5.0           RT4           others            3.0   \n",
              "...              ...        ...           ...              ...            ...   \n",
              "134328      2/8/2022        6.0           RT4    direct online            5.0   \n",
              "134331      1/8/2022        6.0           RT4           others            2.0   \n",
              "134467      1/8/2022        6.0           RT4     makeyourtrip            4.0   \n",
              "134474      6/8/2022        5.0           RT4   direct offline            5.0   \n",
              "134581      1/8/2022        4.0           RT4     makeyourtrip            4.0   \n",
              "\n",
              "       booking_status  revenue_generated  revenue_realized  \n",
              "137       Checked Out              38760             38760  \n",
              "139       Checked Out              45220             45220  \n",
              "143       Checked Out              35530             35530  \n",
              "149       Checked Out              41990             41990  \n",
              "222       Checked Out              34580             34580  \n",
              "...               ...                ...               ...  \n",
              "134328    Checked Out              39900             39900  \n",
              "134331    Checked Out              39900             39900  \n",
              "134467    Checked Out              39900             39900  \n",
              "134474    Checked Out              37050             37050  \n",
              "134581    Checked Out              38760             38760  \n",
              "\n",
              "[1299 rows x 12 columns]"
            ]
          },
          "execution_count": 31,
          "metadata": {},
          "output_type": "execute_result"
        }
      ],
      "source": [
        "df_bookings[df_bookings.revenue_realized > high_lim]"
      ]
    },
    {
      "cell_type": "markdown",
      "id": "101af2eb-98ad-4a28-971d-d8808fed67e0",
      "metadata": {
        "id": "101af2eb-98ad-4a28-971d-d8808fed67e0"
      },
      "source": [
        "RT-4 room category is Presidential type which is more luxurious, so they can have higher rent\n",
        "So, to perform fair analysis, perform data analysis only on RT-4 room category rooms"
      ]
    },
    {
      "cell_type": "code",
      "execution_count": null,
      "id": "0c0c2e1f-d9c9-45c5-b444-06dd6378f635",
      "metadata": {
        "id": "0c0c2e1f-d9c9-45c5-b444-06dd6378f635",
        "outputId": "ea557c52-fe18-4d68-8aac-b8e5660efde5"
      },
      "outputs": [
        {
          "data": {
            "text/plain": [
              "count    16071.000000\n",
              "mean     23439.308444\n",
              "std       9048.599076\n",
              "min       7600.000000\n",
              "25%      19000.000000\n",
              "50%      26600.000000\n",
              "75%      32300.000000\n",
              "max      45220.000000\n",
              "Name: revenue_realized, dtype: float64"
            ]
          },
          "execution_count": 32,
          "metadata": {},
          "output_type": "execute_result"
        }
      ],
      "source": [
        "df_bookings[df_bookings.room_category == \"RT4\"].revenue_realized.describe()"
      ]
    },
    {
      "cell_type": "code",
      "execution_count": null,
      "id": "ef0755a7-30df-49a1-864f-3bf7d177eb2d",
      "metadata": {
        "id": "ef0755a7-30df-49a1-864f-3bf7d177eb2d",
        "outputId": "d7f915eb-991f-4e0f-ac30-05e8dde1e2ff"
      },
      "outputs": [
        {
          "data": {
            "text/plain": [
              "50583"
            ]
          },
          "execution_count": 33,
          "metadata": {},
          "output_type": "execute_result"
        }
      ],
      "source": [
        "high_lim, low_lim = 23439 + 3*9048, 23439 - 3*9048\n",
        "high_lim #There is no outlier since the higher limit is 50583 and max = 45220"
      ]
    },
    {
      "cell_type": "markdown",
      "id": "ca77f47f-d047-41f8-bd32-c9b1c339b419",
      "metadata": {
        "id": "ca77f47f-d047-41f8-bd32-c9b1c339b419"
      },
      "source": [
        "Therefore there is no outlier so no need to do data cleaning on this column"
      ]
    },
    {
      "cell_type": "code",
      "execution_count": null,
      "id": "31ab11c7-cca1-4019-b0a2-0b08dff8db30",
      "metadata": {
        "id": "31ab11c7-cca1-4019-b0a2-0b08dff8db30",
        "outputId": "74e479b7-72bf-4971-f509-85705d9bd488"
      },
      "outputs": [
        {
          "data": {
            "text/plain": [
              "booking_id               0\n",
              "property_id              0\n",
              "booking_date             0\n",
              "check_in_date            0\n",
              "checkout_date            0\n",
              "no_guests                0\n",
              "room_category            0\n",
              "booking_platform         0\n",
              "ratings_given        77897\n",
              "booking_status           0\n",
              "revenue_generated        0\n",
              "revenue_realized         0\n",
              "dtype: int64"
            ]
          },
          "execution_count": 34,
          "metadata": {},
          "output_type": "execute_result"
        }
      ],
      "source": [
        "df_bookings.isnull().sum()"
      ]
    },
    {
      "cell_type": "markdown",
      "id": "6a3cb816-aadf-45d8-a912-b4f8a5d66445",
      "metadata": {
        "id": "6a3cb816-aadf-45d8-a912-b4f8a5d66445"
      },
      "source": [
        "Since, not everyone came to hotel will give ratings, you can leave it."
      ]
    },
    {
      "cell_type": "markdown",
      "id": "4b38addf-76e9-4133-8e5e-8bcb3a238184",
      "metadata": {
        "id": "4b38addf-76e9-4133-8e5e-8bcb3a238184"
      },
      "source": [
        "**Excercise-1**\n",
        "Finding columns in aggregate bookings that have null values.\n",
        "Fill these null values with appropriate substitute"
      ]
    },
    {
      "cell_type": "code",
      "execution_count": null,
      "id": "d3b85483-40b2-47d9-9ee8-3cf4632cd785",
      "metadata": {
        "id": "d3b85483-40b2-47d9-9ee8-3cf4632cd785",
        "outputId": "01c6dcdd-aa04-4bde-a8c3-7b26314c16c5"
      },
      "outputs": [
        {
          "data": {
            "text/plain": [
              "property_id            0\n",
              "check_in_date          0\n",
              "room_category          0\n",
              "successful_bookings    0\n",
              "capacity               2\n",
              "dtype: int64"
            ]
          },
          "execution_count": 36,
          "metadata": {},
          "output_type": "execute_result"
        }
      ],
      "source": [
        "df_agg_bookings.isnull().sum()"
      ]
    },
    {
      "cell_type": "code",
      "execution_count": null,
      "id": "c9bca505-6f1b-427d-80c9-bc7b5e7e6662",
      "metadata": {
        "id": "c9bca505-6f1b-427d-80c9-bc7b5e7e6662",
        "outputId": "c04a2367-bda9-45cf-ea0e-ac81d174c6ae"
      },
      "outputs": [
        {
          "data": {
            "text/html": [
              "<div>\n",
              "<style scoped>\n",
              "    .dataframe tbody tr th:only-of-type {\n",
              "        vertical-align: middle;\n",
              "    }\n",
              "\n",
              "    .dataframe tbody tr th {\n",
              "        vertical-align: top;\n",
              "    }\n",
              "\n",
              "    .dataframe thead th {\n",
              "        text-align: right;\n",
              "    }\n",
              "</style>\n",
              "<table border=\"1\" class=\"dataframe\">\n",
              "  <thead>\n",
              "    <tr style=\"text-align: right;\">\n",
              "      <th></th>\n",
              "      <th>property_id</th>\n",
              "      <th>check_in_date</th>\n",
              "      <th>room_category</th>\n",
              "      <th>successful_bookings</th>\n",
              "      <th>capacity</th>\n",
              "    </tr>\n",
              "  </thead>\n",
              "  <tbody>\n",
              "    <tr>\n",
              "      <th>8</th>\n",
              "      <td>17561</td>\n",
              "      <td>1-May-22</td>\n",
              "      <td>RT1</td>\n",
              "      <td>22</td>\n",
              "      <td>NaN</td>\n",
              "    </tr>\n",
              "    <tr>\n",
              "      <th>14</th>\n",
              "      <td>17562</td>\n",
              "      <td>1-May-22</td>\n",
              "      <td>RT1</td>\n",
              "      <td>12</td>\n",
              "      <td>NaN</td>\n",
              "    </tr>\n",
              "  </tbody>\n",
              "</table>\n",
              "</div>"
            ],
            "text/plain": [
              "    property_id check_in_date room_category  successful_bookings  capacity\n",
              "8         17561      1-May-22           RT1                   22       NaN\n",
              "14        17562      1-May-22           RT1                   12       NaN"
            ]
          },
          "execution_count": 38,
          "metadata": {},
          "output_type": "execute_result"
        }
      ],
      "source": [
        "df_agg_bookings[df_agg_bookings.capacity.isna()]"
      ]
    },
    {
      "cell_type": "markdown",
      "id": "8fc9d976-496b-48a9-9c3d-7933ab0fb3ae",
      "metadata": {
        "id": "8fc9d976-496b-48a9-9c3d-7933ab0fb3ae"
      },
      "source": [
        "Filling the null values with median"
      ]
    },
    {
      "cell_type": "code",
      "execution_count": null,
      "id": "fe73450f-c004-4419-810c-7eb42ce0c569",
      "metadata": {
        "id": "fe73450f-c004-4419-810c-7eb42ce0c569",
        "outputId": "0394fd16-68f5-4798-fa82-20067b1cdb5a"
      },
      "outputs": [
        {
          "name": "stderr",
          "output_type": "stream",
          "text": [
            "C:\\Users\\hp\\AppData\\Local\\Temp\\ipykernel_13892\\2708754821.py:1: FutureWarning: A value is trying to be set on a copy of a DataFrame or Series through chained assignment using an inplace method.\n",
            "The behavior will change in pandas 3.0. This inplace method will never work because the intermediate object on which we are setting values always behaves as a copy.\n",
            "\n",
            "For example, when doing 'df[col].method(value, inplace=True)', try using 'df.method({col: value}, inplace=True)' or df[col] = df[col].method(value) instead, to perform the operation inplace on the original object.\n",
            "\n",
            "\n",
            "  df_agg_bookings.capacity.fillna(df_agg_bookings.capacity.median(), inplace=True)\n"
          ]
        },
        {
          "data": {
            "text/html": [
              "<div>\n",
              "<style scoped>\n",
              "    .dataframe tbody tr th:only-of-type {\n",
              "        vertical-align: middle;\n",
              "    }\n",
              "\n",
              "    .dataframe tbody tr th {\n",
              "        vertical-align: top;\n",
              "    }\n",
              "\n",
              "    .dataframe thead th {\n",
              "        text-align: right;\n",
              "    }\n",
              "</style>\n",
              "<table border=\"1\" class=\"dataframe\">\n",
              "  <thead>\n",
              "    <tr style=\"text-align: right;\">\n",
              "      <th></th>\n",
              "      <th>property_id</th>\n",
              "      <th>check_in_date</th>\n",
              "      <th>room_category</th>\n",
              "      <th>successful_bookings</th>\n",
              "      <th>capacity</th>\n",
              "    </tr>\n",
              "  </thead>\n",
              "  <tbody>\n",
              "    <tr>\n",
              "      <th>0</th>\n",
              "      <td>16559</td>\n",
              "      <td>1-May-22</td>\n",
              "      <td>RT1</td>\n",
              "      <td>25</td>\n",
              "      <td>30.0</td>\n",
              "    </tr>\n",
              "    <tr>\n",
              "      <th>1</th>\n",
              "      <td>19562</td>\n",
              "      <td>1-May-22</td>\n",
              "      <td>RT1</td>\n",
              "      <td>28</td>\n",
              "      <td>30.0</td>\n",
              "    </tr>\n",
              "    <tr>\n",
              "      <th>2</th>\n",
              "      <td>19563</td>\n",
              "      <td>1-May-22</td>\n",
              "      <td>RT1</td>\n",
              "      <td>23</td>\n",
              "      <td>30.0</td>\n",
              "    </tr>\n",
              "    <tr>\n",
              "      <th>3</th>\n",
              "      <td>17558</td>\n",
              "      <td>1-May-22</td>\n",
              "      <td>RT1</td>\n",
              "      <td>30</td>\n",
              "      <td>19.0</td>\n",
              "    </tr>\n",
              "    <tr>\n",
              "      <th>4</th>\n",
              "      <td>16558</td>\n",
              "      <td>1-May-22</td>\n",
              "      <td>RT1</td>\n",
              "      <td>18</td>\n",
              "      <td>19.0</td>\n",
              "    </tr>\n",
              "    <tr>\n",
              "      <th>...</th>\n",
              "      <td>...</td>\n",
              "      <td>...</td>\n",
              "      <td>...</td>\n",
              "      <td>...</td>\n",
              "      <td>...</td>\n",
              "    </tr>\n",
              "    <tr>\n",
              "      <th>9195</th>\n",
              "      <td>16563</td>\n",
              "      <td>31-Jul-22</td>\n",
              "      <td>RT4</td>\n",
              "      <td>13</td>\n",
              "      <td>18.0</td>\n",
              "    </tr>\n",
              "    <tr>\n",
              "      <th>9196</th>\n",
              "      <td>16559</td>\n",
              "      <td>31-Jul-22</td>\n",
              "      <td>RT4</td>\n",
              "      <td>13</td>\n",
              "      <td>18.0</td>\n",
              "    </tr>\n",
              "    <tr>\n",
              "      <th>9197</th>\n",
              "      <td>17558</td>\n",
              "      <td>31-Jul-22</td>\n",
              "      <td>RT4</td>\n",
              "      <td>3</td>\n",
              "      <td>6.0</td>\n",
              "    </tr>\n",
              "    <tr>\n",
              "      <th>9198</th>\n",
              "      <td>19563</td>\n",
              "      <td>31-Jul-22</td>\n",
              "      <td>RT4</td>\n",
              "      <td>3</td>\n",
              "      <td>6.0</td>\n",
              "    </tr>\n",
              "    <tr>\n",
              "      <th>9199</th>\n",
              "      <td>17561</td>\n",
              "      <td>31-Jul-22</td>\n",
              "      <td>RT4</td>\n",
              "      <td>3</td>\n",
              "      <td>4.0</td>\n",
              "    </tr>\n",
              "  </tbody>\n",
              "</table>\n",
              "<p>9200 rows × 5 columns</p>\n",
              "</div>"
            ],
            "text/plain": [
              "      property_id check_in_date room_category  successful_bookings  capacity\n",
              "0           16559      1-May-22           RT1                   25      30.0\n",
              "1           19562      1-May-22           RT1                   28      30.0\n",
              "2           19563      1-May-22           RT1                   23      30.0\n",
              "3           17558      1-May-22           RT1                   30      19.0\n",
              "4           16558      1-May-22           RT1                   18      19.0\n",
              "...           ...           ...           ...                  ...       ...\n",
              "9195        16563     31-Jul-22           RT4                   13      18.0\n",
              "9196        16559     31-Jul-22           RT4                   13      18.0\n",
              "9197        17558     31-Jul-22           RT4                    3       6.0\n",
              "9198        19563     31-Jul-22           RT4                    3       6.0\n",
              "9199        17561     31-Jul-22           RT4                    3       4.0\n",
              "\n",
              "[9200 rows x 5 columns]"
            ]
          },
          "execution_count": 39,
          "metadata": {},
          "output_type": "execute_result"
        }
      ],
      "source": [
        "df_agg_bookings.capacity.fillna(df_agg_bookings.capacity.median(), inplace=True)\n",
        "df_agg_bookings"
      ]
    },
    {
      "cell_type": "code",
      "execution_count": null,
      "id": "891755fa-7838-40c2-912e-40612171679b",
      "metadata": {
        "id": "891755fa-7838-40c2-912e-40612171679b",
        "outputId": "c04992bb-7823-409f-f3f1-1744093bbad4"
      },
      "outputs": [
        {
          "data": {
            "text/plain": [
              "8     25.0\n",
              "15    25.0\n",
              "Name: capacity, dtype: float64"
            ]
          },
          "execution_count": 40,
          "metadata": {},
          "output_type": "execute_result"
        }
      ],
      "source": [
        "df_agg_bookings.capacity.loc[[8,15]]"
      ]
    },
    {
      "cell_type": "markdown",
      "id": "24158a8b-5f34-44d1-93bc-9507d00750e5",
      "metadata": {
        "id": "24158a8b-5f34-44d1-93bc-9507d00750e5"
      },
      "source": [
        "**Excercise-2:**\n",
        "Filtering the records where successful_bookings values are greater than the capacity values"
      ]
    },
    {
      "cell_type": "code",
      "execution_count": null,
      "id": "accaa59f-290d-40e6-9938-806c3558e906",
      "metadata": {
        "id": "accaa59f-290d-40e6-9938-806c3558e906",
        "outputId": "41df7b9d-f0bc-4215-83c5-c06e09b0148a"
      },
      "outputs": [
        {
          "data": {
            "text/html": [
              "<div>\n",
              "<style scoped>\n",
              "    .dataframe tbody tr th:only-of-type {\n",
              "        vertical-align: middle;\n",
              "    }\n",
              "\n",
              "    .dataframe tbody tr th {\n",
              "        vertical-align: top;\n",
              "    }\n",
              "\n",
              "    .dataframe thead th {\n",
              "        text-align: right;\n",
              "    }\n",
              "</style>\n",
              "<table border=\"1\" class=\"dataframe\">\n",
              "  <thead>\n",
              "    <tr style=\"text-align: right;\">\n",
              "      <th></th>\n",
              "      <th>property_id</th>\n",
              "      <th>check_in_date</th>\n",
              "      <th>room_category</th>\n",
              "      <th>successful_bookings</th>\n",
              "      <th>capacity</th>\n",
              "    </tr>\n",
              "  </thead>\n",
              "  <tbody>\n",
              "    <tr>\n",
              "      <th>3</th>\n",
              "      <td>17558</td>\n",
              "      <td>1-May-22</td>\n",
              "      <td>RT1</td>\n",
              "      <td>30</td>\n",
              "      <td>19.0</td>\n",
              "    </tr>\n",
              "    <tr>\n",
              "      <th>12</th>\n",
              "      <td>16563</td>\n",
              "      <td>1-May-22</td>\n",
              "      <td>RT1</td>\n",
              "      <td>100</td>\n",
              "      <td>41.0</td>\n",
              "    </tr>\n",
              "    <tr>\n",
              "      <th>4136</th>\n",
              "      <td>19558</td>\n",
              "      <td>11-Jun-22</td>\n",
              "      <td>RT2</td>\n",
              "      <td>50</td>\n",
              "      <td>39.0</td>\n",
              "    </tr>\n",
              "    <tr>\n",
              "      <th>6209</th>\n",
              "      <td>19560</td>\n",
              "      <td>2-Jul-22</td>\n",
              "      <td>RT1</td>\n",
              "      <td>123</td>\n",
              "      <td>26.0</td>\n",
              "    </tr>\n",
              "    <tr>\n",
              "      <th>8522</th>\n",
              "      <td>19559</td>\n",
              "      <td>25-Jul-22</td>\n",
              "      <td>RT1</td>\n",
              "      <td>35</td>\n",
              "      <td>24.0</td>\n",
              "    </tr>\n",
              "    <tr>\n",
              "      <th>9194</th>\n",
              "      <td>18563</td>\n",
              "      <td>31-Jul-22</td>\n",
              "      <td>RT4</td>\n",
              "      <td>20</td>\n",
              "      <td>18.0</td>\n",
              "    </tr>\n",
              "  </tbody>\n",
              "</table>\n",
              "</div>"
            ],
            "text/plain": [
              "      property_id check_in_date room_category  successful_bookings  capacity\n",
              "3           17558      1-May-22           RT1                   30      19.0\n",
              "12          16563      1-May-22           RT1                  100      41.0\n",
              "4136        19558     11-Jun-22           RT2                   50      39.0\n",
              "6209        19560      2-Jul-22           RT1                  123      26.0\n",
              "8522        19559     25-Jul-22           RT1                   35      24.0\n",
              "9194        18563     31-Jul-22           RT4                   20      18.0"
            ]
          },
          "execution_count": 41,
          "metadata": {},
          "output_type": "execute_result"
        }
      ],
      "source": [
        "df_agg_bookings[df_agg_bookings.successful_bookings > df_agg_bookings.capacity]"
      ]
    },
    {
      "cell_type": "code",
      "execution_count": null,
      "id": "caa20e6c-cc11-46de-863c-aec6fa6eed62",
      "metadata": {
        "id": "caa20e6c-cc11-46de-863c-aec6fa6eed62",
        "outputId": "4e7c43dc-2dae-4df1-aace-2713b75d2b9b"
      },
      "outputs": [
        {
          "data": {
            "text/plain": [
              "(9200, 5)"
            ]
          },
          "execution_count": 42,
          "metadata": {},
          "output_type": "execute_result"
        }
      ],
      "source": [
        "df_agg_bookings.shape"
      ]
    },
    {
      "cell_type": "code",
      "execution_count": null,
      "id": "f42d88b2-c20e-41a8-8d68-5532c879d627",
      "metadata": {
        "id": "f42d88b2-c20e-41a8-8d68-5532c879d627",
        "outputId": "41d4129f-bc3f-4e2f-94ee-630cbe66edb9"
      },
      "outputs": [
        {
          "data": {
            "text/html": [
              "<div>\n",
              "<style scoped>\n",
              "    .dataframe tbody tr th:only-of-type {\n",
              "        vertical-align: middle;\n",
              "    }\n",
              "\n",
              "    .dataframe tbody tr th {\n",
              "        vertical-align: top;\n",
              "    }\n",
              "\n",
              "    .dataframe thead th {\n",
              "        text-align: right;\n",
              "    }\n",
              "</style>\n",
              "<table border=\"1\" class=\"dataframe\">\n",
              "  <thead>\n",
              "    <tr style=\"text-align: right;\">\n",
              "      <th></th>\n",
              "      <th>property_id</th>\n",
              "      <th>check_in_date</th>\n",
              "      <th>room_category</th>\n",
              "      <th>successful_bookings</th>\n",
              "      <th>capacity</th>\n",
              "    </tr>\n",
              "  </thead>\n",
              "  <tbody>\n",
              "    <tr>\n",
              "      <th>0</th>\n",
              "      <td>16559</td>\n",
              "      <td>1-May-22</td>\n",
              "      <td>RT1</td>\n",
              "      <td>25</td>\n",
              "      <td>30.0</td>\n",
              "    </tr>\n",
              "    <tr>\n",
              "      <th>1</th>\n",
              "      <td>19562</td>\n",
              "      <td>1-May-22</td>\n",
              "      <td>RT1</td>\n",
              "      <td>28</td>\n",
              "      <td>30.0</td>\n",
              "    </tr>\n",
              "    <tr>\n",
              "      <th>2</th>\n",
              "      <td>19563</td>\n",
              "      <td>1-May-22</td>\n",
              "      <td>RT1</td>\n",
              "      <td>23</td>\n",
              "      <td>30.0</td>\n",
              "    </tr>\n",
              "    <tr>\n",
              "      <th>4</th>\n",
              "      <td>16558</td>\n",
              "      <td>1-May-22</td>\n",
              "      <td>RT1</td>\n",
              "      <td>18</td>\n",
              "      <td>19.0</td>\n",
              "    </tr>\n",
              "    <tr>\n",
              "      <th>5</th>\n",
              "      <td>17560</td>\n",
              "      <td>1-May-22</td>\n",
              "      <td>RT1</td>\n",
              "      <td>28</td>\n",
              "      <td>40.0</td>\n",
              "    </tr>\n",
              "    <tr>\n",
              "      <th>...</th>\n",
              "      <td>...</td>\n",
              "      <td>...</td>\n",
              "      <td>...</td>\n",
              "      <td>...</td>\n",
              "      <td>...</td>\n",
              "    </tr>\n",
              "    <tr>\n",
              "      <th>9195</th>\n",
              "      <td>16563</td>\n",
              "      <td>31-Jul-22</td>\n",
              "      <td>RT4</td>\n",
              "      <td>13</td>\n",
              "      <td>18.0</td>\n",
              "    </tr>\n",
              "    <tr>\n",
              "      <th>9196</th>\n",
              "      <td>16559</td>\n",
              "      <td>31-Jul-22</td>\n",
              "      <td>RT4</td>\n",
              "      <td>13</td>\n",
              "      <td>18.0</td>\n",
              "    </tr>\n",
              "    <tr>\n",
              "      <th>9197</th>\n",
              "      <td>17558</td>\n",
              "      <td>31-Jul-22</td>\n",
              "      <td>RT4</td>\n",
              "      <td>3</td>\n",
              "      <td>6.0</td>\n",
              "    </tr>\n",
              "    <tr>\n",
              "      <th>9198</th>\n",
              "      <td>19563</td>\n",
              "      <td>31-Jul-22</td>\n",
              "      <td>RT4</td>\n",
              "      <td>3</td>\n",
              "      <td>6.0</td>\n",
              "    </tr>\n",
              "    <tr>\n",
              "      <th>9199</th>\n",
              "      <td>17561</td>\n",
              "      <td>31-Jul-22</td>\n",
              "      <td>RT4</td>\n",
              "      <td>3</td>\n",
              "      <td>4.0</td>\n",
              "    </tr>\n",
              "  </tbody>\n",
              "</table>\n",
              "<p>9194 rows × 5 columns</p>\n",
              "</div>"
            ],
            "text/plain": [
              "      property_id check_in_date room_category  successful_bookings  capacity\n",
              "0           16559      1-May-22           RT1                   25      30.0\n",
              "1           19562      1-May-22           RT1                   28      30.0\n",
              "2           19563      1-May-22           RT1                   23      30.0\n",
              "4           16558      1-May-22           RT1                   18      19.0\n",
              "5           17560      1-May-22           RT1                   28      40.0\n",
              "...           ...           ...           ...                  ...       ...\n",
              "9195        16563     31-Jul-22           RT4                   13      18.0\n",
              "9196        16559     31-Jul-22           RT4                   13      18.0\n",
              "9197        17558     31-Jul-22           RT4                    3       6.0\n",
              "9198        19563     31-Jul-22           RT4                    3       6.0\n",
              "9199        17561     31-Jul-22           RT4                    3       4.0\n",
              "\n",
              "[9194 rows x 5 columns]"
            ]
          },
          "execution_count": 43,
          "metadata": {},
          "output_type": "execute_result"
        }
      ],
      "source": [
        "df_agg_bookings = df_agg_bookings[df_agg_bookings.successful_bookings <= df_agg_bookings.capacity]\n",
        "df_agg_bookings"
      ]
    },
    {
      "cell_type": "code",
      "execution_count": null,
      "id": "b96827ec-b03d-47d0-b810-dc3db11cbf16",
      "metadata": {
        "id": "b96827ec-b03d-47d0-b810-dc3db11cbf16",
        "outputId": "3e9b903f-a04a-4a5e-907a-58a9582b5bf2"
      },
      "outputs": [
        {
          "data": {
            "text/plain": [
              "(9194, 5)"
            ]
          },
          "execution_count": 44,
          "metadata": {},
          "output_type": "execute_result"
        }
      ],
      "source": [
        "df_agg_bookings.shape"
      ]
    },
    {
      "cell_type": "markdown",
      "id": "bade5966-fc06-4594-9abb-0c72a45d74c1",
      "metadata": {
        "id": "bade5966-fc06-4594-9abb-0c72a45d74c1"
      },
      "source": [
        "**3. Data Transformation**\n",
        "Creating 'Occupancy percentage' column"
      ]
    },
    {
      "cell_type": "code",
      "execution_count": null,
      "id": "096ccc31-277c-48ad-944b-dda94d40da43",
      "metadata": {
        "id": "096ccc31-277c-48ad-944b-dda94d40da43",
        "outputId": "bbb95931-0aab-48e9-bba9-080ba044151a"
      },
      "outputs": [
        {
          "data": {
            "text/html": [
              "<div>\n",
              "<style scoped>\n",
              "    .dataframe tbody tr th:only-of-type {\n",
              "        vertical-align: middle;\n",
              "    }\n",
              "\n",
              "    .dataframe tbody tr th {\n",
              "        vertical-align: top;\n",
              "    }\n",
              "\n",
              "    .dataframe thead th {\n",
              "        text-align: right;\n",
              "    }\n",
              "</style>\n",
              "<table border=\"1\" class=\"dataframe\">\n",
              "  <thead>\n",
              "    <tr style=\"text-align: right;\">\n",
              "      <th></th>\n",
              "      <th>property_id</th>\n",
              "      <th>check_in_date</th>\n",
              "      <th>room_category</th>\n",
              "      <th>successful_bookings</th>\n",
              "      <th>capacity</th>\n",
              "      <th>occupancy_percentage</th>\n",
              "    </tr>\n",
              "  </thead>\n",
              "  <tbody>\n",
              "    <tr>\n",
              "      <th>0</th>\n",
              "      <td>16559</td>\n",
              "      <td>1-May-22</td>\n",
              "      <td>RT1</td>\n",
              "      <td>25</td>\n",
              "      <td>30.0</td>\n",
              "      <td>83.33</td>\n",
              "    </tr>\n",
              "    <tr>\n",
              "      <th>1</th>\n",
              "      <td>19562</td>\n",
              "      <td>1-May-22</td>\n",
              "      <td>RT1</td>\n",
              "      <td>28</td>\n",
              "      <td>30.0</td>\n",
              "      <td>93.33</td>\n",
              "    </tr>\n",
              "    <tr>\n",
              "      <th>2</th>\n",
              "      <td>19563</td>\n",
              "      <td>1-May-22</td>\n",
              "      <td>RT1</td>\n",
              "      <td>23</td>\n",
              "      <td>30.0</td>\n",
              "      <td>76.67</td>\n",
              "    </tr>\n",
              "  </tbody>\n",
              "</table>\n",
              "</div>"
            ],
            "text/plain": [
              "   property_id check_in_date room_category  successful_bookings  capacity  \\\n",
              "0        16559      1-May-22           RT1                   25      30.0   \n",
              "1        19562      1-May-22           RT1                   28      30.0   \n",
              "2        19563      1-May-22           RT1                   23      30.0   \n",
              "\n",
              "   occupancy_percentage  \n",
              "0                 83.33  \n",
              "1                 93.33  \n",
              "2                 76.67  "
            ]
          },
          "execution_count": 52,
          "metadata": {},
          "output_type": "execute_result"
        }
      ],
      "source": [
        "new_col = df_agg_bookings.apply(lambda row: round((row['successful_bookings']/row['capacity'])*100, 2), axis=1)\n",
        "df_agg_bookings = df_agg_bookings.assign(occupancy_percentage=new_col.values)\n",
        "df_agg_bookings.head(3)"
      ]
    },
    {
      "cell_type": "code",
      "execution_count": null,
      "id": "efee4f3c-ecbe-40b5-98fb-8c5ffde5ff99",
      "metadata": {
        "id": "efee4f3c-ecbe-40b5-98fb-8c5ffde5ff99",
        "outputId": "053831b6-e868-4cfb-8381-28fc1348b6d4"
      },
      "outputs": [
        {
          "data": {
            "text/html": [
              "<div>\n",
              "<style scoped>\n",
              "    .dataframe tbody tr th:only-of-type {\n",
              "        vertical-align: middle;\n",
              "    }\n",
              "\n",
              "    .dataframe tbody tr th {\n",
              "        vertical-align: top;\n",
              "    }\n",
              "\n",
              "    .dataframe thead th {\n",
              "        text-align: right;\n",
              "    }\n",
              "</style>\n",
              "<table border=\"1\" class=\"dataframe\">\n",
              "  <thead>\n",
              "    <tr style=\"text-align: right;\">\n",
              "      <th></th>\n",
              "      <th>booking_id</th>\n",
              "      <th>property_id</th>\n",
              "      <th>booking_date</th>\n",
              "      <th>check_in_date</th>\n",
              "      <th>checkout_date</th>\n",
              "      <th>no_guests</th>\n",
              "      <th>room_category</th>\n",
              "      <th>booking_platform</th>\n",
              "      <th>ratings_given</th>\n",
              "      <th>booking_status</th>\n",
              "      <th>revenue_generated</th>\n",
              "      <th>revenue_realized</th>\n",
              "    </tr>\n",
              "  </thead>\n",
              "  <tbody>\n",
              "    <tr>\n",
              "      <th>1</th>\n",
              "      <td>May012216558RT12</td>\n",
              "      <td>16558</td>\n",
              "      <td>30-04-22</td>\n",
              "      <td>1/5/2022</td>\n",
              "      <td>2/5/2022</td>\n",
              "      <td>2.0</td>\n",
              "      <td>RT1</td>\n",
              "      <td>others</td>\n",
              "      <td>NaN</td>\n",
              "      <td>Cancelled</td>\n",
              "      <td>9100</td>\n",
              "      <td>3640</td>\n",
              "    </tr>\n",
              "    <tr>\n",
              "      <th>4</th>\n",
              "      <td>May012216558RT15</td>\n",
              "      <td>16558</td>\n",
              "      <td>27-04-22</td>\n",
              "      <td>1/5/2022</td>\n",
              "      <td>2/5/2022</td>\n",
              "      <td>4.0</td>\n",
              "      <td>RT1</td>\n",
              "      <td>direct online</td>\n",
              "      <td>5.0</td>\n",
              "      <td>Checked Out</td>\n",
              "      <td>10920</td>\n",
              "      <td>10920</td>\n",
              "    </tr>\n",
              "    <tr>\n",
              "      <th>5</th>\n",
              "      <td>May012216558RT16</td>\n",
              "      <td>16558</td>\n",
              "      <td>1/5/2022</td>\n",
              "      <td>1/5/2022</td>\n",
              "      <td>3/5/2022</td>\n",
              "      <td>2.0</td>\n",
              "      <td>RT1</td>\n",
              "      <td>others</td>\n",
              "      <td>4.0</td>\n",
              "      <td>Checked Out</td>\n",
              "      <td>9100</td>\n",
              "      <td>9100</td>\n",
              "    </tr>\n",
              "    <tr>\n",
              "      <th>6</th>\n",
              "      <td>May012216558RT17</td>\n",
              "      <td>16558</td>\n",
              "      <td>28-04-22</td>\n",
              "      <td>1/5/2022</td>\n",
              "      <td>6/5/2022</td>\n",
              "      <td>2.0</td>\n",
              "      <td>RT1</td>\n",
              "      <td>others</td>\n",
              "      <td>NaN</td>\n",
              "      <td>Cancelled</td>\n",
              "      <td>9100</td>\n",
              "      <td>3640</td>\n",
              "    </tr>\n",
              "    <tr>\n",
              "      <th>7</th>\n",
              "      <td>May012216558RT18</td>\n",
              "      <td>16558</td>\n",
              "      <td>26-04-22</td>\n",
              "      <td>1/5/2022</td>\n",
              "      <td>3/5/2022</td>\n",
              "      <td>2.0</td>\n",
              "      <td>RT1</td>\n",
              "      <td>logtrip</td>\n",
              "      <td>NaN</td>\n",
              "      <td>No Show</td>\n",
              "      <td>9100</td>\n",
              "      <td>9100</td>\n",
              "    </tr>\n",
              "  </tbody>\n",
              "</table>\n",
              "</div>"
            ],
            "text/plain": [
              "         booking_id  property_id booking_date check_in_date checkout_date  \\\n",
              "1  May012216558RT12        16558     30-04-22      1/5/2022      2/5/2022   \n",
              "4  May012216558RT15        16558     27-04-22      1/5/2022      2/5/2022   \n",
              "5  May012216558RT16        16558     1/5/2022      1/5/2022      3/5/2022   \n",
              "6  May012216558RT17        16558     28-04-22      1/5/2022      6/5/2022   \n",
              "7  May012216558RT18        16558     26-04-22      1/5/2022      3/5/2022   \n",
              "\n",
              "   no_guests room_category booking_platform  ratings_given booking_status  \\\n",
              "1        2.0           RT1           others            NaN      Cancelled   \n",
              "4        4.0           RT1    direct online            5.0    Checked Out   \n",
              "5        2.0           RT1           others            4.0    Checked Out   \n",
              "6        2.0           RT1           others            NaN      Cancelled   \n",
              "7        2.0           RT1          logtrip            NaN        No Show   \n",
              "\n",
              "   revenue_generated  revenue_realized  \n",
              "1               9100              3640  \n",
              "4              10920             10920  \n",
              "5               9100              9100  \n",
              "6               9100              3640  \n",
              "7               9100              9100  "
            ]
          },
          "execution_count": 56,
          "metadata": {},
          "output_type": "execute_result"
        }
      ],
      "source": [
        "df_bookings.head()"
      ]
    },
    {
      "cell_type": "code",
      "execution_count": null,
      "id": "d8aa3a58-d646-40fc-989b-5ddad00b85f0",
      "metadata": {
        "id": "d8aa3a58-d646-40fc-989b-5ddad00b85f0",
        "outputId": "d8d34e45-5693-47dd-abb1-290712da3dd7"
      },
      "outputs": [
        {
          "name": "stdout",
          "output_type": "stream",
          "text": [
            "<class 'pandas.core.frame.DataFrame'>\n",
            "Index: 9194 entries, 0 to 9199\n",
            "Data columns (total 6 columns):\n",
            " #   Column                Non-Null Count  Dtype  \n",
            "---  ------                --------------  -----  \n",
            " 0   property_id           9194 non-null   int64  \n",
            " 1   check_in_date         9194 non-null   object \n",
            " 2   room_category         9194 non-null   object \n",
            " 3   successful_bookings   9194 non-null   int64  \n",
            " 4   capacity              9194 non-null   float64\n",
            " 5   occupancy_percentage  9194 non-null   float64\n",
            "dtypes: float64(2), int64(2), object(2)\n",
            "memory usage: 760.8+ KB\n"
          ]
        }
      ],
      "source": [
        "df_agg_bookings.info()"
      ]
    },
    {
      "cell_type": "markdown",
      "id": "a9b8df7c-fd0f-49a4-a4d5-6b8af010809d",
      "metadata": {
        "id": "a9b8df7c-fd0f-49a4-a4d5-6b8af010809d"
      },
      "source": [
        "**Insights generation**"
      ]
    },
    {
      "cell_type": "markdown",
      "id": "bf5f7dbe-29e6-41e4-96b5-c930e279de43",
      "metadata": {
        "id": "bf5f7dbe-29e6-41e4-96b5-c930e279de43"
      },
      "source": [
        "1. Average occupancy rate in each of the room categories"
      ]
    },
    {
      "cell_type": "code",
      "execution_count": null,
      "id": "941d44d6-96b9-43b7-9aa0-9e2cd25e108b",
      "metadata": {
        "id": "941d44d6-96b9-43b7-9aa0-9e2cd25e108b",
        "outputId": "a5097e1c-8540-449f-9aea-184bec96b8ed"
      },
      "outputs": [
        {
          "data": {
            "text/plain": [
              "room_category\n",
              "RT1    57.89\n",
              "RT2    58.01\n",
              "RT3    58.03\n",
              "RT4    59.28\n",
              "Name: occupancy_percentage, dtype: float64"
            ]
          },
          "execution_count": 58,
          "metadata": {},
          "output_type": "execute_result"
        }
      ],
      "source": [
        "df_agg_bookings.groupby(\"room_category\")[\"occupancy_percentage\"].mean().round(2)"
      ]
    },
    {
      "cell_type": "markdown",
      "id": "8f21a8d2-27ab-48e3-9c73-a516aa6dc0fe",
      "metadata": {
        "id": "8f21a8d2-27ab-48e3-9c73-a516aa6dc0fe"
      },
      "source": [
        "Replacing the room category names such as RT1, RT2... with Standard, Premium, Elite..."
      ]
    },
    {
      "cell_type": "code",
      "execution_count": null,
      "id": "f544d710-5c2b-4fd4-ba3a-5a9b0ec31ba2",
      "metadata": {
        "id": "f544d710-5c2b-4fd4-ba3a-5a9b0ec31ba2",
        "outputId": "ded98b9d-8e5d-41ec-d6e3-ed96c40fb3bd"
      },
      "outputs": [
        {
          "data": {
            "text/html": [
              "<div>\n",
              "<style scoped>\n",
              "    .dataframe tbody tr th:only-of-type {\n",
              "        vertical-align: middle;\n",
              "    }\n",
              "\n",
              "    .dataframe tbody tr th {\n",
              "        vertical-align: top;\n",
              "    }\n",
              "\n",
              "    .dataframe thead th {\n",
              "        text-align: right;\n",
              "    }\n",
              "</style>\n",
              "<table border=\"1\" class=\"dataframe\">\n",
              "  <thead>\n",
              "    <tr style=\"text-align: right;\">\n",
              "      <th></th>\n",
              "      <th>room_id</th>\n",
              "      <th>room_class</th>\n",
              "    </tr>\n",
              "  </thead>\n",
              "  <tbody>\n",
              "    <tr>\n",
              "      <th>0</th>\n",
              "      <td>RT1</td>\n",
              "      <td>Standard</td>\n",
              "    </tr>\n",
              "    <tr>\n",
              "      <th>1</th>\n",
              "      <td>RT2</td>\n",
              "      <td>Elite</td>\n",
              "    </tr>\n",
              "    <tr>\n",
              "      <th>2</th>\n",
              "      <td>RT3</td>\n",
              "      <td>Premium</td>\n",
              "    </tr>\n",
              "    <tr>\n",
              "      <th>3</th>\n",
              "      <td>RT4</td>\n",
              "      <td>Presidential</td>\n",
              "    </tr>\n",
              "  </tbody>\n",
              "</table>\n",
              "</div>"
            ],
            "text/plain": [
              "  room_id    room_class\n",
              "0     RT1      Standard\n",
              "1     RT2         Elite\n",
              "2     RT3       Premium\n",
              "3     RT4  Presidential"
            ]
          },
          "execution_count": 59,
          "metadata": {},
          "output_type": "execute_result"
        }
      ],
      "source": [
        "df_rooms.head()"
      ]
    },
    {
      "cell_type": "code",
      "execution_count": null,
      "id": "f11b9e4c-cfb6-4d9b-bc7a-d8416a672d62",
      "metadata": {
        "id": "f11b9e4c-cfb6-4d9b-bc7a-d8416a672d62",
        "outputId": "d446ff2c-9bde-436e-bcce-fdc1f5577f8d"
      },
      "outputs": [
        {
          "data": {
            "text/html": [
              "<div>\n",
              "<style scoped>\n",
              "    .dataframe tbody tr th:only-of-type {\n",
              "        vertical-align: middle;\n",
              "    }\n",
              "\n",
              "    .dataframe tbody tr th {\n",
              "        vertical-align: top;\n",
              "    }\n",
              "\n",
              "    .dataframe thead th {\n",
              "        text-align: right;\n",
              "    }\n",
              "</style>\n",
              "<table border=\"1\" class=\"dataframe\">\n",
              "  <thead>\n",
              "    <tr style=\"text-align: right;\">\n",
              "      <th></th>\n",
              "      <th>property_id</th>\n",
              "      <th>check_in_date</th>\n",
              "      <th>room_category</th>\n",
              "      <th>successful_bookings</th>\n",
              "      <th>capacity</th>\n",
              "      <th>occupancy_percentage</th>\n",
              "      <th>room_id</th>\n",
              "      <th>room_class</th>\n",
              "    </tr>\n",
              "  </thead>\n",
              "  <tbody>\n",
              "    <tr>\n",
              "      <th>0</th>\n",
              "      <td>16559</td>\n",
              "      <td>1-May-22</td>\n",
              "      <td>RT1</td>\n",
              "      <td>25</td>\n",
              "      <td>30.0</td>\n",
              "      <td>83.33</td>\n",
              "      <td>RT1</td>\n",
              "      <td>Standard</td>\n",
              "    </tr>\n",
              "    <tr>\n",
              "      <th>1</th>\n",
              "      <td>19562</td>\n",
              "      <td>1-May-22</td>\n",
              "      <td>RT1</td>\n",
              "      <td>28</td>\n",
              "      <td>30.0</td>\n",
              "      <td>93.33</td>\n",
              "      <td>RT1</td>\n",
              "      <td>Standard</td>\n",
              "    </tr>\n",
              "    <tr>\n",
              "      <th>2</th>\n",
              "      <td>19563</td>\n",
              "      <td>1-May-22</td>\n",
              "      <td>RT1</td>\n",
              "      <td>23</td>\n",
              "      <td>30.0</td>\n",
              "      <td>76.67</td>\n",
              "      <td>RT1</td>\n",
              "      <td>Standard</td>\n",
              "    </tr>\n",
              "    <tr>\n",
              "      <th>3</th>\n",
              "      <td>16558</td>\n",
              "      <td>1-May-22</td>\n",
              "      <td>RT1</td>\n",
              "      <td>18</td>\n",
              "      <td>19.0</td>\n",
              "      <td>94.74</td>\n",
              "      <td>RT1</td>\n",
              "      <td>Standard</td>\n",
              "    </tr>\n",
              "    <tr>\n",
              "      <th>4</th>\n",
              "      <td>17560</td>\n",
              "      <td>1-May-22</td>\n",
              "      <td>RT1</td>\n",
              "      <td>28</td>\n",
              "      <td>40.0</td>\n",
              "      <td>70.00</td>\n",
              "      <td>RT1</td>\n",
              "      <td>Standard</td>\n",
              "    </tr>\n",
              "  </tbody>\n",
              "</table>\n",
              "</div>"
            ],
            "text/plain": [
              "   property_id check_in_date room_category  successful_bookings  capacity  \\\n",
              "0        16559      1-May-22           RT1                   25      30.0   \n",
              "1        19562      1-May-22           RT1                   28      30.0   \n",
              "2        19563      1-May-22           RT1                   23      30.0   \n",
              "3        16558      1-May-22           RT1                   18      19.0   \n",
              "4        17560      1-May-22           RT1                   28      40.0   \n",
              "\n",
              "   occupancy_percentage room_id room_class  \n",
              "0                 83.33     RT1   Standard  \n",
              "1                 93.33     RT1   Standard  \n",
              "2                 76.67     RT1   Standard  \n",
              "3                 94.74     RT1   Standard  \n",
              "4                 70.00     RT1   Standard  "
            ]
          },
          "execution_count": 60,
          "metadata": {},
          "output_type": "execute_result"
        }
      ],
      "source": [
        "df1 = pd.merge(df_agg_bookings, df_rooms, left_on=\"room_category\", right_on=\"room_id\")\n",
        "df1.head()"
      ]
    },
    {
      "cell_type": "code",
      "execution_count": null,
      "id": "a9c59ee1-17c1-4bc3-9394-000ae8cf3f56",
      "metadata": {
        "id": "a9c59ee1-17c1-4bc3-9394-000ae8cf3f56",
        "outputId": "8c7aa5b7-7efe-40f2-8072-68de9d70aaf2"
      },
      "outputs": [
        {
          "data": {
            "text/html": [
              "<div>\n",
              "<style scoped>\n",
              "    .dataframe tbody tr th:only-of-type {\n",
              "        vertical-align: middle;\n",
              "    }\n",
              "\n",
              "    .dataframe tbody tr th {\n",
              "        vertical-align: top;\n",
              "    }\n",
              "\n",
              "    .dataframe thead th {\n",
              "        text-align: right;\n",
              "    }\n",
              "</style>\n",
              "<table border=\"1\" class=\"dataframe\">\n",
              "  <thead>\n",
              "    <tr style=\"text-align: right;\">\n",
              "      <th></th>\n",
              "      <th>property_id</th>\n",
              "      <th>check_in_date</th>\n",
              "      <th>room_category</th>\n",
              "      <th>successful_bookings</th>\n",
              "      <th>capacity</th>\n",
              "      <th>occupancy_percentage</th>\n",
              "      <th>room_class</th>\n",
              "    </tr>\n",
              "  </thead>\n",
              "  <tbody>\n",
              "    <tr>\n",
              "      <th>0</th>\n",
              "      <td>16559</td>\n",
              "      <td>1-May-22</td>\n",
              "      <td>RT1</td>\n",
              "      <td>25</td>\n",
              "      <td>30.0</td>\n",
              "      <td>83.33</td>\n",
              "      <td>Standard</td>\n",
              "    </tr>\n",
              "    <tr>\n",
              "      <th>1</th>\n",
              "      <td>19562</td>\n",
              "      <td>1-May-22</td>\n",
              "      <td>RT1</td>\n",
              "      <td>28</td>\n",
              "      <td>30.0</td>\n",
              "      <td>93.33</td>\n",
              "      <td>Standard</td>\n",
              "    </tr>\n",
              "    <tr>\n",
              "      <th>2</th>\n",
              "      <td>19563</td>\n",
              "      <td>1-May-22</td>\n",
              "      <td>RT1</td>\n",
              "      <td>23</td>\n",
              "      <td>30.0</td>\n",
              "      <td>76.67</td>\n",
              "      <td>Standard</td>\n",
              "    </tr>\n",
              "    <tr>\n",
              "      <th>3</th>\n",
              "      <td>16558</td>\n",
              "      <td>1-May-22</td>\n",
              "      <td>RT1</td>\n",
              "      <td>18</td>\n",
              "      <td>19.0</td>\n",
              "      <td>94.74</td>\n",
              "      <td>Standard</td>\n",
              "    </tr>\n",
              "    <tr>\n",
              "      <th>4</th>\n",
              "      <td>17560</td>\n",
              "      <td>1-May-22</td>\n",
              "      <td>RT1</td>\n",
              "      <td>28</td>\n",
              "      <td>40.0</td>\n",
              "      <td>70.00</td>\n",
              "      <td>Standard</td>\n",
              "    </tr>\n",
              "  </tbody>\n",
              "</table>\n",
              "</div>"
            ],
            "text/plain": [
              "   property_id check_in_date room_category  successful_bookings  capacity  \\\n",
              "0        16559      1-May-22           RT1                   25      30.0   \n",
              "1        19562      1-May-22           RT1                   28      30.0   \n",
              "2        19563      1-May-22           RT1                   23      30.0   \n",
              "3        16558      1-May-22           RT1                   18      19.0   \n",
              "4        17560      1-May-22           RT1                   28      40.0   \n",
              "\n",
              "   occupancy_percentage room_class  \n",
              "0                 83.33   Standard  \n",
              "1                 93.33   Standard  \n",
              "2                 76.67   Standard  \n",
              "3                 94.74   Standard  \n",
              "4                 70.00   Standard  "
            ]
          },
          "execution_count": 61,
          "metadata": {},
          "output_type": "execute_result"
        }
      ],
      "source": [
        "df1.drop(\"room_id\", axis=1,inplace=True)\n",
        "df1.head()"
      ]
    },
    {
      "cell_type": "markdown",
      "id": "d3a31b6b-8725-46a4-b359-7a52c8cc3546",
      "metadata": {
        "id": "d3a31b6b-8725-46a4-b359-7a52c8cc3546"
      },
      "source": [
        "Average occupancy percentage per room class"
      ]
    },
    {
      "cell_type": "code",
      "execution_count": null,
      "id": "2bfc6f28-e97c-4e57-8194-9cb5ebec3f2f",
      "metadata": {
        "id": "2bfc6f28-e97c-4e57-8194-9cb5ebec3f2f",
        "outputId": "395b6738-bfb6-4bf1-f36f-6203942a8cf4"
      },
      "outputs": [
        {
          "data": {
            "text/plain": [
              "room_class\n",
              "Elite           58.009756\n",
              "Premium         58.028213\n",
              "Presidential    59.277925\n",
              "Standard        57.889643\n",
              "Name: occupancy_percentage, dtype: float64"
            ]
          },
          "execution_count": 62,
          "metadata": {},
          "output_type": "execute_result"
        }
      ],
      "source": [
        "df1.groupby(\"room_class\")[\"occupancy_percentage\"].mean()"
      ]
    },
    {
      "cell_type": "markdown",
      "id": "245dab1a-1e5e-4853-83d6-8ae7a2b5db57",
      "metadata": {
        "id": "245dab1a-1e5e-4853-83d6-8ae7a2b5db57"
      },
      "source": [
        "2. Average occupancy rate per city"
      ]
    },
    {
      "cell_type": "code",
      "execution_count": null,
      "id": "d59f052d-4934-42e1-8fbe-106a439eb565",
      "metadata": {
        "id": "d59f052d-4934-42e1-8fbe-106a439eb565",
        "outputId": "06937313-ddd5-48e5-db2a-47951fe0882f"
      },
      "outputs": [
        {
          "data": {
            "text/html": [
              "<div>\n",
              "<style scoped>\n",
              "    .dataframe tbody tr th:only-of-type {\n",
              "        vertical-align: middle;\n",
              "    }\n",
              "\n",
              "    .dataframe tbody tr th {\n",
              "        vertical-align: top;\n",
              "    }\n",
              "\n",
              "    .dataframe thead th {\n",
              "        text-align: right;\n",
              "    }\n",
              "</style>\n",
              "<table border=\"1\" class=\"dataframe\">\n",
              "  <thead>\n",
              "    <tr style=\"text-align: right;\">\n",
              "      <th></th>\n",
              "      <th>property_id</th>\n",
              "      <th>property_name</th>\n",
              "      <th>category</th>\n",
              "      <th>city</th>\n",
              "    </tr>\n",
              "  </thead>\n",
              "  <tbody>\n",
              "    <tr>\n",
              "      <th>0</th>\n",
              "      <td>16558</td>\n",
              "      <td>Atliq Grands</td>\n",
              "      <td>Luxury</td>\n",
              "      <td>Delhi</td>\n",
              "    </tr>\n",
              "    <tr>\n",
              "      <th>1</th>\n",
              "      <td>16559</td>\n",
              "      <td>Atliq Exotica</td>\n",
              "      <td>Luxury</td>\n",
              "      <td>Mumbai</td>\n",
              "    </tr>\n",
              "    <tr>\n",
              "      <th>2</th>\n",
              "      <td>16560</td>\n",
              "      <td>Atliq City</td>\n",
              "      <td>Business</td>\n",
              "      <td>Delhi</td>\n",
              "    </tr>\n",
              "    <tr>\n",
              "      <th>3</th>\n",
              "      <td>16561</td>\n",
              "      <td>Atliq Blu</td>\n",
              "      <td>Luxury</td>\n",
              "      <td>Delhi</td>\n",
              "    </tr>\n",
              "    <tr>\n",
              "      <th>4</th>\n",
              "      <td>16562</td>\n",
              "      <td>Atliq Bay</td>\n",
              "      <td>Luxury</td>\n",
              "      <td>Delhi</td>\n",
              "    </tr>\n",
              "  </tbody>\n",
              "</table>\n",
              "</div>"
            ],
            "text/plain": [
              "   property_id  property_name  category    city\n",
              "0        16558   Atliq Grands    Luxury   Delhi\n",
              "1        16559  Atliq Exotica    Luxury  Mumbai\n",
              "2        16560     Atliq City  Business   Delhi\n",
              "3        16561      Atliq Blu    Luxury   Delhi\n",
              "4        16562      Atliq Bay    Luxury   Delhi"
            ]
          },
          "execution_count": 63,
          "metadata": {},
          "output_type": "execute_result"
        }
      ],
      "source": [
        "df_hotels.head()"
      ]
    },
    {
      "cell_type": "code",
      "execution_count": null,
      "id": "d5e239d5-ce8f-4763-b659-a295b03e750c",
      "metadata": {
        "id": "d5e239d5-ce8f-4763-b659-a295b03e750c",
        "outputId": "70cfd853-f0c2-4ba3-d9e0-61543258126a"
      },
      "outputs": [
        {
          "data": {
            "text/plain": [
              "57.88964285714285"
            ]
          },
          "execution_count": 64,
          "metadata": {},
          "output_type": "execute_result"
        }
      ],
      "source": [
        "df1[df1[\"room_class\"]==\"Standard\"].occupancy_percentage.mean()"
      ]
    },
    {
      "cell_type": "code",
      "execution_count": null,
      "id": "2bf98812-66af-4b31-9ae5-ead3751650ba",
      "metadata": {
        "id": "2bf98812-66af-4b31-9ae5-ead3751650ba",
        "outputId": "7b6d9cc5-96e9-45c5-dda9-53680d1702f7"
      },
      "outputs": [
        {
          "data": {
            "text/html": [
              "<div>\n",
              "<style scoped>\n",
              "    .dataframe tbody tr th:only-of-type {\n",
              "        vertical-align: middle;\n",
              "    }\n",
              "\n",
              "    .dataframe tbody tr th {\n",
              "        vertical-align: top;\n",
              "    }\n",
              "\n",
              "    .dataframe thead th {\n",
              "        text-align: right;\n",
              "    }\n",
              "</style>\n",
              "<table border=\"1\" class=\"dataframe\">\n",
              "  <thead>\n",
              "    <tr style=\"text-align: right;\">\n",
              "      <th></th>\n",
              "      <th>property_id</th>\n",
              "      <th>check_in_date</th>\n",
              "      <th>room_category</th>\n",
              "      <th>successful_bookings</th>\n",
              "      <th>capacity</th>\n",
              "      <th>occupancy_percentage</th>\n",
              "      <th>room_class</th>\n",
              "      <th>property_name</th>\n",
              "      <th>category</th>\n",
              "      <th>city</th>\n",
              "    </tr>\n",
              "  </thead>\n",
              "  <tbody>\n",
              "    <tr>\n",
              "      <th>0</th>\n",
              "      <td>16559</td>\n",
              "      <td>1-May-22</td>\n",
              "      <td>RT1</td>\n",
              "      <td>25</td>\n",
              "      <td>30.0</td>\n",
              "      <td>83.33</td>\n",
              "      <td>Standard</td>\n",
              "      <td>Atliq Exotica</td>\n",
              "      <td>Luxury</td>\n",
              "      <td>Mumbai</td>\n",
              "    </tr>\n",
              "    <tr>\n",
              "      <th>1</th>\n",
              "      <td>19562</td>\n",
              "      <td>1-May-22</td>\n",
              "      <td>RT1</td>\n",
              "      <td>28</td>\n",
              "      <td>30.0</td>\n",
              "      <td>93.33</td>\n",
              "      <td>Standard</td>\n",
              "      <td>Atliq Bay</td>\n",
              "      <td>Luxury</td>\n",
              "      <td>Bangalore</td>\n",
              "    </tr>\n",
              "    <tr>\n",
              "      <th>2</th>\n",
              "      <td>19563</td>\n",
              "      <td>1-May-22</td>\n",
              "      <td>RT1</td>\n",
              "      <td>23</td>\n",
              "      <td>30.0</td>\n",
              "      <td>76.67</td>\n",
              "      <td>Standard</td>\n",
              "      <td>Atliq Palace</td>\n",
              "      <td>Business</td>\n",
              "      <td>Bangalore</td>\n",
              "    </tr>\n",
              "  </tbody>\n",
              "</table>\n",
              "</div>"
            ],
            "text/plain": [
              "   property_id check_in_date room_category  successful_bookings  capacity  \\\n",
              "0        16559      1-May-22           RT1                   25      30.0   \n",
              "1        19562      1-May-22           RT1                   28      30.0   \n",
              "2        19563      1-May-22           RT1                   23      30.0   \n",
              "\n",
              "   occupancy_percentage room_class  property_name  category       city  \n",
              "0                 83.33   Standard  Atliq Exotica    Luxury     Mumbai  \n",
              "1                 93.33   Standard      Atliq Bay    Luxury  Bangalore  \n",
              "2                 76.67   Standard   Atliq Palace  Business  Bangalore  "
            ]
          },
          "execution_count": 71,
          "metadata": {},
          "output_type": "execute_result"
        }
      ],
      "source": [
        "df1 = pd.merge(df1, df_hotels, on=\"property_id\")\n",
        "df1.head(3)"
      ]
    },
    {
      "cell_type": "code",
      "execution_count": null,
      "id": "88064e3e-6b09-43b6-b8a2-d2c1930dd649",
      "metadata": {
        "id": "88064e3e-6b09-43b6-b8a2-d2c1930dd649",
        "outputId": "1d100da5-d31b-4f27-a036-c5ebed5d7d88"
      },
      "outputs": [
        {
          "data": {
            "text/plain": [
              "city\n",
              "Bangalore    56.332376\n",
              "Delhi        61.507341\n",
              "Hyderabad    58.120652\n",
              "Mumbai       57.909181\n",
              "Name: occupancy_percentage, dtype: float64"
            ]
          },
          "execution_count": 72,
          "metadata": {},
          "output_type": "execute_result"
        }
      ],
      "source": [
        "df1.groupby(\"city\")[\"occupancy_percentage\"].mean()"
      ]
    },
    {
      "cell_type": "markdown",
      "id": "079f3cb7-67cc-4eb3-b6b1-9ffb7adf9bea",
      "metadata": {
        "id": "079f3cb7-67cc-4eb3-b6b1-9ffb7adf9bea"
      },
      "source": [
        "3. When was occupancy better? Weekday or weekend?"
      ]
    },
    {
      "cell_type": "code",
      "execution_count": null,
      "id": "d9654633-cd4e-4f5e-8e77-279268fc3e20",
      "metadata": {
        "id": "d9654633-cd4e-4f5e-8e77-279268fc3e20",
        "outputId": "942c5530-3987-44ca-a254-04fe6b6643a1"
      },
      "outputs": [
        {
          "data": {
            "text/html": [
              "<div>\n",
              "<style scoped>\n",
              "    .dataframe tbody tr th:only-of-type {\n",
              "        vertical-align: middle;\n",
              "    }\n",
              "\n",
              "    .dataframe tbody tr th {\n",
              "        vertical-align: top;\n",
              "    }\n",
              "\n",
              "    .dataframe thead th {\n",
              "        text-align: right;\n",
              "    }\n",
              "</style>\n",
              "<table border=\"1\" class=\"dataframe\">\n",
              "  <thead>\n",
              "    <tr style=\"text-align: right;\">\n",
              "      <th></th>\n",
              "      <th>date</th>\n",
              "      <th>mmm yy</th>\n",
              "      <th>week no</th>\n",
              "      <th>day_type</th>\n",
              "    </tr>\n",
              "  </thead>\n",
              "  <tbody>\n",
              "    <tr>\n",
              "      <th>0</th>\n",
              "      <td>01-May-22</td>\n",
              "      <td>May 22</td>\n",
              "      <td>W 19</td>\n",
              "      <td>weekend</td>\n",
              "    </tr>\n",
              "    <tr>\n",
              "      <th>1</th>\n",
              "      <td>02-May-22</td>\n",
              "      <td>May 22</td>\n",
              "      <td>W 19</td>\n",
              "      <td>weekeday</td>\n",
              "    </tr>\n",
              "    <tr>\n",
              "      <th>2</th>\n",
              "      <td>03-May-22</td>\n",
              "      <td>May 22</td>\n",
              "      <td>W 19</td>\n",
              "      <td>weekeday</td>\n",
              "    </tr>\n",
              "    <tr>\n",
              "      <th>3</th>\n",
              "      <td>04-May-22</td>\n",
              "      <td>May 22</td>\n",
              "      <td>W 19</td>\n",
              "      <td>weekeday</td>\n",
              "    </tr>\n",
              "    <tr>\n",
              "      <th>4</th>\n",
              "      <td>05-May-22</td>\n",
              "      <td>May 22</td>\n",
              "      <td>W 19</td>\n",
              "      <td>weekeday</td>\n",
              "    </tr>\n",
              "  </tbody>\n",
              "</table>\n",
              "</div>"
            ],
            "text/plain": [
              "        date  mmm yy week no  day_type\n",
              "0  01-May-22  May 22    W 19   weekend\n",
              "1  02-May-22  May 22    W 19  weekeday\n",
              "2  03-May-22  May 22    W 19  weekeday\n",
              "3  04-May-22  May 22    W 19  weekeday\n",
              "4  05-May-22  May 22    W 19  weekeday"
            ]
          },
          "execution_count": 73,
          "metadata": {},
          "output_type": "execute_result"
        }
      ],
      "source": [
        "df_date.head()"
      ]
    },
    {
      "cell_type": "code",
      "execution_count": null,
      "id": "44a6655c-2f21-4222-9526-5ca54bdde73b",
      "metadata": {
        "id": "44a6655c-2f21-4222-9526-5ca54bdde73b",
        "outputId": "59c3ace1-ab10-4992-980b-f49994841130"
      },
      "outputs": [
        {
          "data": {
            "text/html": [
              "<div>\n",
              "<style scoped>\n",
              "    .dataframe tbody tr th:only-of-type {\n",
              "        vertical-align: middle;\n",
              "    }\n",
              "\n",
              "    .dataframe tbody tr th {\n",
              "        vertical-align: top;\n",
              "    }\n",
              "\n",
              "    .dataframe thead th {\n",
              "        text-align: right;\n",
              "    }\n",
              "</style>\n",
              "<table border=\"1\" class=\"dataframe\">\n",
              "  <thead>\n",
              "    <tr style=\"text-align: right;\">\n",
              "      <th></th>\n",
              "      <th>property_id</th>\n",
              "      <th>check_in_date</th>\n",
              "      <th>room_category</th>\n",
              "      <th>successful_bookings</th>\n",
              "      <th>capacity</th>\n",
              "      <th>occupancy_percentage</th>\n",
              "      <th>room_class</th>\n",
              "      <th>property_name</th>\n",
              "      <th>category</th>\n",
              "      <th>city</th>\n",
              "      <th>date</th>\n",
              "      <th>mmm yy</th>\n",
              "      <th>week no</th>\n",
              "      <th>day_type</th>\n",
              "    </tr>\n",
              "  </thead>\n",
              "  <tbody>\n",
              "    <tr>\n",
              "      <th>0</th>\n",
              "      <td>19563</td>\n",
              "      <td>10-May-22</td>\n",
              "      <td>RT3</td>\n",
              "      <td>15</td>\n",
              "      <td>29.0</td>\n",
              "      <td>51.72</td>\n",
              "      <td>Premium</td>\n",
              "      <td>Atliq Palace</td>\n",
              "      <td>Business</td>\n",
              "      <td>Bangalore</td>\n",
              "      <td>10-May-22</td>\n",
              "      <td>May 22</td>\n",
              "      <td>W 20</td>\n",
              "      <td>weekeday</td>\n",
              "    </tr>\n",
              "    <tr>\n",
              "      <th>1</th>\n",
              "      <td>18560</td>\n",
              "      <td>10-May-22</td>\n",
              "      <td>RT1</td>\n",
              "      <td>19</td>\n",
              "      <td>30.0</td>\n",
              "      <td>63.33</td>\n",
              "      <td>Standard</td>\n",
              "      <td>Atliq City</td>\n",
              "      <td>Business</td>\n",
              "      <td>Hyderabad</td>\n",
              "      <td>10-May-22</td>\n",
              "      <td>May 22</td>\n",
              "      <td>W 20</td>\n",
              "      <td>weekeday</td>\n",
              "    </tr>\n",
              "    <tr>\n",
              "      <th>2</th>\n",
              "      <td>19562</td>\n",
              "      <td>10-May-22</td>\n",
              "      <td>RT1</td>\n",
              "      <td>18</td>\n",
              "      <td>30.0</td>\n",
              "      <td>60.00</td>\n",
              "      <td>Standard</td>\n",
              "      <td>Atliq Bay</td>\n",
              "      <td>Luxury</td>\n",
              "      <td>Bangalore</td>\n",
              "      <td>10-May-22</td>\n",
              "      <td>May 22</td>\n",
              "      <td>W 20</td>\n",
              "      <td>weekeday</td>\n",
              "    </tr>\n",
              "    <tr>\n",
              "      <th>3</th>\n",
              "      <td>19563</td>\n",
              "      <td>10-May-22</td>\n",
              "      <td>RT1</td>\n",
              "      <td>16</td>\n",
              "      <td>30.0</td>\n",
              "      <td>53.33</td>\n",
              "      <td>Standard</td>\n",
              "      <td>Atliq Palace</td>\n",
              "      <td>Business</td>\n",
              "      <td>Bangalore</td>\n",
              "      <td>10-May-22</td>\n",
              "      <td>May 22</td>\n",
              "      <td>W 20</td>\n",
              "      <td>weekeday</td>\n",
              "    </tr>\n",
              "    <tr>\n",
              "      <th>4</th>\n",
              "      <td>17558</td>\n",
              "      <td>10-May-22</td>\n",
              "      <td>RT1</td>\n",
              "      <td>11</td>\n",
              "      <td>19.0</td>\n",
              "      <td>57.89</td>\n",
              "      <td>Standard</td>\n",
              "      <td>Atliq Grands</td>\n",
              "      <td>Luxury</td>\n",
              "      <td>Mumbai</td>\n",
              "      <td>10-May-22</td>\n",
              "      <td>May 22</td>\n",
              "      <td>W 20</td>\n",
              "      <td>weekeday</td>\n",
              "    </tr>\n",
              "  </tbody>\n",
              "</table>\n",
              "</div>"
            ],
            "text/plain": [
              "   property_id check_in_date room_category  successful_bookings  capacity  \\\n",
              "0        19563     10-May-22           RT3                   15      29.0   \n",
              "1        18560     10-May-22           RT1                   19      30.0   \n",
              "2        19562     10-May-22           RT1                   18      30.0   \n",
              "3        19563     10-May-22           RT1                   16      30.0   \n",
              "4        17558     10-May-22           RT1                   11      19.0   \n",
              "\n",
              "   occupancy_percentage room_class property_name  category       city  \\\n",
              "0                 51.72    Premium  Atliq Palace  Business  Bangalore   \n",
              "1                 63.33   Standard    Atliq City  Business  Hyderabad   \n",
              "2                 60.00   Standard     Atliq Bay    Luxury  Bangalore   \n",
              "3                 53.33   Standard  Atliq Palace  Business  Bangalore   \n",
              "4                 57.89   Standard  Atliq Grands    Luxury     Mumbai   \n",
              "\n",
              "        date  mmm yy week no  day_type  \n",
              "0  10-May-22  May 22    W 20  weekeday  \n",
              "1  10-May-22  May 22    W 20  weekeday  \n",
              "2  10-May-22  May 22    W 20  weekeday  \n",
              "3  10-May-22  May 22    W 20  weekeday  \n",
              "4  10-May-22  May 22    W 20  weekeday  "
            ]
          },
          "execution_count": 74,
          "metadata": {},
          "output_type": "execute_result"
        }
      ],
      "source": [
        "df1 = pd.merge(df1, df_date, left_on=\"check_in_date\", right_on=\"date\")\n",
        "df1.head()"
      ]
    },
    {
      "cell_type": "code",
      "execution_count": null,
      "id": "980fcb2e-7bae-48c9-9031-5f02c86168bf",
      "metadata": {
        "id": "980fcb2e-7bae-48c9-9031-5f02c86168bf",
        "outputId": "fa58dd49-1a85-4a12-c094-ec6e03bb7daa"
      },
      "outputs": [
        {
          "data": {
            "text/plain": [
              "day_type\n",
              "weekeday    50.88\n",
              "weekend     72.34\n",
              "Name: occupancy_percentage, dtype: float64"
            ]
          },
          "execution_count": 75,
          "metadata": {},
          "output_type": "execute_result"
        }
      ],
      "source": [
        "df1.groupby(\"day_type\")[\"occupancy_percentage\"].mean().round(2)"
      ]
    },
    {
      "cell_type": "markdown",
      "id": "c4434fb0-a643-483a-8f30-58f8304e7a08",
      "metadata": {
        "id": "c4434fb0-a643-483a-8f30-58f8304e7a08"
      },
      "source": [
        "4. In june month, what is the occupancy for different cities"
      ]
    },
    {
      "cell_type": "code",
      "execution_count": null,
      "id": "1705f2d7-b417-4783-8d56-43876caa35e5",
      "metadata": {
        "id": "1705f2d7-b417-4783-8d56-43876caa35e5",
        "outputId": "586c47d5-b583-447e-9473-8d50d7fd5715"
      },
      "outputs": [
        {
          "data": {
            "text/html": [
              "<div>\n",
              "<style scoped>\n",
              "    .dataframe tbody tr th:only-of-type {\n",
              "        vertical-align: middle;\n",
              "    }\n",
              "\n",
              "    .dataframe tbody tr th {\n",
              "        vertical-align: top;\n",
              "    }\n",
              "\n",
              "    .dataframe thead th {\n",
              "        text-align: right;\n",
              "    }\n",
              "</style>\n",
              "<table border=\"1\" class=\"dataframe\">\n",
              "  <thead>\n",
              "    <tr style=\"text-align: right;\">\n",
              "      <th></th>\n",
              "      <th>property_id</th>\n",
              "      <th>check_in_date</th>\n",
              "      <th>room_category</th>\n",
              "      <th>successful_bookings</th>\n",
              "      <th>capacity</th>\n",
              "      <th>occupancy_percentage</th>\n",
              "      <th>room_class</th>\n",
              "      <th>property_name</th>\n",
              "      <th>category</th>\n",
              "      <th>city</th>\n",
              "      <th>date</th>\n",
              "      <th>mmm yy</th>\n",
              "      <th>week no</th>\n",
              "      <th>day_type</th>\n",
              "    </tr>\n",
              "  </thead>\n",
              "  <tbody>\n",
              "    <tr>\n",
              "      <th>2200</th>\n",
              "      <td>16559</td>\n",
              "      <td>10-Jun-22</td>\n",
              "      <td>RT1</td>\n",
              "      <td>20</td>\n",
              "      <td>30.0</td>\n",
              "      <td>66.67</td>\n",
              "      <td>Standard</td>\n",
              "      <td>Atliq Exotica</td>\n",
              "      <td>Luxury</td>\n",
              "      <td>Mumbai</td>\n",
              "      <td>10-Jun-22</td>\n",
              "      <td>Jun 22</td>\n",
              "      <td>W 24</td>\n",
              "      <td>weekeday</td>\n",
              "    </tr>\n",
              "    <tr>\n",
              "      <th>2201</th>\n",
              "      <td>19562</td>\n",
              "      <td>10-Jun-22</td>\n",
              "      <td>RT1</td>\n",
              "      <td>19</td>\n",
              "      <td>30.0</td>\n",
              "      <td>63.33</td>\n",
              "      <td>Standard</td>\n",
              "      <td>Atliq Bay</td>\n",
              "      <td>Luxury</td>\n",
              "      <td>Bangalore</td>\n",
              "      <td>10-Jun-22</td>\n",
              "      <td>Jun 22</td>\n",
              "      <td>W 24</td>\n",
              "      <td>weekeday</td>\n",
              "    </tr>\n",
              "    <tr>\n",
              "      <th>2202</th>\n",
              "      <td>19563</td>\n",
              "      <td>10-Jun-22</td>\n",
              "      <td>RT1</td>\n",
              "      <td>17</td>\n",
              "      <td>30.0</td>\n",
              "      <td>56.67</td>\n",
              "      <td>Standard</td>\n",
              "      <td>Atliq Palace</td>\n",
              "      <td>Business</td>\n",
              "      <td>Bangalore</td>\n",
              "      <td>10-Jun-22</td>\n",
              "      <td>Jun 22</td>\n",
              "      <td>W 24</td>\n",
              "      <td>weekeday</td>\n",
              "    </tr>\n",
              "    <tr>\n",
              "      <th>2203</th>\n",
              "      <td>17558</td>\n",
              "      <td>10-Jun-22</td>\n",
              "      <td>RT1</td>\n",
              "      <td>9</td>\n",
              "      <td>19.0</td>\n",
              "      <td>47.37</td>\n",
              "      <td>Standard</td>\n",
              "      <td>Atliq Grands</td>\n",
              "      <td>Luxury</td>\n",
              "      <td>Mumbai</td>\n",
              "      <td>10-Jun-22</td>\n",
              "      <td>Jun 22</td>\n",
              "      <td>W 24</td>\n",
              "      <td>weekeday</td>\n",
              "    </tr>\n",
              "    <tr>\n",
              "      <th>2204</th>\n",
              "      <td>16558</td>\n",
              "      <td>10-Jun-22</td>\n",
              "      <td>RT1</td>\n",
              "      <td>11</td>\n",
              "      <td>19.0</td>\n",
              "      <td>57.89</td>\n",
              "      <td>Standard</td>\n",
              "      <td>Atliq Grands</td>\n",
              "      <td>Luxury</td>\n",
              "      <td>Delhi</td>\n",
              "      <td>10-Jun-22</td>\n",
              "      <td>Jun 22</td>\n",
              "      <td>W 24</td>\n",
              "      <td>weekeday</td>\n",
              "    </tr>\n",
              "  </tbody>\n",
              "</table>\n",
              "</div>"
            ],
            "text/plain": [
              "      property_id check_in_date room_category  successful_bookings  capacity  \\\n",
              "2200        16559     10-Jun-22           RT1                   20      30.0   \n",
              "2201        19562     10-Jun-22           RT1                   19      30.0   \n",
              "2202        19563     10-Jun-22           RT1                   17      30.0   \n",
              "2203        17558     10-Jun-22           RT1                    9      19.0   \n",
              "2204        16558     10-Jun-22           RT1                   11      19.0   \n",
              "\n",
              "      occupancy_percentage room_class  property_name  category       city  \\\n",
              "2200                 66.67   Standard  Atliq Exotica    Luxury     Mumbai   \n",
              "2201                 63.33   Standard      Atliq Bay    Luxury  Bangalore   \n",
              "2202                 56.67   Standard   Atliq Palace  Business  Bangalore   \n",
              "2203                 47.37   Standard   Atliq Grands    Luxury     Mumbai   \n",
              "2204                 57.89   Standard   Atliq Grands    Luxury      Delhi   \n",
              "\n",
              "           date  mmm yy week no  day_type  \n",
              "2200  10-Jun-22  Jun 22    W 24  weekeday  \n",
              "2201  10-Jun-22  Jun 22    W 24  weekeday  \n",
              "2202  10-Jun-22  Jun 22    W 24  weekeday  \n",
              "2203  10-Jun-22  Jun 22    W 24  weekeday  \n",
              "2204  10-Jun-22  Jun 22    W 24  weekeday  "
            ]
          },
          "execution_count": 76,
          "metadata": {},
          "output_type": "execute_result"
        }
      ],
      "source": [
        "df_june_22 = df1[df1[\"mmm yy\"]==\"Jun 22\"]\n",
        "df_june_22.head()"
      ]
    },
    {
      "cell_type": "code",
      "execution_count": null,
      "id": "677cb4d7-e029-47b3-a114-eb2c2e6b543c",
      "metadata": {
        "id": "677cb4d7-e029-47b3-a114-eb2c2e6b543c",
        "outputId": "b66f11c1-3956-4e8f-f45e-7d012e2ca9d5"
      },
      "outputs": [
        {
          "data": {
            "text/plain": [
              "city\n",
              "Delhi        62.47\n",
              "Hyderabad    58.46\n",
              "Mumbai       58.38\n",
              "Bangalore    56.44\n",
              "Name: occupancy_percentage, dtype: float64"
            ]
          },
          "execution_count": 77,
          "metadata": {},
          "output_type": "execute_result"
        }
      ],
      "source": [
        "df_june_22.groupby(\"city\")[\"occupancy_percentage\"].mean().round(2).sort_values(ascending=False)"
      ]
    },
    {
      "cell_type": "code",
      "execution_count": null,
      "id": "737934fb-d644-4b88-9dae-6054094f239d",
      "metadata": {
        "id": "737934fb-d644-4b88-9dae-6054094f239d",
        "outputId": "bdb45619-6080-4f5c-b9c3-442ee697ffd4"
      },
      "outputs": [
        {
          "data": {
            "text/plain": [
              "<Axes: xlabel='city'>"
            ]
          },
          "execution_count": 78,
          "metadata": {},
          "output_type": "execute_result"
        },
        {
          "data": {
            "image/png": "[encoded data removed]",
            "text/plain": [
              "<Figure size 640x480 with 1 Axes>"
            ]
          },
          "metadata": {},
          "output_type": "display_data"
        }
      ],
      "source": [
        "df_june_22.groupby(\"city\")[\"occupancy_percentage\"].mean().round(2).sort_values(ascending=False).plot(kind=\"bar\")"
      ]
    },
    {
      "cell_type": "markdown",
      "id": "2354d443-8f83-4481-a58c-b0d585ddb634",
      "metadata": {
        "id": "2354d443-8f83-4481-a58c-b0d585ddb634"
      },
      "source": [
        "5. Got new data for August month. Include this data in existing data"
      ]
    },
    {
      "cell_type": "code",
      "execution_count": null,
      "id": "ffaf34ce-b1d0-4cab-bd10-9d693b79114a",
      "metadata": {
        "id": "ffaf34ce-b1d0-4cab-bd10-9d693b79114a",
        "outputId": "019a4061-c82b-4984-a7aa-9ed202f35aaa"
      },
      "outputs": [
        {
          "data": {
            "text/html": [
              "<div>\n",
              "<style scoped>\n",
              "    .dataframe tbody tr th:only-of-type {\n",
              "        vertical-align: middle;\n",
              "    }\n",
              "\n",
              "    .dataframe tbody tr th {\n",
              "        vertical-align: top;\n",
              "    }\n",
              "\n",
              "    .dataframe thead th {\n",
              "        text-align: right;\n",
              "    }\n",
              "</style>\n",
              "<table border=\"1\" class=\"dataframe\">\n",
              "  <thead>\n",
              "    <tr style=\"text-align: right;\">\n",
              "      <th></th>\n",
              "      <th>property_id</th>\n",
              "      <th>property_name</th>\n",
              "      <th>category</th>\n",
              "      <th>city</th>\n",
              "      <th>room_category</th>\n",
              "      <th>room_class</th>\n",
              "      <th>check_in_date</th>\n",
              "      <th>mmm yy</th>\n",
              "      <th>week no</th>\n",
              "      <th>day_type</th>\n",
              "      <th>successful_bookings</th>\n",
              "      <th>capacity</th>\n",
              "      <th>occ%</th>\n",
              "    </tr>\n",
              "  </thead>\n",
              "  <tbody>\n",
              "    <tr>\n",
              "      <th>0</th>\n",
              "      <td>16559</td>\n",
              "      <td>Atliq Exotica</td>\n",
              "      <td>Luxury</td>\n",
              "      <td>Mumbai</td>\n",
              "      <td>RT1</td>\n",
              "      <td>Standard</td>\n",
              "      <td>01-Aug-22</td>\n",
              "      <td>Aug-22</td>\n",
              "      <td>W 32</td>\n",
              "      <td>weekeday</td>\n",
              "      <td>30</td>\n",
              "      <td>30</td>\n",
              "      <td>100.00</td>\n",
              "    </tr>\n",
              "    <tr>\n",
              "      <th>1</th>\n",
              "      <td>19562</td>\n",
              "      <td>Atliq Bay</td>\n",
              "      <td>Luxury</td>\n",
              "      <td>Bangalore</td>\n",
              "      <td>RT1</td>\n",
              "      <td>Standard</td>\n",
              "      <td>01-Aug-22</td>\n",
              "      <td>Aug-22</td>\n",
              "      <td>W 32</td>\n",
              "      <td>weekeday</td>\n",
              "      <td>21</td>\n",
              "      <td>30</td>\n",
              "      <td>70.00</td>\n",
              "    </tr>\n",
              "    <tr>\n",
              "      <th>2</th>\n",
              "      <td>19563</td>\n",
              "      <td>Atliq Palace</td>\n",
              "      <td>Business</td>\n",
              "      <td>Bangalore</td>\n",
              "      <td>RT1</td>\n",
              "      <td>Standard</td>\n",
              "      <td>01-Aug-22</td>\n",
              "      <td>Aug-22</td>\n",
              "      <td>W 32</td>\n",
              "      <td>weekeday</td>\n",
              "      <td>23</td>\n",
              "      <td>30</td>\n",
              "      <td>76.67</td>\n",
              "    </tr>\n",
              "    <tr>\n",
              "      <th>3</th>\n",
              "      <td>19558</td>\n",
              "      <td>Atliq Grands</td>\n",
              "      <td>Luxury</td>\n",
              "      <td>Bangalore</td>\n",
              "      <td>RT1</td>\n",
              "      <td>Standard</td>\n",
              "      <td>01-Aug-22</td>\n",
              "      <td>Aug-22</td>\n",
              "      <td>W 32</td>\n",
              "      <td>weekeday</td>\n",
              "      <td>30</td>\n",
              "      <td>40</td>\n",
              "      <td>75.00</td>\n",
              "    </tr>\n",
              "    <tr>\n",
              "      <th>4</th>\n",
              "      <td>19560</td>\n",
              "      <td>Atliq City</td>\n",
              "      <td>Business</td>\n",
              "      <td>Bangalore</td>\n",
              "      <td>RT1</td>\n",
              "      <td>Standard</td>\n",
              "      <td>01-Aug-22</td>\n",
              "      <td>Aug-22</td>\n",
              "      <td>W 32</td>\n",
              "      <td>weekeday</td>\n",
              "      <td>20</td>\n",
              "      <td>26</td>\n",
              "      <td>76.92</td>\n",
              "    </tr>\n",
              "  </tbody>\n",
              "</table>\n",
              "</div>"
            ],
            "text/plain": [
              "   property_id  property_name  category       city room_category room_class  \\\n",
              "0        16559  Atliq Exotica    Luxury     Mumbai           RT1   Standard   \n",
              "1        19562      Atliq Bay    Luxury  Bangalore           RT1   Standard   \n",
              "2        19563   Atliq Palace  Business  Bangalore           RT1   Standard   \n",
              "3        19558   Atliq Grands    Luxury  Bangalore           RT1   Standard   \n",
              "4        19560     Atliq City  Business  Bangalore           RT1   Standard   \n",
              "\n",
              "  check_in_date  mmm yy week no  day_type  successful_bookings  capacity  \\\n",
              "0     01-Aug-22  Aug-22    W 32  weekeday                   30        30   \n",
              "1     01-Aug-22  Aug-22    W 32  weekeday                   21        30   \n",
              "2     01-Aug-22  Aug-22    W 32  weekeday                   23        30   \n",
              "3     01-Aug-22  Aug-22    W 32  weekeday                   30        40   \n",
              "4     01-Aug-22  Aug-22    W 32  weekeday                   20        26   \n",
              "\n",
              "     occ%  \n",
              "0  100.00  \n",
              "1   70.00  \n",
              "2   76.67  \n",
              "3   75.00  \n",
              "4   76.92  "
            ]
          },
          "execution_count": 79,
          "metadata": {},
          "output_type": "execute_result"
        }
      ],
      "source": [
        "df_aug = pd.read_csv(\"datasets/new_data_august.csv\")\n",
        "df_aug.head()"
      ]
    },
    {
      "cell_type": "code",
      "execution_count": null,
      "id": "368b8956-45e9-415c-b181-e5400df1d132",
      "metadata": {
        "id": "368b8956-45e9-415c-b181-e5400df1d132",
        "outputId": "3309754e-921c-48cf-8a5a-8ff3c85a61a5"
      },
      "outputs": [
        {
          "data": {
            "text/plain": [
              "Index(['property_id', 'property_name', 'category', 'city', 'room_category',\n",
              "       'room_class', 'check_in_date', 'mmm yy', 'week no', 'day_type',\n",
              "       'successful_bookings', 'capacity', 'occ%'],\n",
              "      dtype='object')"
            ]
          },
          "execution_count": 80,
          "metadata": {},
          "output_type": "execute_result"
        }
      ],
      "source": [
        "df_aug.columns"
      ]
    },
    {
      "cell_type": "code",
      "execution_count": null,
      "id": "a13c1b78-5961-473c-828f-447f1e41ef5a",
      "metadata": {
        "id": "a13c1b78-5961-473c-828f-447f1e41ef5a",
        "outputId": "9a219217-1cd0-465d-f063-0242cc4ee5b0"
      },
      "outputs": [
        {
          "data": {
            "text/plain": [
              "(7, 13)"
            ]
          },
          "execution_count": 81,
          "metadata": {},
          "output_type": "execute_result"
        }
      ],
      "source": [
        "df_aug.shape"
      ]
    },
    {
      "cell_type": "code",
      "execution_count": null,
      "id": "a93692c0-fb10-4a81-a746-bb6eafc68389",
      "metadata": {
        "id": "a93692c0-fb10-4a81-a746-bb6eafc68389",
        "outputId": "2b00ff0d-2341-4c28-b6a0-f74c50678ae7"
      },
      "outputs": [
        {
          "data": {
            "text/plain": [
              "(6497, 14)"
            ]
          },
          "execution_count": 82,
          "metadata": {},
          "output_type": "execute_result"
        }
      ],
      "source": [
        "df1.shape"
      ]
    },
    {
      "cell_type": "code",
      "execution_count": null,
      "id": "ee1a5f3c-1164-4a09-9895-d1f53dc3b3fe",
      "metadata": {
        "id": "ee1a5f3c-1164-4a09-9895-d1f53dc3b3fe",
        "outputId": "15b17180-c235-4c2b-d8ca-d7c27fe29092"
      },
      "outputs": [
        {
          "data": {
            "text/html": [
              "<div>\n",
              "<style scoped>\n",
              "    .dataframe tbody tr th:only-of-type {\n",
              "        vertical-align: middle;\n",
              "    }\n",
              "\n",
              "    .dataframe tbody tr th {\n",
              "        vertical-align: top;\n",
              "    }\n",
              "\n",
              "    .dataframe thead th {\n",
              "        text-align: right;\n",
              "    }\n",
              "</style>\n",
              "<table border=\"1\" class=\"dataframe\">\n",
              "  <thead>\n",
              "    <tr style=\"text-align: right;\">\n",
              "      <th></th>\n",
              "      <th>property_id</th>\n",
              "      <th>check_in_date</th>\n",
              "      <th>room_category</th>\n",
              "      <th>successful_bookings</th>\n",
              "      <th>capacity</th>\n",
              "      <th>occupancy_percentage</th>\n",
              "      <th>room_class</th>\n",
              "      <th>property_name</th>\n",
              "      <th>category</th>\n",
              "      <th>city</th>\n",
              "      <th>date</th>\n",
              "      <th>mmm yy</th>\n",
              "      <th>week no</th>\n",
              "      <th>day_type</th>\n",
              "      <th>occ%</th>\n",
              "    </tr>\n",
              "  </thead>\n",
              "  <tbody>\n",
              "    <tr>\n",
              "      <th>6494</th>\n",
              "      <td>17558</td>\n",
              "      <td>31-Jul-22</td>\n",
              "      <td>RT4</td>\n",
              "      <td>3</td>\n",
              "      <td>6.0</td>\n",
              "      <td>50.0</td>\n",
              "      <td>Presidential</td>\n",
              "      <td>Atliq Grands</td>\n",
              "      <td>Luxury</td>\n",
              "      <td>Mumbai</td>\n",
              "      <td>31-Jul-22</td>\n",
              "      <td>Jul 22</td>\n",
              "      <td>W 32</td>\n",
              "      <td>weekend</td>\n",
              "      <td>NaN</td>\n",
              "    </tr>\n",
              "    <tr>\n",
              "      <th>6495</th>\n",
              "      <td>19563</td>\n",
              "      <td>31-Jul-22</td>\n",
              "      <td>RT4</td>\n",
              "      <td>3</td>\n",
              "      <td>6.0</td>\n",
              "      <td>50.0</td>\n",
              "      <td>Presidential</td>\n",
              "      <td>Atliq Palace</td>\n",
              "      <td>Business</td>\n",
              "      <td>Bangalore</td>\n",
              "      <td>31-Jul-22</td>\n",
              "      <td>Jul 22</td>\n",
              "      <td>W 32</td>\n",
              "      <td>weekend</td>\n",
              "      <td>NaN</td>\n",
              "    </tr>\n",
              "    <tr>\n",
              "      <th>6496</th>\n",
              "      <td>17561</td>\n",
              "      <td>31-Jul-22</td>\n",
              "      <td>RT4</td>\n",
              "      <td>3</td>\n",
              "      <td>4.0</td>\n",
              "      <td>75.0</td>\n",
              "      <td>Presidential</td>\n",
              "      <td>Atliq Blu</td>\n",
              "      <td>Luxury</td>\n",
              "      <td>Mumbai</td>\n",
              "      <td>31-Jul-22</td>\n",
              "      <td>Jul 22</td>\n",
              "      <td>W 32</td>\n",
              "      <td>weekend</td>\n",
              "      <td>NaN</td>\n",
              "    </tr>\n",
              "    <tr>\n",
              "      <th>6497</th>\n",
              "      <td>16559</td>\n",
              "      <td>01-Aug-22</td>\n",
              "      <td>RT1</td>\n",
              "      <td>30</td>\n",
              "      <td>30.0</td>\n",
              "      <td>NaN</td>\n",
              "      <td>Standard</td>\n",
              "      <td>Atliq Exotica</td>\n",
              "      <td>Luxury</td>\n",
              "      <td>Mumbai</td>\n",
              "      <td>NaN</td>\n",
              "      <td>Aug-22</td>\n",
              "      <td>W 32</td>\n",
              "      <td>weekeday</td>\n",
              "      <td>100.00</td>\n",
              "    </tr>\n",
              "    <tr>\n",
              "      <th>6498</th>\n",
              "      <td>19562</td>\n",
              "      <td>01-Aug-22</td>\n",
              "      <td>RT1</td>\n",
              "      <td>21</td>\n",
              "      <td>30.0</td>\n",
              "      <td>NaN</td>\n",
              "      <td>Standard</td>\n",
              "      <td>Atliq Bay</td>\n",
              "      <td>Luxury</td>\n",
              "      <td>Bangalore</td>\n",
              "      <td>NaN</td>\n",
              "      <td>Aug-22</td>\n",
              "      <td>W 32</td>\n",
              "      <td>weekeday</td>\n",
              "      <td>70.00</td>\n",
              "    </tr>\n",
              "    <tr>\n",
              "      <th>6499</th>\n",
              "      <td>19563</td>\n",
              "      <td>01-Aug-22</td>\n",
              "      <td>RT1</td>\n",
              "      <td>23</td>\n",
              "      <td>30.0</td>\n",
              "      <td>NaN</td>\n",
              "      <td>Standard</td>\n",
              "      <td>Atliq Palace</td>\n",
              "      <td>Business</td>\n",
              "      <td>Bangalore</td>\n",
              "      <td>NaN</td>\n",
              "      <td>Aug-22</td>\n",
              "      <td>W 32</td>\n",
              "      <td>weekeday</td>\n",
              "      <td>76.67</td>\n",
              "    </tr>\n",
              "    <tr>\n",
              "      <th>6500</th>\n",
              "      <td>19558</td>\n",
              "      <td>01-Aug-22</td>\n",
              "      <td>RT1</td>\n",
              "      <td>30</td>\n",
              "      <td>40.0</td>\n",
              "      <td>NaN</td>\n",
              "      <td>Standard</td>\n",
              "      <td>Atliq Grands</td>\n",
              "      <td>Luxury</td>\n",
              "      <td>Bangalore</td>\n",
              "      <td>NaN</td>\n",
              "      <td>Aug-22</td>\n",
              "      <td>W 32</td>\n",
              "      <td>weekeday</td>\n",
              "      <td>75.00</td>\n",
              "    </tr>\n",
              "    <tr>\n",
              "      <th>6501</th>\n",
              "      <td>19560</td>\n",
              "      <td>01-Aug-22</td>\n",
              "      <td>RT1</td>\n",
              "      <td>20</td>\n",
              "      <td>26.0</td>\n",
              "      <td>NaN</td>\n",
              "      <td>Standard</td>\n",
              "      <td>Atliq City</td>\n",
              "      <td>Business</td>\n",
              "      <td>Bangalore</td>\n",
              "      <td>NaN</td>\n",
              "      <td>Aug-22</td>\n",
              "      <td>W 32</td>\n",
              "      <td>weekeday</td>\n",
              "      <td>76.92</td>\n",
              "    </tr>\n",
              "    <tr>\n",
              "      <th>6502</th>\n",
              "      <td>17561</td>\n",
              "      <td>01-Aug-22</td>\n",
              "      <td>RT1</td>\n",
              "      <td>18</td>\n",
              "      <td>26.0</td>\n",
              "      <td>NaN</td>\n",
              "      <td>Standard</td>\n",
              "      <td>Atliq Blu</td>\n",
              "      <td>Luxury</td>\n",
              "      <td>Mumbai</td>\n",
              "      <td>NaN</td>\n",
              "      <td>Aug-22</td>\n",
              "      <td>W 32</td>\n",
              "      <td>weekeday</td>\n",
              "      <td>69.23</td>\n",
              "    </tr>\n",
              "    <tr>\n",
              "      <th>6503</th>\n",
              "      <td>17564</td>\n",
              "      <td>01-Aug-22</td>\n",
              "      <td>RT1</td>\n",
              "      <td>10</td>\n",
              "      <td>16.0</td>\n",
              "      <td>NaN</td>\n",
              "      <td>Standard</td>\n",
              "      <td>Atliq Seasons</td>\n",
              "      <td>Business</td>\n",
              "      <td>Mumbai</td>\n",
              "      <td>NaN</td>\n",
              "      <td>Aug-22</td>\n",
              "      <td>W 32</td>\n",
              "      <td>weekeday</td>\n",
              "      <td>62.50</td>\n",
              "    </tr>\n",
              "  </tbody>\n",
              "</table>\n",
              "</div>"
            ],
            "text/plain": [
              "      property_id check_in_date room_category  successful_bookings  capacity  \\\n",
              "6494        17558     31-Jul-22           RT4                    3       6.0   \n",
              "6495        19563     31-Jul-22           RT4                    3       6.0   \n",
              "6496        17561     31-Jul-22           RT4                    3       4.0   \n",
              "6497        16559     01-Aug-22           RT1                   30      30.0   \n",
              "6498        19562     01-Aug-22           RT1                   21      30.0   \n",
              "6499        19563     01-Aug-22           RT1                   23      30.0   \n",
              "6500        19558     01-Aug-22           RT1                   30      40.0   \n",
              "6501        19560     01-Aug-22           RT1                   20      26.0   \n",
              "6502        17561     01-Aug-22           RT1                   18      26.0   \n",
              "6503        17564     01-Aug-22           RT1                   10      16.0   \n",
              "\n",
              "      occupancy_percentage    room_class  property_name  category       city  \\\n",
              "6494                  50.0  Presidential   Atliq Grands    Luxury     Mumbai   \n",
              "6495                  50.0  Presidential   Atliq Palace  Business  Bangalore   \n",
              "6496                  75.0  Presidential      Atliq Blu    Luxury     Mumbai   \n",
              "6497                   NaN      Standard  Atliq Exotica    Luxury     Mumbai   \n",
              "6498                   NaN      Standard      Atliq Bay    Luxury  Bangalore   \n",
              "6499                   NaN      Standard   Atliq Palace  Business  Bangalore   \n",
              "6500                   NaN      Standard   Atliq Grands    Luxury  Bangalore   \n",
              "6501                   NaN      Standard     Atliq City  Business  Bangalore   \n",
              "6502                   NaN      Standard      Atliq Blu    Luxury     Mumbai   \n",
              "6503                   NaN      Standard  Atliq Seasons  Business     Mumbai   \n",
              "\n",
              "           date  mmm yy week no  day_type    occ%  \n",
              "6494  31-Jul-22  Jul 22    W 32   weekend     NaN  \n",
              "6495  31-Jul-22  Jul 22    W 32   weekend     NaN  \n",
              "6496  31-Jul-22  Jul 22    W 32   weekend     NaN  \n",
              "6497        NaN  Aug-22    W 32  weekeday  100.00  \n",
              "6498        NaN  Aug-22    W 32  weekeday   70.00  \n",
              "6499        NaN  Aug-22    W 32  weekeday   76.67  \n",
              "6500        NaN  Aug-22    W 32  weekeday   75.00  \n",
              "6501        NaN  Aug-22    W 32  weekeday   76.92  \n",
              "6502        NaN  Aug-22    W 32  weekeday   69.23  \n",
              "6503        NaN  Aug-22    W 32  weekeday   62.50  "
            ]
          },
          "execution_count": 83,
          "metadata": {},
          "output_type": "execute_result"
        }
      ],
      "source": [
        "latest_data = pd.concat([df1, df_aug], ignore_index=True, axis=0)\n",
        "latest_data.tail(10)"
      ]
    },
    {
      "cell_type": "code",
      "execution_count": null,
      "id": "f9cfc780-8a1a-4f6a-9660-69cc43799fc0",
      "metadata": {
        "id": "f9cfc780-8a1a-4f6a-9660-69cc43799fc0",
        "outputId": "616d020a-0017-43ff-c409-28444a71bd74"
      },
      "outputs": [
        {
          "data": {
            "text/plain": [
              "(6504, 15)"
            ]
          },
          "execution_count": 84,
          "metadata": {},
          "output_type": "execute_result"
        }
      ],
      "source": [
        "latest_data.shape"
      ]
    },
    {
      "cell_type": "markdown",
      "id": "3c0a4154-0159-4625-806d-a7e3fac1d2d1",
      "metadata": {
        "id": "3c0a4154-0159-4625-806d-a7e3fac1d2d1"
      },
      "source": [
        "6. Print revenue realized per city"
      ]
    },
    {
      "cell_type": "code",
      "execution_count": null,
      "id": "e23b6043-e226-4718-ba41-c0db69a137d8",
      "metadata": {
        "id": "e23b6043-e226-4718-ba41-c0db69a137d8",
        "outputId": "bb1ac7ea-cf88-4b1d-81a6-75c62957b319"
      },
      "outputs": [
        {
          "data": {
            "text/html": [
              "<div>\n",
              "<style scoped>\n",
              "    .dataframe tbody tr th:only-of-type {\n",
              "        vertical-align: middle;\n",
              "    }\n",
              "\n",
              "    .dataframe tbody tr th {\n",
              "        vertical-align: top;\n",
              "    }\n",
              "\n",
              "    .dataframe thead th {\n",
              "        text-align: right;\n",
              "    }\n",
              "</style>\n",
              "<table border=\"1\" class=\"dataframe\">\n",
              "  <thead>\n",
              "    <tr style=\"text-align: right;\">\n",
              "      <th></th>\n",
              "      <th>booking_id</th>\n",
              "      <th>property_id</th>\n",
              "      <th>booking_date</th>\n",
              "      <th>check_in_date</th>\n",
              "      <th>checkout_date</th>\n",
              "      <th>no_guests</th>\n",
              "      <th>room_category</th>\n",
              "      <th>booking_platform</th>\n",
              "      <th>ratings_given</th>\n",
              "      <th>booking_status</th>\n",
              "      <th>revenue_generated</th>\n",
              "      <th>revenue_realized</th>\n",
              "    </tr>\n",
              "  </thead>\n",
              "  <tbody>\n",
              "    <tr>\n",
              "      <th>1</th>\n",
              "      <td>May012216558RT12</td>\n",
              "      <td>16558</td>\n",
              "      <td>30-04-22</td>\n",
              "      <td>1/5/2022</td>\n",
              "      <td>2/5/2022</td>\n",
              "      <td>2.0</td>\n",
              "      <td>RT1</td>\n",
              "      <td>others</td>\n",
              "      <td>NaN</td>\n",
              "      <td>Cancelled</td>\n",
              "      <td>9100</td>\n",
              "      <td>3640</td>\n",
              "    </tr>\n",
              "    <tr>\n",
              "      <th>4</th>\n",
              "      <td>May012216558RT15</td>\n",
              "      <td>16558</td>\n",
              "      <td>27-04-22</td>\n",
              "      <td>1/5/2022</td>\n",
              "      <td>2/5/2022</td>\n",
              "      <td>4.0</td>\n",
              "      <td>RT1</td>\n",
              "      <td>direct online</td>\n",
              "      <td>5.0</td>\n",
              "      <td>Checked Out</td>\n",
              "      <td>10920</td>\n",
              "      <td>10920</td>\n",
              "    </tr>\n",
              "    <tr>\n",
              "      <th>5</th>\n",
              "      <td>May012216558RT16</td>\n",
              "      <td>16558</td>\n",
              "      <td>1/5/2022</td>\n",
              "      <td>1/5/2022</td>\n",
              "      <td>3/5/2022</td>\n",
              "      <td>2.0</td>\n",
              "      <td>RT1</td>\n",
              "      <td>others</td>\n",
              "      <td>4.0</td>\n",
              "      <td>Checked Out</td>\n",
              "      <td>9100</td>\n",
              "      <td>9100</td>\n",
              "    </tr>\n",
              "    <tr>\n",
              "      <th>6</th>\n",
              "      <td>May012216558RT17</td>\n",
              "      <td>16558</td>\n",
              "      <td>28-04-22</td>\n",
              "      <td>1/5/2022</td>\n",
              "      <td>6/5/2022</td>\n",
              "      <td>2.0</td>\n",
              "      <td>RT1</td>\n",
              "      <td>others</td>\n",
              "      <td>NaN</td>\n",
              "      <td>Cancelled</td>\n",
              "      <td>9100</td>\n",
              "      <td>3640</td>\n",
              "    </tr>\n",
              "    <tr>\n",
              "      <th>7</th>\n",
              "      <td>May012216558RT18</td>\n",
              "      <td>16558</td>\n",
              "      <td>26-04-22</td>\n",
              "      <td>1/5/2022</td>\n",
              "      <td>3/5/2022</td>\n",
              "      <td>2.0</td>\n",
              "      <td>RT1</td>\n",
              "      <td>logtrip</td>\n",
              "      <td>NaN</td>\n",
              "      <td>No Show</td>\n",
              "      <td>9100</td>\n",
              "      <td>9100</td>\n",
              "    </tr>\n",
              "    <tr>\n",
              "      <th>8</th>\n",
              "      <td>May012216558RT19</td>\n",
              "      <td>16558</td>\n",
              "      <td>30-04-22</td>\n",
              "      <td>1/5/2022</td>\n",
              "      <td>2/5/2022</td>\n",
              "      <td>2.0</td>\n",
              "      <td>RT1</td>\n",
              "      <td>tripster</td>\n",
              "      <td>NaN</td>\n",
              "      <td>Checked Out</td>\n",
              "      <td>9100</td>\n",
              "      <td>9100</td>\n",
              "    </tr>\n",
              "    <tr>\n",
              "      <th>9</th>\n",
              "      <td>May012216558RT110</td>\n",
              "      <td>16558</td>\n",
              "      <td>28-04-22</td>\n",
              "      <td>1/5/2022</td>\n",
              "      <td>2/5/2022</td>\n",
              "      <td>1.0</td>\n",
              "      <td>RT1</td>\n",
              "      <td>others</td>\n",
              "      <td>4.0</td>\n",
              "      <td>Checked Out</td>\n",
              "      <td>9100</td>\n",
              "      <td>9100</td>\n",
              "    </tr>\n",
              "    <tr>\n",
              "      <th>10</th>\n",
              "      <td>May012216558RT111</td>\n",
              "      <td>16558</td>\n",
              "      <td>29-04-22</td>\n",
              "      <td>1/5/2022</td>\n",
              "      <td>7/5/2022</td>\n",
              "      <td>1.0</td>\n",
              "      <td>RT1</td>\n",
              "      <td>makeyourtrip</td>\n",
              "      <td>5.0</td>\n",
              "      <td>Checked Out</td>\n",
              "      <td>9100</td>\n",
              "      <td>9100</td>\n",
              "    </tr>\n",
              "    <tr>\n",
              "      <th>11</th>\n",
              "      <td>May012216558RT112</td>\n",
              "      <td>16558</td>\n",
              "      <td>26-04-22</td>\n",
              "      <td>1/5/2022</td>\n",
              "      <td>2/5/2022</td>\n",
              "      <td>2.0</td>\n",
              "      <td>RT1</td>\n",
              "      <td>logtrip</td>\n",
              "      <td>5.0</td>\n",
              "      <td>Checked Out</td>\n",
              "      <td>9100</td>\n",
              "      <td>9100</td>\n",
              "    </tr>\n",
              "    <tr>\n",
              "      <th>12</th>\n",
              "      <td>May012216558RT113</td>\n",
              "      <td>16558</td>\n",
              "      <td>26-04-22</td>\n",
              "      <td>1/5/2022</td>\n",
              "      <td>7/5/2022</td>\n",
              "      <td>2.0</td>\n",
              "      <td>RT1</td>\n",
              "      <td>makeyourtrip</td>\n",
              "      <td>5.0</td>\n",
              "      <td>Checked Out</td>\n",
              "      <td>9100</td>\n",
              "      <td>9100</td>\n",
              "    </tr>\n",
              "  </tbody>\n",
              "</table>\n",
              "</div>"
            ],
            "text/plain": [
              "           booking_id  property_id booking_date check_in_date checkout_date  \\\n",
              "1    May012216558RT12        16558     30-04-22      1/5/2022      2/5/2022   \n",
              "4    May012216558RT15        16558     27-04-22      1/5/2022      2/5/2022   \n",
              "5    May012216558RT16        16558     1/5/2022      1/5/2022      3/5/2022   \n",
              "6    May012216558RT17        16558     28-04-22      1/5/2022      6/5/2022   \n",
              "7    May012216558RT18        16558     26-04-22      1/5/2022      3/5/2022   \n",
              "8    May012216558RT19        16558     30-04-22      1/5/2022      2/5/2022   \n",
              "9   May012216558RT110        16558     28-04-22      1/5/2022      2/5/2022   \n",
              "10  May012216558RT111        16558     29-04-22      1/5/2022      7/5/2022   \n",
              "11  May012216558RT112        16558     26-04-22      1/5/2022      2/5/2022   \n",
              "12  May012216558RT113        16558     26-04-22      1/5/2022      7/5/2022   \n",
              "\n",
              "    no_guests room_category booking_platform  ratings_given booking_status  \\\n",
              "1         2.0           RT1           others            NaN      Cancelled   \n",
              "4         4.0           RT1    direct online            5.0    Checked Out   \n",
              "5         2.0           RT1           others            4.0    Checked Out   \n",
              "6         2.0           RT1           others            NaN      Cancelled   \n",
              "7         2.0           RT1          logtrip            NaN        No Show   \n",
              "8         2.0           RT1         tripster            NaN    Checked Out   \n",
              "9         1.0           RT1           others            4.0    Checked Out   \n",
              "10        1.0           RT1     makeyourtrip            5.0    Checked Out   \n",
              "11        2.0           RT1          logtrip            5.0    Checked Out   \n",
              "12        2.0           RT1     makeyourtrip            5.0    Checked Out   \n",
              "\n",
              "    revenue_generated  revenue_realized  \n",
              "1                9100              3640  \n",
              "4               10920             10920  \n",
              "5                9100              9100  \n",
              "6                9100              3640  \n",
              "7                9100              9100  \n",
              "8                9100              9100  \n",
              "9                9100              9100  \n",
              "10               9100              9100  \n",
              "11               9100              9100  \n",
              "12               9100              9100  "
            ]
          },
          "execution_count": 85,
          "metadata": {},
          "output_type": "execute_result"
        }
      ],
      "source": [
        "df_bookings.head(10)"
      ]
    },
    {
      "cell_type": "code",
      "execution_count": null,
      "id": "1d993e4e-49a3-4645-9e7e-ce6cf85751e7",
      "metadata": {
        "id": "1d993e4e-49a3-4645-9e7e-ce6cf85751e7",
        "outputId": "213eb8ac-48ef-433e-e91f-4d4811c6aa1e"
      },
      "outputs": [
        {
          "data": {
            "text/html": [
              "<div>\n",
              "<style scoped>\n",
              "    .dataframe tbody tr th:only-of-type {\n",
              "        vertical-align: middle;\n",
              "    }\n",
              "\n",
              "    .dataframe tbody tr th {\n",
              "        vertical-align: top;\n",
              "    }\n",
              "\n",
              "    .dataframe thead th {\n",
              "        text-align: right;\n",
              "    }\n",
              "</style>\n",
              "<table border=\"1\" class=\"dataframe\">\n",
              "  <thead>\n",
              "    <tr style=\"text-align: right;\">\n",
              "      <th></th>\n",
              "      <th>booking_id</th>\n",
              "      <th>property_id</th>\n",
              "      <th>booking_date</th>\n",
              "      <th>check_in_date</th>\n",
              "      <th>checkout_date</th>\n",
              "      <th>no_guests</th>\n",
              "      <th>room_category</th>\n",
              "      <th>booking_platform</th>\n",
              "      <th>ratings_given</th>\n",
              "      <th>booking_status</th>\n",
              "      <th>revenue_generated</th>\n",
              "      <th>revenue_realized</th>\n",
              "      <th>property_name</th>\n",
              "      <th>category</th>\n",
              "      <th>city</th>\n",
              "    </tr>\n",
              "  </thead>\n",
              "  <tbody>\n",
              "    <tr>\n",
              "      <th>0</th>\n",
              "      <td>May012216558RT12</td>\n",
              "      <td>16558</td>\n",
              "      <td>30-04-22</td>\n",
              "      <td>1/5/2022</td>\n",
              "      <td>2/5/2022</td>\n",
              "      <td>2.0</td>\n",
              "      <td>RT1</td>\n",
              "      <td>others</td>\n",
              "      <td>NaN</td>\n",
              "      <td>Cancelled</td>\n",
              "      <td>9100</td>\n",
              "      <td>3640</td>\n",
              "      <td>Atliq Grands</td>\n",
              "      <td>Luxury</td>\n",
              "      <td>Delhi</td>\n",
              "    </tr>\n",
              "    <tr>\n",
              "      <th>1</th>\n",
              "      <td>May012216558RT15</td>\n",
              "      <td>16558</td>\n",
              "      <td>27-04-22</td>\n",
              "      <td>1/5/2022</td>\n",
              "      <td>2/5/2022</td>\n",
              "      <td>4.0</td>\n",
              "      <td>RT1</td>\n",
              "      <td>direct online</td>\n",
              "      <td>5.0</td>\n",
              "      <td>Checked Out</td>\n",
              "      <td>10920</td>\n",
              "      <td>10920</td>\n",
              "      <td>Atliq Grands</td>\n",
              "      <td>Luxury</td>\n",
              "      <td>Delhi</td>\n",
              "    </tr>\n",
              "    <tr>\n",
              "      <th>2</th>\n",
              "      <td>May012216558RT16</td>\n",
              "      <td>16558</td>\n",
              "      <td>1/5/2022</td>\n",
              "      <td>1/5/2022</td>\n",
              "      <td>3/5/2022</td>\n",
              "      <td>2.0</td>\n",
              "      <td>RT1</td>\n",
              "      <td>others</td>\n",
              "      <td>4.0</td>\n",
              "      <td>Checked Out</td>\n",
              "      <td>9100</td>\n",
              "      <td>9100</td>\n",
              "      <td>Atliq Grands</td>\n",
              "      <td>Luxury</td>\n",
              "      <td>Delhi</td>\n",
              "    </tr>\n",
              "    <tr>\n",
              "      <th>3</th>\n",
              "      <td>May012216558RT17</td>\n",
              "      <td>16558</td>\n",
              "      <td>28-04-22</td>\n",
              "      <td>1/5/2022</td>\n",
              "      <td>6/5/2022</td>\n",
              "      <td>2.0</td>\n",
              "      <td>RT1</td>\n",
              "      <td>others</td>\n",
              "      <td>NaN</td>\n",
              "      <td>Cancelled</td>\n",
              "      <td>9100</td>\n",
              "      <td>3640</td>\n",
              "      <td>Atliq Grands</td>\n",
              "      <td>Luxury</td>\n",
              "      <td>Delhi</td>\n",
              "    </tr>\n",
              "    <tr>\n",
              "      <th>4</th>\n",
              "      <td>May012216558RT18</td>\n",
              "      <td>16558</td>\n",
              "      <td>26-04-22</td>\n",
              "      <td>1/5/2022</td>\n",
              "      <td>3/5/2022</td>\n",
              "      <td>2.0</td>\n",
              "      <td>RT1</td>\n",
              "      <td>logtrip</td>\n",
              "      <td>NaN</td>\n",
              "      <td>No Show</td>\n",
              "      <td>9100</td>\n",
              "      <td>9100</td>\n",
              "      <td>Atliq Grands</td>\n",
              "      <td>Luxury</td>\n",
              "      <td>Delhi</td>\n",
              "    </tr>\n",
              "    <tr>\n",
              "      <th>5</th>\n",
              "      <td>May012216558RT19</td>\n",
              "      <td>16558</td>\n",
              "      <td>30-04-22</td>\n",
              "      <td>1/5/2022</td>\n",
              "      <td>2/5/2022</td>\n",
              "      <td>2.0</td>\n",
              "      <td>RT1</td>\n",
              "      <td>tripster</td>\n",
              "      <td>NaN</td>\n",
              "      <td>Checked Out</td>\n",
              "      <td>9100</td>\n",
              "      <td>9100</td>\n",
              "      <td>Atliq Grands</td>\n",
              "      <td>Luxury</td>\n",
              "      <td>Delhi</td>\n",
              "    </tr>\n",
              "    <tr>\n",
              "      <th>6</th>\n",
              "      <td>May012216558RT110</td>\n",
              "      <td>16558</td>\n",
              "      <td>28-04-22</td>\n",
              "      <td>1/5/2022</td>\n",
              "      <td>2/5/2022</td>\n",
              "      <td>1.0</td>\n",
              "      <td>RT1</td>\n",
              "      <td>others</td>\n",
              "      <td>4.0</td>\n",
              "      <td>Checked Out</td>\n",
              "      <td>9100</td>\n",
              "      <td>9100</td>\n",
              "      <td>Atliq Grands</td>\n",
              "      <td>Luxury</td>\n",
              "      <td>Delhi</td>\n",
              "    </tr>\n",
              "    <tr>\n",
              "      <th>7</th>\n",
              "      <td>May012216558RT111</td>\n",
              "      <td>16558</td>\n",
              "      <td>29-04-22</td>\n",
              "      <td>1/5/2022</td>\n",
              "      <td>7/5/2022</td>\n",
              "      <td>1.0</td>\n",
              "      <td>RT1</td>\n",
              "      <td>makeyourtrip</td>\n",
              "      <td>5.0</td>\n",
              "      <td>Checked Out</td>\n",
              "      <td>9100</td>\n",
              "      <td>9100</td>\n",
              "      <td>Atliq Grands</td>\n",
              "      <td>Luxury</td>\n",
              "      <td>Delhi</td>\n",
              "    </tr>\n",
              "    <tr>\n",
              "      <th>8</th>\n",
              "      <td>May012216558RT112</td>\n",
              "      <td>16558</td>\n",
              "      <td>26-04-22</td>\n",
              "      <td>1/5/2022</td>\n",
              "      <td>2/5/2022</td>\n",
              "      <td>2.0</td>\n",
              "      <td>RT1</td>\n",
              "      <td>logtrip</td>\n",
              "      <td>5.0</td>\n",
              "      <td>Checked Out</td>\n",
              "      <td>9100</td>\n",
              "      <td>9100</td>\n",
              "      <td>Atliq Grands</td>\n",
              "      <td>Luxury</td>\n",
              "      <td>Delhi</td>\n",
              "    </tr>\n",
              "    <tr>\n",
              "      <th>9</th>\n",
              "      <td>May012216558RT113</td>\n",
              "      <td>16558</td>\n",
              "      <td>26-04-22</td>\n",
              "      <td>1/5/2022</td>\n",
              "      <td>7/5/2022</td>\n",
              "      <td>2.0</td>\n",
              "      <td>RT1</td>\n",
              "      <td>makeyourtrip</td>\n",
              "      <td>5.0</td>\n",
              "      <td>Checked Out</td>\n",
              "      <td>9100</td>\n",
              "      <td>9100</td>\n",
              "      <td>Atliq Grands</td>\n",
              "      <td>Luxury</td>\n",
              "      <td>Delhi</td>\n",
              "    </tr>\n",
              "  </tbody>\n",
              "</table>\n",
              "</div>"
            ],
            "text/plain": [
              "          booking_id  property_id booking_date check_in_date checkout_date  \\\n",
              "0   May012216558RT12        16558     30-04-22      1/5/2022      2/5/2022   \n",
              "1   May012216558RT15        16558     27-04-22      1/5/2022      2/5/2022   \n",
              "2   May012216558RT16        16558     1/5/2022      1/5/2022      3/5/2022   \n",
              "3   May012216558RT17        16558     28-04-22      1/5/2022      6/5/2022   \n",
              "4   May012216558RT18        16558     26-04-22      1/5/2022      3/5/2022   \n",
              "5   May012216558RT19        16558     30-04-22      1/5/2022      2/5/2022   \n",
              "6  May012216558RT110        16558     28-04-22      1/5/2022      2/5/2022   \n",
              "7  May012216558RT111        16558     29-04-22      1/5/2022      7/5/2022   \n",
              "8  May012216558RT112        16558     26-04-22      1/5/2022      2/5/2022   \n",
              "9  May012216558RT113        16558     26-04-22      1/5/2022      7/5/2022   \n",
              "\n",
              "   no_guests room_category booking_platform  ratings_given booking_status  \\\n",
              "0        2.0           RT1           others            NaN      Cancelled   \n",
              "1        4.0           RT1    direct online            5.0    Checked Out   \n",
              "2        2.0           RT1           others            4.0    Checked Out   \n",
              "3        2.0           RT1           others            NaN      Cancelled   \n",
              "4        2.0           RT1          logtrip            NaN        No Show   \n",
              "5        2.0           RT1         tripster            NaN    Checked Out   \n",
              "6        1.0           RT1           others            4.0    Checked Out   \n",
              "7        1.0           RT1     makeyourtrip            5.0    Checked Out   \n",
              "8        2.0           RT1          logtrip            5.0    Checked Out   \n",
              "9        2.0           RT1     makeyourtrip            5.0    Checked Out   \n",
              "\n",
              "   revenue_generated  revenue_realized property_name category   city  \n",
              "0               9100              3640  Atliq Grands   Luxury  Delhi  \n",
              "1              10920             10920  Atliq Grands   Luxury  Delhi  \n",
              "2               9100              9100  Atliq Grands   Luxury  Delhi  \n",
              "3               9100              3640  Atliq Grands   Luxury  Delhi  \n",
              "4               9100              9100  Atliq Grands   Luxury  Delhi  \n",
              "5               9100              9100  Atliq Grands   Luxury  Delhi  \n",
              "6               9100              9100  Atliq Grands   Luxury  Delhi  \n",
              "7               9100              9100  Atliq Grands   Luxury  Delhi  \n",
              "8               9100              9100  Atliq Grands   Luxury  Delhi  \n",
              "9               9100              9100  Atliq Grands   Luxury  Delhi  "
            ]
          },
          "execution_count": 87,
          "metadata": {},
          "output_type": "execute_result"
        }
      ],
      "source": [
        "df_bookings_all = pd.merge(df_bookings, df_hotels, on=\"property_id\")\n",
        "df_bookings_all.head(10)"
      ]
    },
    {
      "cell_type": "code",
      "execution_count": null,
      "id": "bc167e36-1919-4102-ad0f-97eda895e592",
      "metadata": {
        "id": "bc167e36-1919-4102-ad0f-97eda895e592",
        "outputId": "5314adfe-0e72-42e6-efdc-430d957b52f2"
      },
      "outputs": [
        {
          "data": {
            "text/plain": [
              "city\n",
              "Mumbai       668569251\n",
              "Bangalore    420383550\n",
              "Hyderabad    325179310\n",
              "Delhi        294404488\n",
              "Name: revenue_realized, dtype: int64"
            ]
          },
          "execution_count": 88,
          "metadata": {},
          "output_type": "execute_result"
        }
      ],
      "source": [
        "df_bookings_all.groupby(\"city\")[\"revenue_realized\"].sum().sort_values(ascending=False)"
      ]
    },
    {
      "cell_type": "markdown",
      "id": "2cdcb155-65d2-4799-9711-6f5d18d38270",
      "metadata": {
        "id": "2cdcb155-65d2-4799-9711-6f5d18d38270"
      },
      "source": [
        "7. Print month by month revenue"
      ]
    },
    {
      "cell_type": "code",
      "execution_count": null,
      "id": "7e6bbc32-cd44-429c-bba7-dc22ad5a40ee",
      "metadata": {
        "id": "7e6bbc32-cd44-429c-bba7-dc22ad5a40ee",
        "outputId": "a3d41d65-9c3b-4a3d-99dd-c0572892d341"
      },
      "outputs": [
        {
          "data": {
            "text/html": [
              "<div>\n",
              "<style scoped>\n",
              "    .dataframe tbody tr th:only-of-type {\n",
              "        vertical-align: middle;\n",
              "    }\n",
              "\n",
              "    .dataframe tbody tr th {\n",
              "        vertical-align: top;\n",
              "    }\n",
              "\n",
              "    .dataframe thead th {\n",
              "        text-align: right;\n",
              "    }\n",
              "</style>\n",
              "<table border=\"1\" class=\"dataframe\">\n",
              "  <thead>\n",
              "    <tr style=\"text-align: right;\">\n",
              "      <th></th>\n",
              "      <th>date</th>\n",
              "      <th>mmm yy</th>\n",
              "      <th>week no</th>\n",
              "      <th>day_type</th>\n",
              "    </tr>\n",
              "  </thead>\n",
              "  <tbody>\n",
              "    <tr>\n",
              "      <th>0</th>\n",
              "      <td>01-May-22</td>\n",
              "      <td>May 22</td>\n",
              "      <td>W 19</td>\n",
              "      <td>weekend</td>\n",
              "    </tr>\n",
              "    <tr>\n",
              "      <th>1</th>\n",
              "      <td>02-May-22</td>\n",
              "      <td>May 22</td>\n",
              "      <td>W 19</td>\n",
              "      <td>weekeday</td>\n",
              "    </tr>\n",
              "    <tr>\n",
              "      <th>2</th>\n",
              "      <td>03-May-22</td>\n",
              "      <td>May 22</td>\n",
              "      <td>W 19</td>\n",
              "      <td>weekeday</td>\n",
              "    </tr>\n",
              "    <tr>\n",
              "      <th>3</th>\n",
              "      <td>04-May-22</td>\n",
              "      <td>May 22</td>\n",
              "      <td>W 19</td>\n",
              "      <td>weekeday</td>\n",
              "    </tr>\n",
              "    <tr>\n",
              "      <th>4</th>\n",
              "      <td>05-May-22</td>\n",
              "      <td>May 22</td>\n",
              "      <td>W 19</td>\n",
              "      <td>weekeday</td>\n",
              "    </tr>\n",
              "    <tr>\n",
              "      <th>5</th>\n",
              "      <td>06-May-22</td>\n",
              "      <td>May 22</td>\n",
              "      <td>W 19</td>\n",
              "      <td>weekeday</td>\n",
              "    </tr>\n",
              "    <tr>\n",
              "      <th>6</th>\n",
              "      <td>07-May-22</td>\n",
              "      <td>May 22</td>\n",
              "      <td>W 19</td>\n",
              "      <td>weekend</td>\n",
              "    </tr>\n",
              "    <tr>\n",
              "      <th>7</th>\n",
              "      <td>08-May-22</td>\n",
              "      <td>May 22</td>\n",
              "      <td>W 20</td>\n",
              "      <td>weekend</td>\n",
              "    </tr>\n",
              "    <tr>\n",
              "      <th>8</th>\n",
              "      <td>09-May-22</td>\n",
              "      <td>May 22</td>\n",
              "      <td>W 20</td>\n",
              "      <td>weekeday</td>\n",
              "    </tr>\n",
              "    <tr>\n",
              "      <th>9</th>\n",
              "      <td>10-May-22</td>\n",
              "      <td>May 22</td>\n",
              "      <td>W 20</td>\n",
              "      <td>weekeday</td>\n",
              "    </tr>\n",
              "  </tbody>\n",
              "</table>\n",
              "</div>"
            ],
            "text/plain": [
              "        date  mmm yy week no  day_type\n",
              "0  01-May-22  May 22    W 19   weekend\n",
              "1  02-May-22  May 22    W 19  weekeday\n",
              "2  03-May-22  May 22    W 19  weekeday\n",
              "3  04-May-22  May 22    W 19  weekeday\n",
              "4  05-May-22  May 22    W 19  weekeday\n",
              "5  06-May-22  May 22    W 19  weekeday\n",
              "6  07-May-22  May 22    W 19   weekend\n",
              "7  08-May-22  May 22    W 20   weekend\n",
              "8  09-May-22  May 22    W 20  weekeday\n",
              "9  10-May-22  May 22    W 20  weekeday"
            ]
          },
          "execution_count": 89,
          "metadata": {},
          "output_type": "execute_result"
        }
      ],
      "source": [
        "df_date.head(10)"
      ]
    },
    {
      "cell_type": "code",
      "execution_count": null,
      "id": "85365c97-d929-41e4-8365-7b9129dec376",
      "metadata": {
        "id": "85365c97-d929-41e4-8365-7b9129dec376",
        "outputId": "807edfa9-1d80-4cfd-e86a-2396825146fd"
      },
      "outputs": [
        {
          "data": {
            "text/plain": [
              "array(['May 22', 'Jun 22', 'Jul 22'], dtype=object)"
            ]
          },
          "execution_count": 90,
          "metadata": {},
          "output_type": "execute_result"
        }
      ],
      "source": [
        "df_date[\"mmm yy\"].unique()"
      ]
    },
    {
      "cell_type": "code",
      "execution_count": null,
      "id": "0565891f-c658-4f8b-b6e3-2d50eb3e87e6",
      "metadata": {
        "id": "0565891f-c658-4f8b-b6e3-2d50eb3e87e6",
        "outputId": "75883b68-0527-4e67-f134-d08230ca6f3d"
      },
      "outputs": [
        {
          "name": "stdout",
          "output_type": "stream",
          "text": [
            "<class 'pandas.core.frame.DataFrame'>\n",
            "RangeIndex: 92 entries, 0 to 91\n",
            "Data columns (total 4 columns):\n",
            " #   Column    Non-Null Count  Dtype \n",
            "---  ------    --------------  ----- \n",
            " 0   date      92 non-null     object\n",
            " 1   mmm yy    92 non-null     object\n",
            " 2   week no   92 non-null     object\n",
            " 3   day_type  92 non-null     object\n",
            "dtypes: object(4)\n",
            "memory usage: 3.0+ KB\n"
          ]
        }
      ],
      "source": [
        "df_date.info()"
      ]
    },
    {
      "cell_type": "code",
      "execution_count": null,
      "id": "d209f1d2-8d20-4128-8460-f360d59bc2b9",
      "metadata": {
        "id": "d209f1d2-8d20-4128-8460-f360d59bc2b9",
        "outputId": "425f233d-f613-4c3c-ee46-0bb0d266f5be"
      },
      "outputs": [
        {
          "data": {
            "text/html": [
              "<div>\n",
              "<style scoped>\n",
              "    .dataframe tbody tr th:only-of-type {\n",
              "        vertical-align: middle;\n",
              "    }\n",
              "\n",
              "    .dataframe tbody tr th {\n",
              "        vertical-align: top;\n",
              "    }\n",
              "\n",
              "    .dataframe thead th {\n",
              "        text-align: right;\n",
              "    }\n",
              "</style>\n",
              "<table border=\"1\" class=\"dataframe\">\n",
              "  <thead>\n",
              "    <tr style=\"text-align: right;\">\n",
              "      <th></th>\n",
              "      <th>date</th>\n",
              "      <th>mmm yy</th>\n",
              "      <th>week no</th>\n",
              "      <th>day_type</th>\n",
              "    </tr>\n",
              "  </thead>\n",
              "  <tbody>\n",
              "    <tr>\n",
              "      <th>0</th>\n",
              "      <td>2022-05-01</td>\n",
              "      <td>May 22</td>\n",
              "      <td>W 19</td>\n",
              "      <td>weekend</td>\n",
              "    </tr>\n",
              "    <tr>\n",
              "      <th>1</th>\n",
              "      <td>2022-05-02</td>\n",
              "      <td>May 22</td>\n",
              "      <td>W 19</td>\n",
              "      <td>weekeday</td>\n",
              "    </tr>\n",
              "    <tr>\n",
              "      <th>2</th>\n",
              "      <td>2022-05-03</td>\n",
              "      <td>May 22</td>\n",
              "      <td>W 19</td>\n",
              "      <td>weekeday</td>\n",
              "    </tr>\n",
              "  </tbody>\n",
              "</table>\n",
              "</div>"
            ],
            "text/plain": [
              "        date  mmm yy week no  day_type\n",
              "0 2022-05-01  May 22    W 19   weekend\n",
              "1 2022-05-02  May 22    W 19  weekeday\n",
              "2 2022-05-03  May 22    W 19  weekeday"
            ]
          },
          "execution_count": 107,
          "metadata": {},
          "output_type": "execute_result"
        }
      ],
      "source": [
        "df_date.date = pd.to_datetime(df_date.date)\n",
        "df_date.head(3)"
      ]
    },
    {
      "cell_type": "code",
      "execution_count": null,
      "id": "d899a236-68c2-4cc7-8f8d-f6156c7c102b",
      "metadata": {
        "id": "d899a236-68c2-4cc7-8f8d-f6156c7c102b",
        "outputId": "5f330cd9-7542-4178-b274-ce9917e40256"
      },
      "outputs": [
        {
          "name": "stdout",
          "output_type": "stream",
          "text": [
            "<class 'pandas.core.frame.DataFrame'>\n",
            "RangeIndex: 134573 entries, 0 to 134572\n",
            "Data columns (total 15 columns):\n",
            " #   Column             Non-Null Count   Dtype  \n",
            "---  ------             --------------   -----  \n",
            " 0   booking_id         134573 non-null  object \n",
            " 1   property_id        134573 non-null  int64  \n",
            " 2   booking_date       134573 non-null  object \n",
            " 3   check_in_date      134573 non-null  object \n",
            " 4   checkout_date      134573 non-null  object \n",
            " 5   no_guests          134573 non-null  float64\n",
            " 6   room_category      134573 non-null  object \n",
            " 7   booking_platform   134573 non-null  object \n",
            " 8   ratings_given      56676 non-null   float64\n",
            " 9   booking_status     134573 non-null  object \n",
            " 10  revenue_generated  134573 non-null  int64  \n",
            " 11  revenue_realized   134573 non-null  int64  \n",
            " 12  property_name      134573 non-null  object \n",
            " 13  category           134573 non-null  object \n",
            " 14  city               134573 non-null  object \n",
            "dtypes: float64(2), int64(3), object(10)\n",
            "memory usage: 15.4+ MB\n"
          ]
        }
      ],
      "source": [
        "df_bookings_all.info()"
      ]
    },
    {
      "cell_type": "code",
      "execution_count": null,
      "id": "7cea7a73-9e66-419f-b6c1-d324bcbf971e",
      "metadata": {
        "id": "7cea7a73-9e66-419f-b6c1-d324bcbf971e",
        "outputId": "03eefae1-a779-4eba-8e45-803ae0c33058"
      },
      "outputs": [
        {
          "name": "stdout",
          "output_type": "stream",
          "text": [
            "<class 'pandas.core.frame.DataFrame'>\n",
            "RangeIndex: 134573 entries, 0 to 134572\n",
            "Data columns (total 15 columns):\n",
            " #   Column             Non-Null Count   Dtype         \n",
            "---  ------             --------------   -----         \n",
            " 0   booking_id         134573 non-null  object        \n",
            " 1   property_id        134573 non-null  int64         \n",
            " 2   booking_date       134573 non-null  object        \n",
            " 3   check_in_date      0 non-null       datetime64[ns]\n",
            " 4   checkout_date      134573 non-null  object        \n",
            " 5   no_guests          134573 non-null  float64       \n",
            " 6   room_category      134573 non-null  object        \n",
            " 7   booking_platform   134573 non-null  object        \n",
            " 8   ratings_given      56676 non-null   float64       \n",
            " 9   booking_status     134573 non-null  object        \n",
            " 10  revenue_generated  134573 non-null  int64         \n",
            " 11  revenue_realized   134573 non-null  int64         \n",
            " 12  property_name      134573 non-null  object        \n",
            " 13  category           134573 non-null  object        \n",
            " 14  city               134573 non-null  object        \n",
            "dtypes: datetime64[ns](1), float64(2), int64(3), object(9)\n",
            "memory usage: 15.4+ MB\n",
            "None\n"
          ]
        }
      ],
      "source": [
        "df_bookings_all[\"check_in_date\"] = pd.to_datetime(df_bookings_all[\"check_in_date\"])\n",
        "print(df_bookings_all.info())"
      ]
    },
    {
      "cell_type": "code",
      "execution_count": null,
      "id": "f7117e82-50bb-4a01-a492-d12571080dbe",
      "metadata": {
        "id": "f7117e82-50bb-4a01-a492-d12571080dbe",
        "outputId": "c59333e7-c53a-4680-eaf5-bb37fa4f670f"
      },
      "outputs": [
        {
          "data": {
            "text/html": [
              "<div>\n",
              "<style scoped>\n",
              "    .dataframe tbody tr th:only-of-type {\n",
              "        vertical-align: middle;\n",
              "    }\n",
              "\n",
              "    .dataframe tbody tr th {\n",
              "        vertical-align: top;\n",
              "    }\n",
              "\n",
              "    .dataframe thead th {\n",
              "        text-align: right;\n",
              "    }\n",
              "</style>\n",
              "<table border=\"1\" class=\"dataframe\">\n",
              "  <thead>\n",
              "    <tr style=\"text-align: right;\">\n",
              "      <th></th>\n",
              "      <th>booking_id</th>\n",
              "      <th>property_id</th>\n",
              "      <th>booking_date</th>\n",
              "      <th>check_in_date</th>\n",
              "      <th>checkout_date</th>\n",
              "      <th>no_guests</th>\n",
              "      <th>room_category</th>\n",
              "      <th>booking_platform</th>\n",
              "      <th>ratings_given</th>\n",
              "      <th>booking_status</th>\n",
              "      <th>revenue_generated</th>\n",
              "      <th>revenue_realized</th>\n",
              "      <th>property_name</th>\n",
              "      <th>category</th>\n",
              "      <th>city</th>\n",
              "    </tr>\n",
              "  </thead>\n",
              "  <tbody>\n",
              "    <tr>\n",
              "      <th>0</th>\n",
              "      <td>May012216558RT12</td>\n",
              "      <td>16558</td>\n",
              "      <td>30-04-22</td>\n",
              "      <td>NaT</td>\n",
              "      <td>2/5/2022</td>\n",
              "      <td>2.0</td>\n",
              "      <td>RT1</td>\n",
              "      <td>others</td>\n",
              "      <td>NaN</td>\n",
              "      <td>Cancelled</td>\n",
              "      <td>9100</td>\n",
              "      <td>3640</td>\n",
              "      <td>Atliq Grands</td>\n",
              "      <td>Luxury</td>\n",
              "      <td>Delhi</td>\n",
              "    </tr>\n",
              "    <tr>\n",
              "      <th>1</th>\n",
              "      <td>May012216558RT15</td>\n",
              "      <td>16558</td>\n",
              "      <td>27-04-22</td>\n",
              "      <td>NaT</td>\n",
              "      <td>2/5/2022</td>\n",
              "      <td>4.0</td>\n",
              "      <td>RT1</td>\n",
              "      <td>direct online</td>\n",
              "      <td>5.0</td>\n",
              "      <td>Checked Out</td>\n",
              "      <td>10920</td>\n",
              "      <td>10920</td>\n",
              "      <td>Atliq Grands</td>\n",
              "      <td>Luxury</td>\n",
              "      <td>Delhi</td>\n",
              "    </tr>\n",
              "    <tr>\n",
              "      <th>2</th>\n",
              "      <td>May012216558RT16</td>\n",
              "      <td>16558</td>\n",
              "      <td>1/5/2022</td>\n",
              "      <td>NaT</td>\n",
              "      <td>3/5/2022</td>\n",
              "      <td>2.0</td>\n",
              "      <td>RT1</td>\n",
              "      <td>others</td>\n",
              "      <td>4.0</td>\n",
              "      <td>Checked Out</td>\n",
              "      <td>9100</td>\n",
              "      <td>9100</td>\n",
              "      <td>Atliq Grands</td>\n",
              "      <td>Luxury</td>\n",
              "      <td>Delhi</td>\n",
              "    </tr>\n",
              "    <tr>\n",
              "      <th>3</th>\n",
              "      <td>May012216558RT17</td>\n",
              "      <td>16558</td>\n",
              "      <td>28-04-22</td>\n",
              "      <td>NaT</td>\n",
              "      <td>6/5/2022</td>\n",
              "      <td>2.0</td>\n",
              "      <td>RT1</td>\n",
              "      <td>others</td>\n",
              "      <td>NaN</td>\n",
              "      <td>Cancelled</td>\n",
              "      <td>9100</td>\n",
              "      <td>3640</td>\n",
              "      <td>Atliq Grands</td>\n",
              "      <td>Luxury</td>\n",
              "      <td>Delhi</td>\n",
              "    </tr>\n",
              "    <tr>\n",
              "      <th>4</th>\n",
              "      <td>May012216558RT18</td>\n",
              "      <td>16558</td>\n",
              "      <td>26-04-22</td>\n",
              "      <td>NaT</td>\n",
              "      <td>3/5/2022</td>\n",
              "      <td>2.0</td>\n",
              "      <td>RT1</td>\n",
              "      <td>logtrip</td>\n",
              "      <td>NaN</td>\n",
              "      <td>No Show</td>\n",
              "      <td>9100</td>\n",
              "      <td>9100</td>\n",
              "      <td>Atliq Grands</td>\n",
              "      <td>Luxury</td>\n",
              "      <td>Delhi</td>\n",
              "    </tr>\n",
              "  </tbody>\n",
              "</table>\n",
              "</div>"
            ],
            "text/plain": [
              "         booking_id  property_id booking_date check_in_date checkout_date  \\\n",
              "0  May012216558RT12        16558     30-04-22           NaT      2/5/2022   \n",
              "1  May012216558RT15        16558     27-04-22           NaT      2/5/2022   \n",
              "2  May012216558RT16        16558     1/5/2022           NaT      3/5/2022   \n",
              "3  May012216558RT17        16558     28-04-22           NaT      6/5/2022   \n",
              "4  May012216558RT18        16558     26-04-22           NaT      3/5/2022   \n",
              "\n",
              "   no_guests room_category booking_platform  ratings_given booking_status  \\\n",
              "0        2.0           RT1           others            NaN      Cancelled   \n",
              "1        4.0           RT1    direct online            5.0    Checked Out   \n",
              "2        2.0           RT1           others            4.0    Checked Out   \n",
              "3        2.0           RT1           others            NaN      Cancelled   \n",
              "4        2.0           RT1          logtrip            NaN        No Show   \n",
              "\n",
              "   revenue_generated  revenue_realized property_name category   city  \n",
              "0               9100              3640  Atliq Grands   Luxury  Delhi  \n",
              "1              10920             10920  Atliq Grands   Luxury  Delhi  \n",
              "2               9100              9100  Atliq Grands   Luxury  Delhi  \n",
              "3               9100              3640  Atliq Grands   Luxury  Delhi  \n",
              "4               9100              9100  Atliq Grands   Luxury  Delhi  "
            ]
          },
          "execution_count": 104,
          "metadata": {},
          "output_type": "execute_result"
        }
      ],
      "source": [
        "df_bookings_all.head()"
      ]
    },
    {
      "cell_type": "code",
      "execution_count": null,
      "id": "8a5aa03c-6792-4389-bf98-6ce43f8b694e",
      "metadata": {
        "id": "8a5aa03c-6792-4389-bf98-6ce43f8b694e",
        "outputId": "08ca41c5-0c15-4171-b8fd-0189406e838a"
      },
      "outputs": [
        {
          "name": "stdout",
          "output_type": "stream",
          "text": [
            "0        NaT\n",
            "1        NaT\n",
            "2        NaT\n",
            "3        NaT\n",
            "4        NaT\n",
            "          ..\n",
            "134568   NaT\n",
            "134569   NaT\n",
            "134570   NaT\n",
            "134571   NaT\n",
            "134572   NaT\n",
            "Name: check_in_date, Length: 134573, dtype: datetime64[ns]\n"
          ]
        }
      ],
      "source": [
        "print(df_bookings_all[df_bookings_all[\"check_in_date\"].isna()][\"check_in_date\"])"
      ]
    },
    {
      "cell_type": "code",
      "execution_count": null,
      "id": "f2d0e422-19a4-4652-9e2b-ea0841615f97",
      "metadata": {
        "id": "f2d0e422-19a4-4652-9e2b-ea0841615f97",
        "outputId": "ea9b7282-f768-48fe-856a-9496f93950e7"
      },
      "outputs": [
        {
          "name": "stdout",
          "output_type": "stream",
          "text": [
            "               booking_id check_in_date\n",
            "0        May012216558RT12           NaT\n",
            "1        May012216558RT15           NaT\n",
            "2        May012216558RT16           NaT\n",
            "3        May012216558RT17           NaT\n",
            "4        May012216558RT18           NaT\n",
            "...                   ...           ...\n",
            "134568   Jul312217564RT45           NaT\n",
            "134569   Jul312217564RT46           NaT\n",
            "134570   Jul312217564RT48           NaT\n",
            "134571   Jul312217564RT49           NaT\n",
            "134572  Jul312217564RT410           NaT\n",
            "\n",
            "[134573 rows x 2 columns]\n"
          ]
        }
      ],
      "source": [
        "print(df_bookings_all[df_bookings_all[\"check_in_date\"].isna()][[\"booking_id\", \"check_in_date\"]])"
      ]
    },
    {
      "cell_type": "code",
      "execution_count": null,
      "id": "ef395e31-a19a-4920-abfe-420037c10948",
      "metadata": {
        "id": "ef395e31-a19a-4920-abfe-420037c10948"
      },
      "outputs": [],
      "source": [
        "df_bookings_all.loc[df_bookings_all[\"check_in_date\"].isna(), \"check_in_date\"] = df_bookings_all[\"booking_date\"]\n",
        "df_bookings_all[\"check_in_date\"] = pd.to_datetime(df_bookings_all[\"check_in_date\"], errors=\"coerce\")"
      ]
    },
    {
      "cell_type": "code",
      "execution_count": null,
      "id": "9272a1ed-58b4-4f4a-8ebb-2564d51bbff5",
      "metadata": {
        "id": "9272a1ed-58b4-4f4a-8ebb-2564d51bbff5"
      },
      "outputs": [],
      "source": [
        "df_bookings_all = df_bookings_all.dropna(subset=[\"check_in_date\"])"
      ]
    },
    {
      "cell_type": "code",
      "execution_count": null,
      "id": "f87c7e6c-95c4-4313-ab53-c201126ca2cd",
      "metadata": {
        "id": "f87c7e6c-95c4-4313-ab53-c201126ca2cd",
        "outputId": "e047e38b-9c09-4fa0-a99d-32e9070e2eae"
      },
      "outputs": [
        {
          "data": {
            "text/html": [
              "<div>\n",
              "<style scoped>\n",
              "    .dataframe tbody tr th:only-of-type {\n",
              "        vertical-align: middle;\n",
              "    }\n",
              "\n",
              "    .dataframe tbody tr th {\n",
              "        vertical-align: top;\n",
              "    }\n",
              "\n",
              "    .dataframe thead th {\n",
              "        text-align: right;\n",
              "    }\n",
              "</style>\n",
              "<table border=\"1\" class=\"dataframe\">\n",
              "  <thead>\n",
              "    <tr style=\"text-align: right;\">\n",
              "      <th></th>\n",
              "      <th>booking_id</th>\n",
              "      <th>property_id</th>\n",
              "      <th>booking_date</th>\n",
              "      <th>check_in_date</th>\n",
              "      <th>checkout_date</th>\n",
              "      <th>no_guests</th>\n",
              "      <th>room_category</th>\n",
              "      <th>booking_platform</th>\n",
              "      <th>ratings_given</th>\n",
              "      <th>booking_status</th>\n",
              "      <th>revenue_generated</th>\n",
              "      <th>revenue_realized</th>\n",
              "      <th>property_name</th>\n",
              "      <th>category</th>\n",
              "      <th>city</th>\n",
              "    </tr>\n",
              "  </thead>\n",
              "  <tbody>\n",
              "    <tr>\n",
              "      <th>0</th>\n",
              "      <td>May012216558RT12</td>\n",
              "      <td>16558</td>\n",
              "      <td>30-04-22</td>\n",
              "      <td>2022-04-30</td>\n",
              "      <td>2/5/2022</td>\n",
              "      <td>2.0</td>\n",
              "      <td>RT1</td>\n",
              "      <td>others</td>\n",
              "      <td>NaN</td>\n",
              "      <td>Cancelled</td>\n",
              "      <td>9100</td>\n",
              "      <td>3640</td>\n",
              "      <td>Atliq Grands</td>\n",
              "      <td>Luxury</td>\n",
              "      <td>Delhi</td>\n",
              "    </tr>\n",
              "    <tr>\n",
              "      <th>1</th>\n",
              "      <td>May012216558RT15</td>\n",
              "      <td>16558</td>\n",
              "      <td>27-04-22</td>\n",
              "      <td>2022-04-27</td>\n",
              "      <td>2/5/2022</td>\n",
              "      <td>4.0</td>\n",
              "      <td>RT1</td>\n",
              "      <td>direct online</td>\n",
              "      <td>5.0</td>\n",
              "      <td>Checked Out</td>\n",
              "      <td>10920</td>\n",
              "      <td>10920</td>\n",
              "      <td>Atliq Grands</td>\n",
              "      <td>Luxury</td>\n",
              "      <td>Delhi</td>\n",
              "    </tr>\n",
              "    <tr>\n",
              "      <th>2</th>\n",
              "      <td>May012216558RT16</td>\n",
              "      <td>16558</td>\n",
              "      <td>1/5/2022</td>\n",
              "      <td>2022-01-05</td>\n",
              "      <td>3/5/2022</td>\n",
              "      <td>2.0</td>\n",
              "      <td>RT1</td>\n",
              "      <td>others</td>\n",
              "      <td>4.0</td>\n",
              "      <td>Checked Out</td>\n",
              "      <td>9100</td>\n",
              "      <td>9100</td>\n",
              "      <td>Atliq Grands</td>\n",
              "      <td>Luxury</td>\n",
              "      <td>Delhi</td>\n",
              "    </tr>\n",
              "    <tr>\n",
              "      <th>3</th>\n",
              "      <td>May012216558RT17</td>\n",
              "      <td>16558</td>\n",
              "      <td>28-04-22</td>\n",
              "      <td>2022-04-28</td>\n",
              "      <td>6/5/2022</td>\n",
              "      <td>2.0</td>\n",
              "      <td>RT1</td>\n",
              "      <td>others</td>\n",
              "      <td>NaN</td>\n",
              "      <td>Cancelled</td>\n",
              "      <td>9100</td>\n",
              "      <td>3640</td>\n",
              "      <td>Atliq Grands</td>\n",
              "      <td>Luxury</td>\n",
              "      <td>Delhi</td>\n",
              "    </tr>\n",
              "    <tr>\n",
              "      <th>4</th>\n",
              "      <td>May012216558RT18</td>\n",
              "      <td>16558</td>\n",
              "      <td>26-04-22</td>\n",
              "      <td>2022-04-26</td>\n",
              "      <td>3/5/2022</td>\n",
              "      <td>2.0</td>\n",
              "      <td>RT1</td>\n",
              "      <td>logtrip</td>\n",
              "      <td>NaN</td>\n",
              "      <td>No Show</td>\n",
              "      <td>9100</td>\n",
              "      <td>9100</td>\n",
              "      <td>Atliq Grands</td>\n",
              "      <td>Luxury</td>\n",
              "      <td>Delhi</td>\n",
              "    </tr>\n",
              "  </tbody>\n",
              "</table>\n",
              "</div>"
            ],
            "text/plain": [
              "         booking_id  property_id booking_date check_in_date checkout_date  \\\n",
              "0  May012216558RT12        16558     30-04-22    2022-04-30      2/5/2022   \n",
              "1  May012216558RT15        16558     27-04-22    2022-04-27      2/5/2022   \n",
              "2  May012216558RT16        16558     1/5/2022    2022-01-05      3/5/2022   \n",
              "3  May012216558RT17        16558     28-04-22    2022-04-28      6/5/2022   \n",
              "4  May012216558RT18        16558     26-04-22    2022-04-26      3/5/2022   \n",
              "\n",
              "   no_guests room_category booking_platform  ratings_given booking_status  \\\n",
              "0        2.0           RT1           others            NaN      Cancelled   \n",
              "1        4.0           RT1    direct online            5.0    Checked Out   \n",
              "2        2.0           RT1           others            4.0    Checked Out   \n",
              "3        2.0           RT1           others            NaN      Cancelled   \n",
              "4        2.0           RT1          logtrip            NaN        No Show   \n",
              "\n",
              "   revenue_generated  revenue_realized property_name category   city  \n",
              "0               9100              3640  Atliq Grands   Luxury  Delhi  \n",
              "1              10920             10920  Atliq Grands   Luxury  Delhi  \n",
              "2               9100              9100  Atliq Grands   Luxury  Delhi  \n",
              "3               9100              3640  Atliq Grands   Luxury  Delhi  \n",
              "4               9100              9100  Atliq Grands   Luxury  Delhi  "
            ]
          },
          "execution_count": 113,
          "metadata": {},
          "output_type": "execute_result"
        }
      ],
      "source": [
        "df_bookings_all.head()"
      ]
    },
    {
      "cell_type": "code",
      "execution_count": null,
      "id": "aabc4dad-7883-4619-9498-7089cc3bba92",
      "metadata": {
        "id": "aabc4dad-7883-4619-9498-7089cc3bba92"
      },
      "outputs": [],
      "source": [
        "# Convert both columns to datetime\n",
        "df_bookings_all[\"check_in_date\"] = pd.to_datetime(df_bookings_all[\"check_in_date\"], errors=\"coerce\")"
      ]
    },
    {
      "cell_type": "code",
      "execution_count": null,
      "id": "746ebc18-3220-4031-85ec-1f97ef8c8f4d",
      "metadata": {
        "id": "746ebc18-3220-4031-85ec-1f97ef8c8f4d",
        "outputId": "bdfdc02b-6153-4f56-9c1b-9450d4e80a7d"
      },
      "outputs": [
        {
          "name": "stderr",
          "output_type": "stream",
          "text": [
            "C:\\Users\\hp\\AppData\\Local\\Temp\\ipykernel_13892\\2967241087.py:1: UserWarning: Could not infer format, so each element will be parsed individually, falling back to `dateutil`. To ensure parsing is consistent and as-expected, please specify a format.\n",
            "  df_date[\"date\"] = pd.to_datetime(df_date[\"date\"], errors=\"coerce\")\n"
          ]
        }
      ],
      "source": [
        "df_date[\"date\"] = pd.to_datetime(df_date[\"date\"], errors=\"coerce\")"
      ]
    },
    {
      "cell_type": "code",
      "execution_count": null,
      "id": "4e47f2ba-9b61-42c0-bce7-f4329c207a05",
      "metadata": {
        "id": "4e47f2ba-9b61-42c0-bce7-f4329c207a05",
        "outputId": "fdb3afb3-5cc4-41f9-c443-2e9b71c0211d"
      },
      "outputs": [
        {
          "name": "stdout",
          "output_type": "stream",
          "text": [
            "booking_id                   object\n",
            "property_id                   int64\n",
            "booking_date                 object\n",
            "check_in_date        datetime64[ns]\n",
            "checkout_date                object\n",
            "no_guests                   float64\n",
            "room_category                object\n",
            "booking_platform             object\n",
            "ratings_given               float64\n",
            "booking_status               object\n",
            "revenue_generated             int64\n",
            "revenue_realized              int64\n",
            "property_name                object\n",
            "category                     object\n",
            "city                         object\n",
            "date                 datetime64[ns]\n",
            "mmm yy                       object\n",
            "week no                      object\n",
            "day_type                     object\n",
            "dtype: object\n"
          ]
        }
      ],
      "source": [
        "print(df_bookings_all.dtypes)"
      ]
    },
    {
      "cell_type": "code",
      "execution_count": null,
      "id": "fde55f51-0119-4f48-b73e-07664c6eaee7",
      "metadata": {
        "id": "fde55f51-0119-4f48-b73e-07664c6eaee7",
        "outputId": "72decb30-d1c5-4096-c0be-56ebca6ac56c"
      },
      "outputs": [
        {
          "name": "stdout",
          "output_type": "stream",
          "text": [
            "date        datetime64[ns]\n",
            "mmm yy              object\n",
            "week no             object\n",
            "day_type            object\n",
            "dtype: object\n"
          ]
        }
      ],
      "source": [
        "print(df_date.dtypes)"
      ]
    },
    {
      "cell_type": "code",
      "execution_count": null,
      "id": "eeb1fe3d-8b1a-473f-95f3-8237ca0d5881",
      "metadata": {
        "id": "eeb1fe3d-8b1a-473f-95f3-8237ca0d5881"
      },
      "outputs": [],
      "source": [
        "df_bookings_all = pd.merge(df_bookings_all, df_date, left_on=\"check_in_date\", right_on=\"date\")"
      ]
    },
    {
      "cell_type": "code",
      "execution_count": null,
      "id": "485f2b67-d0b6-453d-966c-1387b8ebc240",
      "metadata": {
        "id": "485f2b67-d0b6-453d-966c-1387b8ebc240",
        "outputId": "3f6b67c4-e5b9-418b-ff2f-edbc3f7e4df0"
      },
      "outputs": [
        {
          "data": {
            "text/html": [
              "<div>\n",
              "<style scoped>\n",
              "    .dataframe tbody tr th:only-of-type {\n",
              "        vertical-align: middle;\n",
              "    }\n",
              "\n",
              "    .dataframe tbody tr th {\n",
              "        vertical-align: top;\n",
              "    }\n",
              "\n",
              "    .dataframe thead th {\n",
              "        text-align: right;\n",
              "    }\n",
              "</style>\n",
              "<table border=\"1\" class=\"dataframe\">\n",
              "  <thead>\n",
              "    <tr style=\"text-align: right;\">\n",
              "      <th></th>\n",
              "      <th>booking_id</th>\n",
              "      <th>property_id</th>\n",
              "      <th>booking_date</th>\n",
              "      <th>check_in_date</th>\n",
              "      <th>checkout_date</th>\n",
              "      <th>no_guests</th>\n",
              "      <th>room_category</th>\n",
              "      <th>booking_platform</th>\n",
              "      <th>ratings_given</th>\n",
              "      <th>booking_status</th>\n",
              "      <th>...</th>\n",
              "      <th>category</th>\n",
              "      <th>city</th>\n",
              "      <th>date_x</th>\n",
              "      <th>mmm yy_x</th>\n",
              "      <th>week no_x</th>\n",
              "      <th>day_type_x</th>\n",
              "      <th>date_y</th>\n",
              "      <th>mmm yy_y</th>\n",
              "      <th>week no_y</th>\n",
              "      <th>day_type_y</th>\n",
              "    </tr>\n",
              "  </thead>\n",
              "  <tbody>\n",
              "    <tr>\n",
              "      <th>0</th>\n",
              "      <td>May012216558RT21</td>\n",
              "      <td>16558</td>\n",
              "      <td>7/4/2022</td>\n",
              "      <td>2022-07-04</td>\n",
              "      <td>6/5/2022</td>\n",
              "      <td>2.0</td>\n",
              "      <td>RT2</td>\n",
              "      <td>others</td>\n",
              "      <td>NaN</td>\n",
              "      <td>Checked Out</td>\n",
              "      <td>...</td>\n",
              "      <td>Luxury</td>\n",
              "      <td>Delhi</td>\n",
              "      <td>2022-07-04</td>\n",
              "      <td>Jul 22</td>\n",
              "      <td>W 28</td>\n",
              "      <td>weekeday</td>\n",
              "      <td>2022-07-04</td>\n",
              "      <td>Jul 22</td>\n",
              "      <td>W 28</td>\n",
              "      <td>weekeday</td>\n",
              "    </tr>\n",
              "    <tr>\n",
              "      <th>1</th>\n",
              "      <td>May012216559RT320</td>\n",
              "      <td>16559</td>\n",
              "      <td>7/4/2022</td>\n",
              "      <td>2022-07-04</td>\n",
              "      <td>2/5/2022</td>\n",
              "      <td>3.0</td>\n",
              "      <td>RT3</td>\n",
              "      <td>others</td>\n",
              "      <td>NaN</td>\n",
              "      <td>Cancelled</td>\n",
              "      <td>...</td>\n",
              "      <td>Luxury</td>\n",
              "      <td>Mumbai</td>\n",
              "      <td>2022-07-04</td>\n",
              "      <td>Jul 22</td>\n",
              "      <td>W 28</td>\n",
              "      <td>weekeday</td>\n",
              "      <td>2022-07-04</td>\n",
              "      <td>Jul 22</td>\n",
              "      <td>W 28</td>\n",
              "      <td>weekeday</td>\n",
              "    </tr>\n",
              "    <tr>\n",
              "      <th>2</th>\n",
              "      <td>May012216560RT22</td>\n",
              "      <td>16560</td>\n",
              "      <td>7/4/2022</td>\n",
              "      <td>2022-07-04</td>\n",
              "      <td>2/5/2022</td>\n",
              "      <td>2.0</td>\n",
              "      <td>RT2</td>\n",
              "      <td>others</td>\n",
              "      <td>3.0</td>\n",
              "      <td>Checked Out</td>\n",
              "      <td>...</td>\n",
              "      <td>Business</td>\n",
              "      <td>Delhi</td>\n",
              "      <td>2022-07-04</td>\n",
              "      <td>Jul 22</td>\n",
              "      <td>W 28</td>\n",
              "      <td>weekeday</td>\n",
              "      <td>2022-07-04</td>\n",
              "      <td>Jul 22</td>\n",
              "      <td>W 28</td>\n",
              "      <td>weekeday</td>\n",
              "    </tr>\n",
              "    <tr>\n",
              "      <th>3</th>\n",
              "      <td>May012216560RT43</td>\n",
              "      <td>16560</td>\n",
              "      <td>7/4/2022</td>\n",
              "      <td>2022-07-04</td>\n",
              "      <td>2/5/2022</td>\n",
              "      <td>2.0</td>\n",
              "      <td>RT4</td>\n",
              "      <td>others</td>\n",
              "      <td>NaN</td>\n",
              "      <td>Cancelled</td>\n",
              "      <td>...</td>\n",
              "      <td>Business</td>\n",
              "      <td>Delhi</td>\n",
              "      <td>2022-07-04</td>\n",
              "      <td>Jul 22</td>\n",
              "      <td>W 28</td>\n",
              "      <td>weekeday</td>\n",
              "      <td>2022-07-04</td>\n",
              "      <td>Jul 22</td>\n",
              "      <td>W 28</td>\n",
              "      <td>weekeday</td>\n",
              "    </tr>\n",
              "    <tr>\n",
              "      <th>4</th>\n",
              "      <td>May012216561RT11</td>\n",
              "      <td>16561</td>\n",
              "      <td>7/4/2022</td>\n",
              "      <td>2022-07-04</td>\n",
              "      <td>3/5/2022</td>\n",
              "      <td>2.0</td>\n",
              "      <td>RT1</td>\n",
              "      <td>tripster</td>\n",
              "      <td>NaN</td>\n",
              "      <td>Checked Out</td>\n",
              "      <td>...</td>\n",
              "      <td>Luxury</td>\n",
              "      <td>Delhi</td>\n",
              "      <td>2022-07-04</td>\n",
              "      <td>Jul 22</td>\n",
              "      <td>W 28</td>\n",
              "      <td>weekeday</td>\n",
              "      <td>2022-07-04</td>\n",
              "      <td>Jul 22</td>\n",
              "      <td>W 28</td>\n",
              "      <td>weekeday</td>\n",
              "    </tr>\n",
              "  </tbody>\n",
              "</table>\n",
              "<p>5 rows × 23 columns</p>\n",
              "</div>"
            ],
            "text/plain": [
              "          booking_id  property_id booking_date check_in_date checkout_date  \\\n",
              "0   May012216558RT21        16558     7/4/2022    2022-07-04      6/5/2022   \n",
              "1  May012216559RT320        16559     7/4/2022    2022-07-04      2/5/2022   \n",
              "2   May012216560RT22        16560     7/4/2022    2022-07-04      2/5/2022   \n",
              "3   May012216560RT43        16560     7/4/2022    2022-07-04      2/5/2022   \n",
              "4   May012216561RT11        16561     7/4/2022    2022-07-04      3/5/2022   \n",
              "\n",
              "   no_guests room_category booking_platform  ratings_given booking_status  \\\n",
              "0        2.0           RT2           others            NaN    Checked Out   \n",
              "1        3.0           RT3           others            NaN      Cancelled   \n",
              "2        2.0           RT2           others            3.0    Checked Out   \n",
              "3        2.0           RT4           others            NaN      Cancelled   \n",
              "4        2.0           RT1         tripster            NaN    Checked Out   \n",
              "\n",
              "   ...  category    city     date_x mmm yy_x week no_x day_type_x     date_y  \\\n",
              "0  ...    Luxury   Delhi 2022-07-04   Jul 22      W 28   weekeday 2022-07-04   \n",
              "1  ...    Luxury  Mumbai 2022-07-04   Jul 22      W 28   weekeday 2022-07-04   \n",
              "2  ...  Business   Delhi 2022-07-04   Jul 22      W 28   weekeday 2022-07-04   \n",
              "3  ...  Business   Delhi 2022-07-04   Jul 22      W 28   weekeday 2022-07-04   \n",
              "4  ...    Luxury   Delhi 2022-07-04   Jul 22      W 28   weekeday 2022-07-04   \n",
              "\n",
              "  mmm yy_y week no_y day_type_y  \n",
              "0   Jul 22      W 28   weekeday  \n",
              "1   Jul 22      W 28   weekeday  \n",
              "2   Jul 22      W 28   weekeday  \n",
              "3   Jul 22      W 28   weekeday  \n",
              "4   Jul 22      W 28   weekeday  \n",
              "\n",
              "[5 rows x 23 columns]"
            ]
          },
          "execution_count": 124,
          "metadata": {},
          "output_type": "execute_result"
        }
      ],
      "source": [
        "df_bookings_all.head()"
      ]
    },
    {
      "cell_type": "code",
      "execution_count": null,
      "id": "b43101e0-0083-4d19-aa9f-d8d5faa947af",
      "metadata": {
        "id": "b43101e0-0083-4d19-aa9f-d8d5faa947af"
      },
      "outputs": [],
      "source": [
        "# Drop the duplicate columns\n",
        "df_bookings_all = df_bookings_all.drop(columns=[\"date_y\", \"mmm yy_y\", \"week no_y\", \"day_type_y\"])"
      ]
    },
    {
      "cell_type": "code",
      "execution_count": null,
      "id": "eef3ed33-fb7c-4471-b6b5-18a9e81e3370",
      "metadata": {
        "id": "eef3ed33-fb7c-4471-b6b5-18a9e81e3370"
      },
      "outputs": [],
      "source": [
        "df_bookings_all.rename(columns={\"date_x\": \"date\", \"mmm yy_x\": \"mmm yy\", \"week no_x\": \"week no\", \"day_type_x\": \"day_type\"}, inplace=True)"
      ]
    },
    {
      "cell_type": "code",
      "execution_count": null,
      "id": "5af13cce-d425-4a8a-b1a9-0cd92d48afac",
      "metadata": {
        "id": "5af13cce-d425-4a8a-b1a9-0cd92d48afac",
        "outputId": "bfa58a77-cd61-47b5-e4f1-6dab0e076ba3"
      },
      "outputs": [
        {
          "data": {
            "text/html": [
              "<div>\n",
              "<style scoped>\n",
              "    .dataframe tbody tr th:only-of-type {\n",
              "        vertical-align: middle;\n",
              "    }\n",
              "\n",
              "    .dataframe tbody tr th {\n",
              "        vertical-align: top;\n",
              "    }\n",
              "\n",
              "    .dataframe thead th {\n",
              "        text-align: right;\n",
              "    }\n",
              "</style>\n",
              "<table border=\"1\" class=\"dataframe\">\n",
              "  <thead>\n",
              "    <tr style=\"text-align: right;\">\n",
              "      <th></th>\n",
              "      <th>booking_id</th>\n",
              "      <th>property_id</th>\n",
              "      <th>booking_date</th>\n",
              "      <th>check_in_date</th>\n",
              "      <th>checkout_date</th>\n",
              "      <th>no_guests</th>\n",
              "      <th>room_category</th>\n",
              "      <th>booking_platform</th>\n",
              "      <th>ratings_given</th>\n",
              "      <th>booking_status</th>\n",
              "      <th>revenue_generated</th>\n",
              "      <th>revenue_realized</th>\n",
              "      <th>property_name</th>\n",
              "      <th>category</th>\n",
              "      <th>city</th>\n",
              "      <th>date</th>\n",
              "      <th>mmm yy</th>\n",
              "      <th>week no</th>\n",
              "      <th>day_type</th>\n",
              "    </tr>\n",
              "  </thead>\n",
              "  <tbody>\n",
              "    <tr>\n",
              "      <th>0</th>\n",
              "      <td>May012216558RT21</td>\n",
              "      <td>16558</td>\n",
              "      <td>7/4/2022</td>\n",
              "      <td>2022-07-04</td>\n",
              "      <td>6/5/2022</td>\n",
              "      <td>2.0</td>\n",
              "      <td>RT2</td>\n",
              "      <td>others</td>\n",
              "      <td>NaN</td>\n",
              "      <td>Checked Out</td>\n",
              "      <td>12600</td>\n",
              "      <td>12600</td>\n",
              "      <td>Atliq Grands</td>\n",
              "      <td>Luxury</td>\n",
              "      <td>Delhi</td>\n",
              "      <td>2022-07-04</td>\n",
              "      <td>Jul 22</td>\n",
              "      <td>W 28</td>\n",
              "      <td>weekeday</td>\n",
              "    </tr>\n",
              "    <tr>\n",
              "      <th>1</th>\n",
              "      <td>May012216559RT320</td>\n",
              "      <td>16559</td>\n",
              "      <td>7/4/2022</td>\n",
              "      <td>2022-07-04</td>\n",
              "      <td>2/5/2022</td>\n",
              "      <td>3.0</td>\n",
              "      <td>RT3</td>\n",
              "      <td>others</td>\n",
              "      <td>NaN</td>\n",
              "      <td>Cancelled</td>\n",
              "      <td>22440</td>\n",
              "      <td>8976</td>\n",
              "      <td>Atliq Exotica</td>\n",
              "      <td>Luxury</td>\n",
              "      <td>Mumbai</td>\n",
              "      <td>2022-07-04</td>\n",
              "      <td>Jul 22</td>\n",
              "      <td>W 28</td>\n",
              "      <td>weekeday</td>\n",
              "    </tr>\n",
              "    <tr>\n",
              "      <th>2</th>\n",
              "      <td>May012216560RT22</td>\n",
              "      <td>16560</td>\n",
              "      <td>7/4/2022</td>\n",
              "      <td>2022-07-04</td>\n",
              "      <td>2/5/2022</td>\n",
              "      <td>2.0</td>\n",
              "      <td>RT2</td>\n",
              "      <td>others</td>\n",
              "      <td>3.0</td>\n",
              "      <td>Checked Out</td>\n",
              "      <td>12600</td>\n",
              "      <td>12600</td>\n",
              "      <td>Atliq City</td>\n",
              "      <td>Business</td>\n",
              "      <td>Delhi</td>\n",
              "      <td>2022-07-04</td>\n",
              "      <td>Jul 22</td>\n",
              "      <td>W 28</td>\n",
              "      <td>weekeday</td>\n",
              "    </tr>\n",
              "    <tr>\n",
              "      <th>3</th>\n",
              "      <td>May012216560RT43</td>\n",
              "      <td>16560</td>\n",
              "      <td>7/4/2022</td>\n",
              "      <td>2022-07-04</td>\n",
              "      <td>2/5/2022</td>\n",
              "      <td>2.0</td>\n",
              "      <td>RT4</td>\n",
              "      <td>others</td>\n",
              "      <td>NaN</td>\n",
              "      <td>Cancelled</td>\n",
              "      <td>26600</td>\n",
              "      <td>10640</td>\n",
              "      <td>Atliq City</td>\n",
              "      <td>Business</td>\n",
              "      <td>Delhi</td>\n",
              "      <td>2022-07-04</td>\n",
              "      <td>Jul 22</td>\n",
              "      <td>W 28</td>\n",
              "      <td>weekeday</td>\n",
              "    </tr>\n",
              "    <tr>\n",
              "      <th>4</th>\n",
              "      <td>May012216561RT11</td>\n",
              "      <td>16561</td>\n",
              "      <td>7/4/2022</td>\n",
              "      <td>2022-07-04</td>\n",
              "      <td>3/5/2022</td>\n",
              "      <td>2.0</td>\n",
              "      <td>RT1</td>\n",
              "      <td>tripster</td>\n",
              "      <td>NaN</td>\n",
              "      <td>Checked Out</td>\n",
              "      <td>9100</td>\n",
              "      <td>9100</td>\n",
              "      <td>Atliq Blu</td>\n",
              "      <td>Luxury</td>\n",
              "      <td>Delhi</td>\n",
              "      <td>2022-07-04</td>\n",
              "      <td>Jul 22</td>\n",
              "      <td>W 28</td>\n",
              "      <td>weekeday</td>\n",
              "    </tr>\n",
              "  </tbody>\n",
              "</table>\n",
              "</div>"
            ],
            "text/plain": [
              "          booking_id  property_id booking_date check_in_date checkout_date  \\\n",
              "0   May012216558RT21        16558     7/4/2022    2022-07-04      6/5/2022   \n",
              "1  May012216559RT320        16559     7/4/2022    2022-07-04      2/5/2022   \n",
              "2   May012216560RT22        16560     7/4/2022    2022-07-04      2/5/2022   \n",
              "3   May012216560RT43        16560     7/4/2022    2022-07-04      2/5/2022   \n",
              "4   May012216561RT11        16561     7/4/2022    2022-07-04      3/5/2022   \n",
              "\n",
              "   no_guests room_category booking_platform  ratings_given booking_status  \\\n",
              "0        2.0           RT2           others            NaN    Checked Out   \n",
              "1        3.0           RT3           others            NaN      Cancelled   \n",
              "2        2.0           RT2           others            3.0    Checked Out   \n",
              "3        2.0           RT4           others            NaN      Cancelled   \n",
              "4        2.0           RT1         tripster            NaN    Checked Out   \n",
              "\n",
              "   revenue_generated  revenue_realized  property_name  category    city  \\\n",
              "0              12600             12600   Atliq Grands    Luxury   Delhi   \n",
              "1              22440              8976  Atliq Exotica    Luxury  Mumbai   \n",
              "2              12600             12600     Atliq City  Business   Delhi   \n",
              "3              26600             10640     Atliq City  Business   Delhi   \n",
              "4               9100              9100      Atliq Blu    Luxury   Delhi   \n",
              "\n",
              "        date  mmm yy week no  day_type  \n",
              "0 2022-07-04  Jul 22    W 28  weekeday  \n",
              "1 2022-07-04  Jul 22    W 28  weekeday  \n",
              "2 2022-07-04  Jul 22    W 28  weekeday  \n",
              "3 2022-07-04  Jul 22    W 28  weekeday  \n",
              "4 2022-07-04  Jul 22    W 28  weekeday  "
            ]
          },
          "execution_count": 127,
          "metadata": {},
          "output_type": "execute_result"
        }
      ],
      "source": [
        "df_bookings_all.head()"
      ]
    },
    {
      "cell_type": "code",
      "execution_count": null,
      "id": "10143903-e0fa-4e2a-a8c4-ab9f2d87780d",
      "metadata": {
        "id": "10143903-e0fa-4e2a-a8c4-ab9f2d87780d",
        "outputId": "e1fbb1aa-cdb4-4c5d-a404-7d21774d45ee"
      },
      "outputs": [
        {
          "data": {
            "text/plain": [
              "mmm yy\n",
              "Jul 22    326160921\n",
              "Jun 22    390123323\n",
              "May 22    398286993\n",
              "Name: revenue_realized, dtype: int64"
            ]
          },
          "execution_count": 128,
          "metadata": {},
          "output_type": "execute_result"
        }
      ],
      "source": [
        "df_bookings_all.groupby(\"mmm yy\")[\"revenue_realized\"].sum()"
      ]
    },
    {
      "cell_type": "markdown",
      "id": "01a55502-23e0-478e-b980-cf4d11e84236",
      "metadata": {
        "id": "01a55502-23e0-478e-b980-cf4d11e84236"
      },
      "source": [
        "**Exercise-1:**"
      ]
    },
    {
      "cell_type": "markdown",
      "id": "aaef281e-90e5-4155-8e6c-0285b45d5a4c",
      "metadata": {
        "id": "aaef281e-90e5-4155-8e6c-0285b45d5a4c"
      },
      "source": [
        "Print revenue realized per hotel type"
      ]
    },
    {
      "cell_type": "code",
      "execution_count": null,
      "id": "4be10d0f-7ed3-4806-8b0e-389715b15f10",
      "metadata": {
        "id": "4be10d0f-7ed3-4806-8b0e-389715b15f10",
        "outputId": "5c792347-0c55-4353-d779-41ac4c266f89"
      },
      "outputs": [
        {
          "data": {
            "text/plain": [
              "array(['Atliq Grands', 'Atliq Exotica', 'Atliq City', 'Atliq Blu',\n",
              "       'Atliq Palace', 'Atliq Bay', 'Atliq Seasons'], dtype=object)"
            ]
          },
          "execution_count": 129,
          "metadata": {},
          "output_type": "execute_result"
        }
      ],
      "source": [
        "df_bookings_all.property_name.unique()"
      ]
    },
    {
      "cell_type": "code",
      "execution_count": null,
      "id": "ef4049bf-9f1a-4a6a-b541-21b39d99adcf",
      "metadata": {
        "id": "ef4049bf-9f1a-4a6a-b541-21b39d99adcf",
        "outputId": "a485af49-d0af-4283-8d00-adee4cfb7ede"
      },
      "outputs": [
        {
          "data": {
            "text/plain": [
              "property_name\n",
              "Atliq Seasons     44879898\n",
              "Atliq Grands     135906995\n",
              "Atliq Bay        166244948\n",
              "Atliq Blu        167687033\n",
              "Atliq City       191395886\n",
              "Atliq Palace     202000365\n",
              "Atliq Exotica    206456112\n",
              "Name: revenue_realized, dtype: int64"
            ]
          },
          "execution_count": 130,
          "metadata": {},
          "output_type": "execute_result"
        }
      ],
      "source": [
        "df_bookings_all.groupby(\"property_name\")[\"revenue_realized\"].sum().round(2).sort_values()"
      ]
    },
    {
      "cell_type": "markdown",
      "id": "35ad3829-c003-44fc-b052-d79131155319",
      "metadata": {
        "id": "35ad3829-c003-44fc-b052-d79131155319"
      },
      "source": [
        "**Exercise-2:** Print average rating per city"
      ]
    },
    {
      "cell_type": "code",
      "execution_count": null,
      "id": "9a6e838f-5f96-4d8f-b6df-907c9085dc73",
      "metadata": {
        "id": "9a6e838f-5f96-4d8f-b6df-907c9085dc73",
        "outputId": "b56e3086-2f65-4c11-ea4a-e29d34c71278"
      },
      "outputs": [
        {
          "data": {
            "text/plain": [
              "city\n",
              "Bangalore    3.41\n",
              "Delhi        3.78\n",
              "Hyderabad    3.66\n",
              "Mumbai       3.65\n",
              "Name: ratings_given, dtype: float64"
            ]
          },
          "execution_count": 131,
          "metadata": {},
          "output_type": "execute_result"
        }
      ],
      "source": [
        "df_bookings_all.groupby(\"city\")[\"ratings_given\"].mean().round(2)"
      ]
    },
    {
      "cell_type": "markdown",
      "id": "80c407c4-b485-4070-ade7-2f2d800c223d",
      "metadata": {
        "id": "80c407c4-b485-4070-ade7-2f2d800c223d"
      },
      "source": [
        "**Exercise-3:** Print a pie chart of revenue realized per booking platform"
      ]
    },
    {
      "cell_type": "code",
      "execution_count": null,
      "id": "dce61d16-6199-4dcc-9b01-e37319edbf16",
      "metadata": {
        "id": "dce61d16-6199-4dcc-9b01-e37319edbf16",
        "outputId": "c7fb3638-2b14-4a38-a6ac-8c6b97bcca5c"
      },
      "outputs": [
        {
          "data": {
            "text/plain": [
              "<Axes: ylabel='revenue_realized'>"
            ]
          },
          "execution_count": 132,
          "metadata": {},
          "output_type": "execute_result"
        },
        {
          "data": {
            "image/png": "[encoded data removed]",
            "text/plain": [
              "<Figure size 640x480 with 1 Axes>"
            ]
          },
          "metadata": {},
          "output_type": "display_data"
        }
      ],
      "source": [
        "df_bookings_all.groupby(\"booking_platform\")[\"revenue_realized\"].sum().plot(kind=\"pie\")"
      ]
    }
  ],
  "metadata": {
    "kernelspec": {
      "display_name": "Python 3 (ipykernel)",
      "language": "python",
      "name": "python3"
    },
    "language_info": {
      "codemirror_mode": {
        "name": "ipython",
        "version": 3
      },
      "file_extension": ".py",
      "mimetype": "text/x-python",
      "name": "python",
      "nbconvert_exporter": "python",
      "pygments_lexer": "ipython3",
      "version": "3.12.3"
    },
    "colab": {
      "provenance": [],
      "include_colab_link": true
    }
  },
  "nbformat": 4,
  "nbformat_minor": 5
}